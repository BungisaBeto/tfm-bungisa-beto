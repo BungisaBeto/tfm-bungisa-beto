{
 "cells": [
  {
   "cell_type": "markdown",
   "id": "e6bfb7aa",
   "metadata": {
    "id": "e6bfb7aa"
   },
   "source": [
    "# Predicción del precio de la vivienda mediante aprendizaje automático\n",
    "\n",
    "## Trabajo Final De Master\n",
    "\n",
    "## Universidad de Valladolid\n",
    "\n",
    "#### Bungisa Beto Bibeyi"
   ]
  },
  {
   "cell_type": "markdown",
   "id": "08972af2",
   "metadata": {
    "id": "08972af2"
   },
   "source": [
    "### Desarrollo de un Modelo de Predicción para el Precio de Viviendas"
   ]
  },
  {
   "cell_type": "markdown",
   "id": "c5397096",
   "metadata": {
    "id": "c5397096"
   },
   "source": [
    "### Librerias"
   ]
  },
  {
   "cell_type": "code",
   "execution_count": 75,
   "id": "24c6c646",
   "metadata": {
    "id": "24c6c646"
   },
   "outputs": [],
   "source": [
    "import os\n",
    "import json\n",
    "import pandas as pd\n",
    "import numpy as np\n",
    "import seaborn as sns\n",
    "import matplotlib.pyplot as plt\n",
    "import matplotlib.ticker as ticker"
   ]
  },
  {
   "cell_type": "code",
   "execution_count": 76,
   "id": "e362f9c8",
   "metadata": {
    "id": "e362f9c8"
   },
   "outputs": [],
   "source": [
    "# Modulos\n",
    "from sklearn.pipeline import Pipeline\n",
    "from sklearn.compose import ColumnTransformer\n",
    "from sklearn.preprocessing import StandardScaler, OneHotEncoder"
   ]
  },
  {
   "cell_type": "code",
   "execution_count": 77,
   "id": "43d737a6",
   "metadata": {
    "id": "43d737a6"
   },
   "outputs": [],
   "source": [
    "from sklearn.metrics import mean_squared_error\n",
    "from sklearn.model_selection import train_test_split"
   ]
  },
  {
   "cell_type": "code",
   "execution_count": 78,
   "id": "f6c95e98",
   "metadata": {
    "id": "f6c95e98"
   },
   "outputs": [],
   "source": [
    "import re"
   ]
  },
  {
   "cell_type": "code",
   "execution_count": 79,
   "id": "084ec25f",
   "metadata": {
    "id": "084ec25f"
   },
   "outputs": [],
   "source": [
    "from sklearn.preprocessing import LabelEncoder"
   ]
  },
  {
   "cell_type": "code",
   "execution_count": 80,
   "id": "b87fc0f3",
   "metadata": {
    "id": "b87fc0f3"
   },
   "outputs": [],
   "source": [
    "from sklearn.base import BaseEstimator, TransformerMixin"
   ]
  },
  {
   "cell_type": "code",
   "execution_count": 81,
   "id": "a7bd3f88",
   "metadata": {
    "id": "a7bd3f88"
   },
   "outputs": [],
   "source": [
    "import joblib\n",
    "from datetime import datetime"
   ]
  },
  {
   "cell_type": "code",
   "execution_count": 82,
   "id": "b3e9daa5",
   "metadata": {
    "id": "b3e9daa5"
   },
   "outputs": [],
   "source": [
    "from sklearn.model_selection import train_test_split, cross_val_score,StratifiedKFold"
   ]
  },
  {
   "cell_type": "code",
   "execution_count": 83,
   "id": "986632c9",
   "metadata": {
    "id": "986632c9"
   },
   "outputs": [],
   "source": [
    "from sklearn.linear_model import LinearRegression"
   ]
  },
  {
   "cell_type": "code",
   "execution_count": 84,
   "id": "5a954d7c",
   "metadata": {
    "id": "5a954d7c"
   },
   "outputs": [],
   "source": [
    "from sklearn.ensemble import RandomForestRegressor"
   ]
  },
  {
   "cell_type": "code",
   "execution_count": 85,
   "id": "2c9f23bd",
   "metadata": {
    "id": "2c9f23bd"
   },
   "outputs": [],
   "source": [
    "from sklearn.tree import DecisionTreeRegressor"
   ]
  },
  {
   "cell_type": "code",
   "execution_count": 86,
   "id": "01314084",
   "metadata": {
    "id": "01314084"
   },
   "outputs": [],
   "source": [
    "from sklearn.model_selection import GridSearchCV"
   ]
  },
  {
   "cell_type": "code",
   "execution_count": null,
   "id": "9679824c",
   "metadata": {},
   "outputs": [],
   "source": [
    "pip install xgboost"
   ]
  },
  {
   "cell_type": "code",
   "execution_count": null,
   "id": "ec861236",
   "metadata": {},
   "outputs": [],
   "source": [
    "from xgboost import XGBRegressor"
   ]
  },
  {
   "cell_type": "markdown",
   "id": "80077805",
   "metadata": {
    "id": "80077805"
   },
   "source": [
    "### FUNCIONES"
   ]
  },
  {
   "cell_type": "code",
   "execution_count": 90,
   "id": "967e3dda",
   "metadata": {
    "id": "967e3dda"
   },
   "outputs": [],
   "source": [
    "def crear_modelo(X, y,classifiers,preprocessor):\n",
    "    \"\"\"\n",
    "    Evaluar varios clasificadores en un conjunto de datos.\n",
    "    \"\"\"\n",
    "    results = []\n",
    "    for name, model in classifiers.items():\n",
    "\n",
    "        print(f\"Iniciar entrenamiento y evaluacion modelo '{name}'\")\n",
    "        # Crear el pipeline\n",
    "        pipeline = Pipeline(steps=[\n",
    "            ('preprocessor', preprocessor),\n",
    "            ('classifiers', model)\n",
    "        ])\n",
    "\n",
    "        try:\n",
    "\n",
    "            # Evaluar el modelo usando validación cruzada\n",
    "            scores_MSE = cross_val_score(pipeline, X, y, cv=5, scoring='neg_mean_squared_error')\n",
    "            scores_RMSE = cross_val_score(pipeline, X, y, cv=5, scoring='neg_mean_squared_error')\n",
    "            scores_R2 = cross_val_score(pipeline, X, y, cv=5, scoring='r2')\n",
    "\n",
    "            # cambiar el signo\n",
    "            scores_model_MSE = np.sqrt(-scores_MSE)\n",
    "            mean_score_MSE = scores_model_MSE.mean()\n",
    "            std_MSE = scores_model_MSE.std()\n",
    "            \n",
    "            scores_model_RMSE = np.sqrt(-scores_RMSE)\n",
    "            mean_score_RMSE = scores_model_RMSE.mean()\n",
    "            std_RMSE = scores_model_RMSE.std()\n",
    "            \n",
    "            \n",
    "            \n",
    "       \n",
    "            mean_score_R2 = np.mean(scores_R2)\n",
    "            std_R2 =np.std(scores_R2)\n",
    "\n",
    "            print(f'{name} - Mean score MSE: {mean_score_MSE:.4f}')\n",
    "            print(f'{name} - score MSE: {scores_model_RMSE}')\n",
    "            print(f'{name} - Standard deviation MSE: {std_MSE}')\n",
    "            \n",
    "            print(f'{name} - Mean score RMSE: {mean_score_RMSE:.4f}')\n",
    "            print(f'{name} - score RMSE: {scores_model_RMSE}')\n",
    "            print(f'{name} - Standard deviation RMSE: {std_RMSE}')\n",
    "            \n",
    "            \n",
    "            print(f'{name} - Mean score R2: {mean_score_R2:.4f}')\n",
    "            print(f'{name} - score R2: {scores_R2}')\n",
    "            print(f'{name} - Standard deviation R2: {std_R2}')\n",
    "            \n",
    "            pipeline.fit(X,y)\n",
    "\n",
    "            timestamp = datetime.now().strftime('%Y%m%d%H%M%S')\n",
    "            filename = f'modelos/{name}-{timestamp}.pkl'\n",
    "            #filename = f'modelos/pruebaReg_1.pkl'\n",
    "\n",
    "            # Guardar el pipeline entrenado\n",
    "            joblib.dump(pipeline, filename)\n",
    "            print(f\"Modelo guardado con éxito en '{filename}'\")\n",
    "\n",
    "            results.append({\n",
    "                'Modelo': name,\n",
    "                'ruta':filename,\n",
    "                'score MSE':scores_MSE,\n",
    "                'Mean Negative MSE': mean_score_MSE,\n",
    "                'Standard Deviation MSE': std_MSE,\n",
    "                'score RMSE':scores_RMSE,\n",
    "                'Mean Negative RMSE': mean_score_RMSE,\n",
    "                'Standard Deviation RMSE': std_RMSE,\n",
    "                'score R2':scores_R2,\n",
    "                'Mean Negative R2': mean_score_R2,\n",
    "                'Standard Deviation R2': std_R2\n",
    "            })\n",
    "            \n",
    "            results_df = pd.DataFrame(results)\n",
    "            results_df.to_csv(f'resultados/resultados_modelos_{timestamp}.csv', index=False)\n",
    "\n",
    "            print(f\"Fin entrenamiento y evaluacion modelo '{name}'\")\n",
    "\n",
    "        except ValueError as e:\n",
    "            print(f'Error durante la validación cruzada: {e}')\n",
    "        except Exception as e:\n",
    "            print(f'Error inesperado: {e}')\n"
   ]
  },
  {
   "cell_type": "markdown",
   "id": "bd84bf2b",
   "metadata": {
    "id": "bd84bf2b"
   },
   "source": [
    "### Formato conjunto de datos (CSV)"
   ]
  },
  {
   "cell_type": "markdown",
   "id": "c0abac80",
   "metadata": {
    "id": "c0abac80"
   },
   "source": [
    "### Descripción de los campos"
   ]
  },
  {
   "cell_type": "markdown",
   "id": "ff90a984",
   "metadata": {
    "id": "ff90a984"
   },
   "source": [
    "### Lectura de los datos"
   ]
  },
  {
   "cell_type": "code",
   "execution_count": 91,
   "id": "da867230",
   "metadata": {
    "id": "da867230"
   },
   "outputs": [],
   "source": [
    "viviendas_df = pd.read_csv('datos_procesados/viviendas_procesadas_df.csv')"
   ]
  },
  {
   "cell_type": "markdown",
   "id": "4429e77a",
   "metadata": {
    "id": "4429e77a"
   },
   "source": [
    "### Exploracion inicial de los datos\n",
    "\n",
    "La estructura del fichero json leido es heterogeneos o variable por lo que los objetos pueden tener diferentes conjuntos\n",
    "claves o variar en los tipos de valores asociados a estas claves.  \n",
    "A la hora de cargar los datos se rellenan con valores nulos(NaN) los campos que no estan presentes en todos los objetos.  \n",
    "\n",
    "En esta fase se realizar una observacion inicial sobre el conjunto de datos donde se puede determinar lo siguiente:\n",
    "\n",
    " - El numero de registros y columnas que tiene el conjunto de datos\n",
    " - Como se presentan los datos y si se han cargado correctamente\n",
    " - Renombrar el nombre de las columnas si se considera necesario para mejorar el analisis del conjunto de datos"
   ]
  },
  {
   "cell_type": "code",
   "execution_count": 92,
   "id": "8acbe2c0",
   "metadata": {
    "colab": {
     "base_uri": "https://localhost:8080/"
    },
    "id": "8acbe2c0",
    "outputId": "2df0b196-260a-458d-8908-87188550d280"
   },
   "outputs": [
    {
     "data": {
      "text/plain": [
       "(3256, 17)"
      ]
     },
     "execution_count": 92,
     "metadata": {},
     "output_type": "execute_result"
    }
   ],
   "source": [
    "viviendas_df.shape"
   ]
  },
  {
   "cell_type": "markdown",
   "id": "9dcdb848",
   "metadata": {
    "id": "9dcdb848"
   },
   "source": [
    "##### Observaciones:\n",
    " - Podemos ver que el conjunto de datos cargado consta de 4517 registros y 23 columnas"
   ]
  },
  {
   "cell_type": "markdown",
   "id": "d06244bd",
   "metadata": {
    "id": "d06244bd"
   },
   "source": [
    "#### Información del conjunto de datos"
   ]
  },
  {
   "cell_type": "code",
   "execution_count": 93,
   "id": "a9ededef",
   "metadata": {
    "colab": {
     "base_uri": "https://localhost:8080/",
     "height": 469
    },
    "id": "a9ededef",
    "outputId": "55e01e9a-e009-4985-f70a-62a87325bec1"
   },
   "outputs": [
    {
     "data": {
      "text/html": [
       "<div>\n",
       "<style scoped>\n",
       "    .dataframe tbody tr th:only-of-type {\n",
       "        vertical-align: middle;\n",
       "    }\n",
       "\n",
       "    .dataframe tbody tr th {\n",
       "        vertical-align: top;\n",
       "    }\n",
       "\n",
       "    .dataframe thead th {\n",
       "        text-align: right;\n",
       "    }\n",
       "</style>\n",
       "<table border=\"1\" class=\"dataframe\">\n",
       "  <thead>\n",
       "    <tr style=\"text-align: right;\">\n",
       "      <th></th>\n",
       "      <th>price</th>\n",
       "      <th>propertyType</th>\n",
       "      <th>size</th>\n",
       "      <th>rooms</th>\n",
       "      <th>bathrooms</th>\n",
       "      <th>municipality</th>\n",
       "      <th>latitude</th>\n",
       "      <th>longitude</th>\n",
       "      <th>status</th>\n",
       "      <th>priceByArea</th>\n",
       "      <th>hasParkingSpace</th>\n",
       "      <th>isParkingSpaceIncludedInPrice</th>\n",
       "      <th>typology</th>\n",
       "      <th>subtitle</th>\n",
       "      <th>floor</th>\n",
       "      <th>exterior</th>\n",
       "      <th>hasLift</th>\n",
       "    </tr>\n",
       "  </thead>\n",
       "  <tbody>\n",
       "    <tr>\n",
       "      <th>0</th>\n",
       "      <td>795000.0</td>\n",
       "      <td>flat</td>\n",
       "      <td>201.0</td>\n",
       "      <td>2</td>\n",
       "      <td>2</td>\n",
       "      <td>madrid</td>\n",
       "      <td>40.444223</td>\n",
       "      <td>-3.642674</td>\n",
       "      <td>newdevelopment</td>\n",
       "      <td>3955.0</td>\n",
       "      <td>1</td>\n",
       "      <td>1</td>\n",
       "      <td>flat</td>\n",
       "      <td>concepción</td>\n",
       "      <td>intermedio</td>\n",
       "      <td>1</td>\n",
       "      <td>1</td>\n",
       "    </tr>\n",
       "    <tr>\n",
       "      <th>1</th>\n",
       "      <td>330000.0</td>\n",
       "      <td>flat</td>\n",
       "      <td>65.0</td>\n",
       "      <td>1</td>\n",
       "      <td>1</td>\n",
       "      <td>madrid</td>\n",
       "      <td>40.419601</td>\n",
       "      <td>-3.704022</td>\n",
       "      <td>good</td>\n",
       "      <td>5077.0</td>\n",
       "      <td>0</td>\n",
       "      <td>0</td>\n",
       "      <td>flat</td>\n",
       "      <td>sol</td>\n",
       "      <td>intermedio</td>\n",
       "      <td>0</td>\n",
       "      <td>1</td>\n",
       "    </tr>\n",
       "    <tr>\n",
       "      <th>2</th>\n",
       "      <td>170000.0</td>\n",
       "      <td>chalet</td>\n",
       "      <td>110.0</td>\n",
       "      <td>3</td>\n",
       "      <td>1</td>\n",
       "      <td>campo real</td>\n",
       "      <td>40.339953</td>\n",
       "      <td>-3.382293</td>\n",
       "      <td>good</td>\n",
       "      <td>1545.0</td>\n",
       "      <td>0</td>\n",
       "      <td>0</td>\n",
       "      <td>chalet</td>\n",
       "      <td>campo real</td>\n",
       "      <td>alto</td>\n",
       "      <td>1</td>\n",
       "      <td>0</td>\n",
       "    </tr>\n",
       "    <tr>\n",
       "      <th>3</th>\n",
       "      <td>945000.0</td>\n",
       "      <td>penthouse</td>\n",
       "      <td>185.0</td>\n",
       "      <td>3</td>\n",
       "      <td>3</td>\n",
       "      <td>madrid</td>\n",
       "      <td>40.436027</td>\n",
       "      <td>-3.695607</td>\n",
       "      <td>good</td>\n",
       "      <td>5108.0</td>\n",
       "      <td>0</td>\n",
       "      <td>0</td>\n",
       "      <td>flat</td>\n",
       "      <td>almagro</td>\n",
       "      <td>mediano</td>\n",
       "      <td>1</td>\n",
       "      <td>1</td>\n",
       "    </tr>\n",
       "    <tr>\n",
       "      <th>4</th>\n",
       "      <td>450000.0</td>\n",
       "      <td>flat</td>\n",
       "      <td>110.0</td>\n",
       "      <td>3</td>\n",
       "      <td>2</td>\n",
       "      <td>villaviciosa de odón</td>\n",
       "      <td>40.362803</td>\n",
       "      <td>-3.914905</td>\n",
       "      <td>renew</td>\n",
       "      <td>4091.0</td>\n",
       "      <td>1</td>\n",
       "      <td>1</td>\n",
       "      <td>flat</td>\n",
       "      <td>centro</td>\n",
       "      <td>intermedio</td>\n",
       "      <td>1</td>\n",
       "      <td>1</td>\n",
       "    </tr>\n",
       "  </tbody>\n",
       "</table>\n",
       "</div>"
      ],
      "text/plain": [
       "      price propertyType   size  rooms  bathrooms          municipality  \\\n",
       "0  795000.0         flat  201.0      2          2                madrid   \n",
       "1  330000.0         flat   65.0      1          1                madrid   \n",
       "2  170000.0       chalet  110.0      3          1            campo real   \n",
       "3  945000.0    penthouse  185.0      3          3                madrid   \n",
       "4  450000.0         flat  110.0      3          2  villaviciosa de odón   \n",
       "\n",
       "    latitude  longitude          status  priceByArea  hasParkingSpace  \\\n",
       "0  40.444223  -3.642674  newdevelopment       3955.0                1   \n",
       "1  40.419601  -3.704022            good       5077.0                0   \n",
       "2  40.339953  -3.382293            good       1545.0                0   \n",
       "3  40.436027  -3.695607            good       5108.0                0   \n",
       "4  40.362803  -3.914905           renew       4091.0                1   \n",
       "\n",
       "   isParkingSpaceIncludedInPrice typology    subtitle       floor  exterior  \\\n",
       "0                              1     flat  concepción  intermedio         1   \n",
       "1                              0     flat         sol  intermedio         0   \n",
       "2                              0   chalet  campo real        alto         1   \n",
       "3                              0     flat     almagro     mediano         1   \n",
       "4                              1     flat      centro  intermedio         1   \n",
       "\n",
       "   hasLift  \n",
       "0        1  \n",
       "1        1  \n",
       "2        0  \n",
       "3        1  \n",
       "4        1  "
      ]
     },
     "execution_count": 93,
     "metadata": {},
     "output_type": "execute_result"
    }
   ],
   "source": [
    "viviendas_df[viviendas_df.columns[0:18]].head()"
   ]
  },
  {
   "cell_type": "markdown",
   "id": "377e703b",
   "metadata": {
    "id": "377e703b"
   },
   "source": [
    "#### Visión general de la estructura de datos"
   ]
  },
  {
   "cell_type": "code",
   "execution_count": 94,
   "id": "21fe72ce",
   "metadata": {
    "colab": {
     "base_uri": "https://localhost:8080/"
    },
    "id": "21fe72ce",
    "outputId": "93de949a-58db-4e25-92a5-4364a93ced5a"
   },
   "outputs": [
    {
     "name": "stdout",
     "output_type": "stream",
     "text": [
      "<class 'pandas.core.frame.DataFrame'>\n",
      "RangeIndex: 3256 entries, 0 to 3255\n",
      "Data columns (total 17 columns):\n",
      " #   Column                         Non-Null Count  Dtype  \n",
      "---  ------                         --------------  -----  \n",
      " 0   price                          3256 non-null   float64\n",
      " 1   propertyType                   3256 non-null   object \n",
      " 2   size                           3256 non-null   float64\n",
      " 3   rooms                          3256 non-null   int64  \n",
      " 4   bathrooms                      3256 non-null   int64  \n",
      " 5   municipality                   3256 non-null   object \n",
      " 6   latitude                       3256 non-null   float64\n",
      " 7   longitude                      3256 non-null   float64\n",
      " 8   status                         3256 non-null   object \n",
      " 9   priceByArea                    3256 non-null   float64\n",
      " 10  hasParkingSpace                3256 non-null   int64  \n",
      " 11  isParkingSpaceIncludedInPrice  3256 non-null   int64  \n",
      " 12  typology                       3256 non-null   object \n",
      " 13  subtitle                       3256 non-null   object \n",
      " 14  floor                          3256 non-null   object \n",
      " 15  exterior                       3256 non-null   int64  \n",
      " 16  hasLift                        3256 non-null   int64  \n",
      "dtypes: float64(5), int64(6), object(6)\n",
      "memory usage: 432.6+ KB\n"
     ]
    }
   ],
   "source": [
    "viviendas_df.info()"
   ]
  },
  {
   "cell_type": "markdown",
   "id": "9328ad8c",
   "metadata": {
    "id": "9328ad8c"
   },
   "source": [
    "Se procede a separar el conjuntos de datos en variables categorico y numericos"
   ]
  },
  {
   "cell_type": "markdown",
   "id": "677b45d4",
   "metadata": {
    "id": "677b45d4"
   },
   "source": [
    "Los modelos de aprendizaje automatico solo pueden procesar valores numericos por lo que cuando en conjunto de datos se tiene variables categoricas es necesario realizar un proceso de transformacion de esos valores textuales en numeros.\n",
    "Embedins , label encoding(puede ser problematico con cierto modelo de machine learning)"
   ]
  },
  {
   "cell_type": "markdown",
   "id": "59c1811f",
   "metadata": {},
   "source": [
    "### Separar variables categoricas y numericas"
   ]
  },
  {
   "cell_type": "code",
   "execution_count": 96,
   "id": "8fc47444",
   "metadata": {
    "id": "8fc47444"
   },
   "outputs": [],
   "source": [
    "columnas_numericas_df = viviendas_df.select_dtypes(include=[np.number])\n",
    "columnas_numericas = columnas_numericas_df.drop(['price'],axis=1).columns\n",
    "\n",
    "columnas_categoricas_df = viviendas_df.select_dtypes(exclude=[np.number])\n",
    "columnas_categoricas = columnas_categoricas_df.columns"
   ]
  },
  {
   "cell_type": "markdown",
   "id": "86cbb287",
   "metadata": {},
   "source": [
    "### Procesamiento"
   ]
  },
  {
   "cell_type": "code",
   "execution_count": 97,
   "id": "kikUvygzzKNB",
   "metadata": {
    "colab": {
     "base_uri": "https://localhost:8080/",
     "height": 408
    },
    "id": "kikUvygzzKNB",
    "outputId": "a454d6b0-71fe-411e-be7e-feda8f4c3f36"
   },
   "outputs": [],
   "source": [
    "preprocessor = ColumnTransformer(\n",
    "    transformers=[\n",
    "        ('cat', OneHotEncoder(handle_unknown='ignore'), columnas_categoricas),\n",
    "        ('num', StandardScaler(), columnas_numericas)\n",
    "    ]\n",
    ")"
   ]
  },
  {
   "cell_type": "markdown",
   "id": "496abaf1",
   "metadata": {},
   "source": [
    "### Clasificadores"
   ]
  },
  {
   "cell_type": "code",
   "execution_count": 98,
   "id": "89c23a4c",
   "metadata": {
    "id": "89c23a4c"
   },
   "outputs": [],
   "source": [
    "## Clasificadores\n",
    "classifiersLinearRegression = {\n",
    "    'LinearRegression': LinearRegression()\n",
    "}\n",
    "classifiersRandomForestRegressor = {\n",
    "    'RandomForestRegressor':RandomForestRegressor(n_estimators=10, random_state=42)\n",
    "}\n",
    "\n",
    "classifiersDecisionTreeRegressor = {\n",
    "   'DecisionTreeRegressor':DecisionTreeRegressor(random_state=42)\n",
    "}\n",
    "\n",
    "classifiersXGBRegressor = {\n",
    "   'XGBRegressor':XGBRegressor(objective='reg:squarederror', use_label_encoder=False)\n",
    "}"
   ]
  },
  {
   "cell_type": "markdown",
   "id": "d4d7012d",
   "metadata": {},
   "source": [
    "### Separar en variables predictoras y variable objetivo"
   ]
  },
  {
   "cell_type": "code",
   "execution_count": 100,
   "id": "1a29cddf",
   "metadata": {
    "id": "1a29cddf"
   },
   "outputs": [],
   "source": [
    "X=viviendas_df.drop(['price'],axis=1)"
   ]
  },
  {
   "cell_type": "code",
   "execution_count": 101,
   "id": "c007bd88",
   "metadata": {
    "id": "c007bd88"
   },
   "outputs": [],
   "source": [
    "y= viviendas_df['price']"
   ]
  },
  {
   "cell_type": "markdown",
   "id": "bd626a29",
   "metadata": {
    "id": "f3b70348"
   },
   "source": [
    "### Entrenamiento y validación"
   ]
  },
  {
   "cell_type": "code",
   "execution_count": 105,
   "id": "83ce919a",
   "metadata": {
    "colab": {
     "base_uri": "https://localhost:8080/"
    },
    "id": "83ce919a",
    "outputId": "9bd57e2e-210e-448f-f02b-ac11201d94e2"
   },
   "outputs": [
    {
     "name": "stdout",
     "output_type": "stream",
     "text": [
      "Iniciar entrenamiento y evaluacion modelo 'LinearRegression'\n",
      "LinearRegression - Mean score MSE: 74485.9330\n",
      "LinearRegression - score MSE: [ 64867.003387    64592.24609207  62483.95031023  63279.13266551\n",
      " 117207.33256341]\n",
      "LinearRegression - Standard deviation MSE: 21378.33852483209\n",
      "LinearRegression - Mean score RMSE: 74485.9330\n",
      "LinearRegression - score RMSE: [ 64867.003387    64592.24609207  62483.95031023  63279.13266551\n",
      " 117207.33256341]\n",
      "LinearRegression - Standard deviation RMSE: 21378.33852483209\n",
      "LinearRegression - Mean score R2: 0.7876\n",
      "LinearRegression - score R2: [0.78124231 0.81470225 0.79304999 0.75209854 0.79686991]\n",
      "LinearRegression - Standard deviation R2: 0.020740970416607604\n",
      "Modelo guardado con éxito en 'modelos/LinearRegression-20240825170625.pkl'\n",
      "Fin entrenamiento y evaluacion modelo 'LinearRegression'\n"
     ]
    }
   ],
   "source": [
    "crear_modelo(X, y,classifiersLinearRegression,preprocessor)"
   ]
  },
  {
   "cell_type": "code",
   "execution_count": 106,
   "id": "_hhnKtgVkFkD",
   "metadata": {
    "colab": {
     "base_uri": "https://localhost:8080/"
    },
    "id": "_hhnKtgVkFkD",
    "outputId": "b55bc0f1-7bae-4b8d-95ac-c626d13d19d8"
   },
   "outputs": [
    {
     "name": "stdout",
     "output_type": "stream",
     "text": [
      "Iniciar entrenamiento y evaluacion modelo 'RandomForestRegressor'\n",
      "RandomForestRegressor - Mean score MSE: 20987.3024\n",
      "RandomForestRegressor - score MSE: [10763.46183464  9754.72153054  9690.21084311  9182.55867433\n",
      " 65545.55903587]\n",
      "RandomForestRegressor - Standard deviation MSE: 22285.02759880139\n",
      "RandomForestRegressor - Mean score RMSE: 20987.3024\n",
      "RandomForestRegressor - score RMSE: [10763.46183464  9754.72153054  9690.21084311  9182.55867433\n",
      " 65545.55903587]\n",
      "RandomForestRegressor - Standard deviation RMSE: 22285.02759880139\n",
      "RandomForestRegressor - Mean score R2: 0.9832\n",
      "RandomForestRegressor - score R2: [0.99397691 0.99577391 0.99502269 0.99477982 0.93647404]\n",
      "RandomForestRegressor - Standard deviation R2: 0.023372754263656193\n",
      "Modelo guardado con éxito en 'modelos/RandomForestRegressor-20240825170646.pkl'\n",
      "Fin entrenamiento y evaluacion modelo 'RandomForestRegressor'\n"
     ]
    }
   ],
   "source": [
    "crear_modelo(X, y,classifiersRandomForestRegressor,preprocessor)"
   ]
  },
  {
   "cell_type": "code",
   "execution_count": 107,
   "id": "uG2wxLhKi4Gx",
   "metadata": {
    "colab": {
     "base_uri": "https://localhost:8080/"
    },
    "id": "uG2wxLhKi4Gx",
    "outputId": "c0dea5f8-9806-41af-fded-68e3fa4047ca"
   },
   "outputs": [
    {
     "name": "stdout",
     "output_type": "stream",
     "text": [
      "Iniciar entrenamiento y evaluacion modelo 'DecisionTreeRegressor'\n",
      "DecisionTreeRegressor - Mean score MSE: 26325.8654\n",
      "DecisionTreeRegressor - score MSE: [16334.16472332 14415.08618898 15846.36226215 16753.12285418\n",
      " 68280.59101614]\n",
      "DecisionTreeRegressor - Standard deviation MSE: 20992.175357577355\n",
      "DecisionTreeRegressor - Mean score RMSE: 26325.8654\n",
      "DecisionTreeRegressor - score RMSE: [16334.16472332 14415.08618898 15846.36226215 16753.12285418\n",
      " 68280.59101614]\n",
      "DecisionTreeRegressor - Standard deviation RMSE: 20992.175357577355\n",
      "DecisionTreeRegressor - Mean score R2: 0.9755\n",
      "DecisionTreeRegressor - score R2: [0.98612894 0.99077123 0.98668971 0.98262401 0.93106191]\n",
      "DecisionTreeRegressor - Standard deviation R2: 0.02234672048276261\n",
      "Modelo guardado con éxito en 'modelos/DecisionTreeRegressor-20240825170652.pkl'\n",
      "Fin entrenamiento y evaluacion modelo 'DecisionTreeRegressor'\n"
     ]
    }
   ],
   "source": [
    "crear_modelo(X, y,classifiersDecisionTreeRegressor,preprocessor)"
   ]
  },
  {
   "cell_type": "code",
   "execution_count": 108,
   "id": "99e1e433",
   "metadata": {},
   "outputs": [
    {
     "name": "stdout",
     "output_type": "stream",
     "text": [
      "Iniciar entrenamiento y evaluacion modelo 'XGBRegressor'\n"
     ]
    },
    {
     "name": "stderr",
     "output_type": "stream",
     "text": [
      "C:\\Users\\Arnold\\anaconda3\\lib\\site-packages\\xgboost\\core.py:158: UserWarning: [17:06:59] WARNING: C:\\buildkite-agent\\builds\\buildkite-windows-cpu-autoscaling-group-i-0015a694724fa8361-1\\xgboost\\xgboost-ci-windows\\src\\learner.cc:740: \n",
      "Parameters: { \"use_label_encoder\" } are not used.\n",
      "\n",
      "  warnings.warn(smsg, UserWarning)\n",
      "C:\\Users\\Arnold\\anaconda3\\lib\\site-packages\\xgboost\\core.py:158: UserWarning: [17:06:59] WARNING: C:\\buildkite-agent\\builds\\buildkite-windows-cpu-autoscaling-group-i-0015a694724fa8361-1\\xgboost\\xgboost-ci-windows\\src\\learner.cc:740: \n",
      "Parameters: { \"use_label_encoder\" } are not used.\n",
      "\n",
      "  warnings.warn(smsg, UserWarning)\n",
      "C:\\Users\\Arnold\\anaconda3\\lib\\site-packages\\xgboost\\core.py:158: UserWarning: [17:06:59] WARNING: C:\\buildkite-agent\\builds\\buildkite-windows-cpu-autoscaling-group-i-0015a694724fa8361-1\\xgboost\\xgboost-ci-windows\\src\\learner.cc:740: \n",
      "Parameters: { \"use_label_encoder\" } are not used.\n",
      "\n",
      "  warnings.warn(smsg, UserWarning)\n",
      "C:\\Users\\Arnold\\anaconda3\\lib\\site-packages\\xgboost\\core.py:158: UserWarning: [17:06:59] WARNING: C:\\buildkite-agent\\builds\\buildkite-windows-cpu-autoscaling-group-i-0015a694724fa8361-1\\xgboost\\xgboost-ci-windows\\src\\learner.cc:740: \n",
      "Parameters: { \"use_label_encoder\" } are not used.\n",
      "\n",
      "  warnings.warn(smsg, UserWarning)\n",
      "C:\\Users\\Arnold\\anaconda3\\lib\\site-packages\\xgboost\\core.py:158: UserWarning: [17:06:59] WARNING: C:\\buildkite-agent\\builds\\buildkite-windows-cpu-autoscaling-group-i-0015a694724fa8361-1\\xgboost\\xgboost-ci-windows\\src\\learner.cc:740: \n",
      "Parameters: { \"use_label_encoder\" } are not used.\n",
      "\n",
      "  warnings.warn(smsg, UserWarning)\n",
      "C:\\Users\\Arnold\\anaconda3\\lib\\site-packages\\xgboost\\core.py:158: UserWarning: [17:07:00] WARNING: C:\\buildkite-agent\\builds\\buildkite-windows-cpu-autoscaling-group-i-0015a694724fa8361-1\\xgboost\\xgboost-ci-windows\\src\\learner.cc:740: \n",
      "Parameters: { \"use_label_encoder\" } are not used.\n",
      "\n",
      "  warnings.warn(smsg, UserWarning)\n",
      "C:\\Users\\Arnold\\anaconda3\\lib\\site-packages\\xgboost\\core.py:158: UserWarning: [17:07:00] WARNING: C:\\buildkite-agent\\builds\\buildkite-windows-cpu-autoscaling-group-i-0015a694724fa8361-1\\xgboost\\xgboost-ci-windows\\src\\learner.cc:740: \n",
      "Parameters: { \"use_label_encoder\" } are not used.\n",
      "\n",
      "  warnings.warn(smsg, UserWarning)\n",
      "C:\\Users\\Arnold\\anaconda3\\lib\\site-packages\\xgboost\\core.py:158: UserWarning: [17:07:00] WARNING: C:\\buildkite-agent\\builds\\buildkite-windows-cpu-autoscaling-group-i-0015a694724fa8361-1\\xgboost\\xgboost-ci-windows\\src\\learner.cc:740: \n",
      "Parameters: { \"use_label_encoder\" } are not used.\n",
      "\n",
      "  warnings.warn(smsg, UserWarning)\n",
      "C:\\Users\\Arnold\\anaconda3\\lib\\site-packages\\xgboost\\core.py:158: UserWarning: [17:07:00] WARNING: C:\\buildkite-agent\\builds\\buildkite-windows-cpu-autoscaling-group-i-0015a694724fa8361-1\\xgboost\\xgboost-ci-windows\\src\\learner.cc:740: \n",
      "Parameters: { \"use_label_encoder\" } are not used.\n",
      "\n",
      "  warnings.warn(smsg, UserWarning)\n",
      "C:\\Users\\Arnold\\anaconda3\\lib\\site-packages\\xgboost\\core.py:158: UserWarning: [17:07:00] WARNING: C:\\buildkite-agent\\builds\\buildkite-windows-cpu-autoscaling-group-i-0015a694724fa8361-1\\xgboost\\xgboost-ci-windows\\src\\learner.cc:740: \n",
      "Parameters: { \"use_label_encoder\" } are not used.\n",
      "\n",
      "  warnings.warn(smsg, UserWarning)\n",
      "C:\\Users\\Arnold\\anaconda3\\lib\\site-packages\\xgboost\\core.py:158: UserWarning: [17:07:00] WARNING: C:\\buildkite-agent\\builds\\buildkite-windows-cpu-autoscaling-group-i-0015a694724fa8361-1\\xgboost\\xgboost-ci-windows\\src\\learner.cc:740: \n",
      "Parameters: { \"use_label_encoder\" } are not used.\n",
      "\n",
      "  warnings.warn(smsg, UserWarning)\n",
      "C:\\Users\\Arnold\\anaconda3\\lib\\site-packages\\xgboost\\core.py:158: UserWarning: [17:07:00] WARNING: C:\\buildkite-agent\\builds\\buildkite-windows-cpu-autoscaling-group-i-0015a694724fa8361-1\\xgboost\\xgboost-ci-windows\\src\\learner.cc:740: \n",
      "Parameters: { \"use_label_encoder\" } are not used.\n",
      "\n",
      "  warnings.warn(smsg, UserWarning)\n",
      "C:\\Users\\Arnold\\anaconda3\\lib\\site-packages\\xgboost\\core.py:158: UserWarning: [17:07:00] WARNING: C:\\buildkite-agent\\builds\\buildkite-windows-cpu-autoscaling-group-i-0015a694724fa8361-1\\xgboost\\xgboost-ci-windows\\src\\learner.cc:740: \n",
      "Parameters: { \"use_label_encoder\" } are not used.\n",
      "\n",
      "  warnings.warn(smsg, UserWarning)\n",
      "C:\\Users\\Arnold\\anaconda3\\lib\\site-packages\\xgboost\\core.py:158: UserWarning: [17:07:01] WARNING: C:\\buildkite-agent\\builds\\buildkite-windows-cpu-autoscaling-group-i-0015a694724fa8361-1\\xgboost\\xgboost-ci-windows\\src\\learner.cc:740: \n",
      "Parameters: { \"use_label_encoder\" } are not used.\n",
      "\n",
      "  warnings.warn(smsg, UserWarning)\n",
      "C:\\Users\\Arnold\\anaconda3\\lib\\site-packages\\xgboost\\core.py:158: UserWarning: [17:07:01] WARNING: C:\\buildkite-agent\\builds\\buildkite-windows-cpu-autoscaling-group-i-0015a694724fa8361-1\\xgboost\\xgboost-ci-windows\\src\\learner.cc:740: \n",
      "Parameters: { \"use_label_encoder\" } are not used.\n",
      "\n",
      "  warnings.warn(smsg, UserWarning)\n",
      "C:\\Users\\Arnold\\anaconda3\\lib\\site-packages\\xgboost\\core.py:158: UserWarning: [17:07:01] WARNING: C:\\buildkite-agent\\builds\\buildkite-windows-cpu-autoscaling-group-i-0015a694724fa8361-1\\xgboost\\xgboost-ci-windows\\src\\learner.cc:740: \n",
      "Parameters: { \"use_label_encoder\" } are not used.\n",
      "\n",
      "  warnings.warn(smsg, UserWarning)\n"
     ]
    },
    {
     "name": "stdout",
     "output_type": "stream",
     "text": [
      "XGBRegressor - Mean score MSE: 20167.8083\n",
      "XGBRegressor - score MSE: [10910.26391947  9982.3402112  10273.18809374 10806.26274167\n",
      " 58866.98653417]\n",
      "XGBRegressor - Standard deviation MSE: 19352.593254717263\n",
      "XGBRegressor - Mean score RMSE: 20167.8083\n",
      "XGBRegressor - score RMSE: [10910.26391947  9982.3402112  10273.18809374 10806.26274167\n",
      " 58866.98653417]\n",
      "XGBRegressor - Standard deviation RMSE: 19352.593254717263\n",
      "XGBRegressor - Mean score R2: 0.9851\n",
      "XGBRegressor - score R2: [0.99381149 0.99557438 0.99440579 0.99277049 0.9487601 ]\n",
      "XGBRegressor - Standard deviation R2: 0.01817481216646054\n",
      "Modelo guardado con éxito en 'modelos/XGBRegressor-20240825170701.pkl'\n",
      "Fin entrenamiento y evaluacion modelo 'XGBRegressor'\n"
     ]
    }
   ],
   "source": [
    "crear_modelo(X, y,classifiersXGBRegressor,preprocessor)"
   ]
  },
  {
   "cell_type": "markdown",
   "id": "76d78cdd",
   "metadata": {},
   "source": [
    "### Optimización"
   ]
  },
  {
   "cell_type": "code",
   "execution_count": 111,
   "id": "d46b8abc",
   "metadata": {},
   "outputs": [],
   "source": [
    "param_grid = {\n",
    "    'xgb__n_estimators': [100, 200, 300],\n",
    "    'xgb__learning_rate': [0.01, 0.1, 0.2],\n",
    "    'xgb__max_depth': [3, 6, 9],\n",
    "    'xgb__subsample': [0.8, 1.0],\n",
    "    'xgb__colsample_bytree': [0.8, 1.0]\n",
    "}\n",
    "\n",
    "pipelineXGBReg = Pipeline([\n",
    "    ('preprocessor', preprocessor),\n",
    "    ('xgb', XGBRegressor(objective='reg:squarederror', use_label_encoder=False))\n",
    "])\n",
    "\n",
    "\n",
    "grid_search = GridSearchCV(estimator=pipelineXGBReg,\n",
    "                           param_grid=param_grid,\n",
    "                           scoring='neg_mean_squared_error',\n",
    "                           cv=5, \n",
    "                           n_jobs=-1,  \n",
    "                           verbose=1)"
   ]
  },
  {
   "cell_type": "code",
   "execution_count": 110,
   "id": "73e4f3cf",
   "metadata": {},
   "outputs": [
    {
     "name": "stdout",
     "output_type": "stream",
     "text": [
      "Fitting 5 folds for each of 108 candidates, totalling 540 fits\n"
     ]
    },
    {
     "ename": "AttributeError",
     "evalue": "'dict' object has no attribute 'set_params'",
     "output_type": "error",
     "traceback": [
      "\u001b[1;31m---------------------------------------------------------------------------\u001b[0m",
      "\u001b[1;31m_RemoteTraceback\u001b[0m                          Traceback (most recent call last)",
      "\u001b[1;31m_RemoteTraceback\u001b[0m: \n\"\"\"\nTraceback (most recent call last):\n  File \"C:\\Users\\Arnold\\anaconda3\\lib\\site-packages\\joblib\\externals\\loky\\process_executor.py\", line 436, in _process_worker\n    r = call_item()\n  File \"C:\\Users\\Arnold\\anaconda3\\lib\\site-packages\\joblib\\externals\\loky\\process_executor.py\", line 288, in __call__\n    return self.fn(*self.args, **self.kwargs)\n  File \"C:\\Users\\Arnold\\anaconda3\\lib\\site-packages\\joblib\\_parallel_backends.py\", line 595, in __call__\n    return self.func(*args, **kwargs)\n  File \"C:\\Users\\Arnold\\anaconda3\\lib\\site-packages\\joblib\\parallel.py\", line 263, in __call__\n    return [func(*args, **kwargs)\n  File \"C:\\Users\\Arnold\\anaconda3\\lib\\site-packages\\joblib\\parallel.py\", line 263, in <listcomp>\n    return [func(*args, **kwargs)\n  File \"C:\\Users\\Arnold\\anaconda3\\lib\\site-packages\\sklearn\\utils\\parallel.py\", line 123, in __call__\n    return self.function(*args, **kwargs)\n  File \"C:\\Users\\Arnold\\anaconda3\\lib\\site-packages\\sklearn\\model_selection\\_validation.py\", line 674, in _fit_and_score\n    estimator = estimator.set_params(**cloned_parameters)\n  File \"C:\\Users\\Arnold\\anaconda3\\lib\\site-packages\\sklearn\\pipeline.py\", line 211, in set_params\n    self._set_params(\"steps\", **kwargs)\n  File \"C:\\Users\\Arnold\\anaconda3\\lib\\site-packages\\sklearn\\utils\\metaestimators.py\", line 70, in _set_params\n    super().set_params(**params)\n  File \"C:\\Users\\Arnold\\anaconda3\\lib\\site-packages\\sklearn\\base.py\", line 217, in set_params\n    valid_params[key].set_params(**sub_params)\nAttributeError: 'dict' object has no attribute 'set_params'\n\"\"\"",
      "\nThe above exception was the direct cause of the following exception:\n",
      "\u001b[1;31mAttributeError\u001b[0m                            Traceback (most recent call last)",
      "Cell \u001b[1;32mIn[110], line 1\u001b[0m\n\u001b[1;32m----> 1\u001b[0m \u001b[43mgrid_search\u001b[49m\u001b[38;5;241;43m.\u001b[39;49m\u001b[43mfit\u001b[49m\u001b[43m(\u001b[49m\u001b[43mX\u001b[49m\u001b[43m,\u001b[49m\u001b[43m \u001b[49m\u001b[43my\u001b[49m\u001b[43m)\u001b[49m\n",
      "File \u001b[1;32m~\\anaconda3\\lib\\site-packages\\sklearn\\model_selection\\_search.py:874\u001b[0m, in \u001b[0;36mBaseSearchCV.fit\u001b[1;34m(self, X, y, groups, **fit_params)\u001b[0m\n\u001b[0;32m    868\u001b[0m     results \u001b[38;5;241m=\u001b[39m \u001b[38;5;28mself\u001b[39m\u001b[38;5;241m.\u001b[39m_format_results(\n\u001b[0;32m    869\u001b[0m         all_candidate_params, n_splits, all_out, all_more_results\n\u001b[0;32m    870\u001b[0m     )\n\u001b[0;32m    872\u001b[0m     \u001b[38;5;28;01mreturn\u001b[39;00m results\n\u001b[1;32m--> 874\u001b[0m \u001b[38;5;28;43mself\u001b[39;49m\u001b[38;5;241;43m.\u001b[39;49m\u001b[43m_run_search\u001b[49m\u001b[43m(\u001b[49m\u001b[43mevaluate_candidates\u001b[49m\u001b[43m)\u001b[49m\n\u001b[0;32m    876\u001b[0m \u001b[38;5;66;03m# multimetric is determined here because in the case of a callable\u001b[39;00m\n\u001b[0;32m    877\u001b[0m \u001b[38;5;66;03m# self.scoring the return type is only known after calling\u001b[39;00m\n\u001b[0;32m    878\u001b[0m first_test_score \u001b[38;5;241m=\u001b[39m all_out[\u001b[38;5;241m0\u001b[39m][\u001b[38;5;124m\"\u001b[39m\u001b[38;5;124mtest_scores\u001b[39m\u001b[38;5;124m\"\u001b[39m]\n",
      "File \u001b[1;32m~\\anaconda3\\lib\\site-packages\\sklearn\\model_selection\\_search.py:1388\u001b[0m, in \u001b[0;36mGridSearchCV._run_search\u001b[1;34m(self, evaluate_candidates)\u001b[0m\n\u001b[0;32m   1386\u001b[0m \u001b[38;5;28;01mdef\u001b[39;00m \u001b[38;5;21m_run_search\u001b[39m(\u001b[38;5;28mself\u001b[39m, evaluate_candidates):\n\u001b[0;32m   1387\u001b[0m \u001b[38;5;250m    \u001b[39m\u001b[38;5;124;03m\"\"\"Search all candidates in param_grid\"\"\"\u001b[39;00m\n\u001b[1;32m-> 1388\u001b[0m     \u001b[43mevaluate_candidates\u001b[49m\u001b[43m(\u001b[49m\u001b[43mParameterGrid\u001b[49m\u001b[43m(\u001b[49m\u001b[38;5;28;43mself\u001b[39;49m\u001b[38;5;241;43m.\u001b[39;49m\u001b[43mparam_grid\u001b[49m\u001b[43m)\u001b[49m\u001b[43m)\u001b[49m\n",
      "File \u001b[1;32m~\\anaconda3\\lib\\site-packages\\sklearn\\model_selection\\_search.py:821\u001b[0m, in \u001b[0;36mBaseSearchCV.fit.<locals>.evaluate_candidates\u001b[1;34m(candidate_params, cv, more_results)\u001b[0m\n\u001b[0;32m    813\u001b[0m \u001b[38;5;28;01mif\u001b[39;00m \u001b[38;5;28mself\u001b[39m\u001b[38;5;241m.\u001b[39mverbose \u001b[38;5;241m>\u001b[39m \u001b[38;5;241m0\u001b[39m:\n\u001b[0;32m    814\u001b[0m     \u001b[38;5;28mprint\u001b[39m(\n\u001b[0;32m    815\u001b[0m         \u001b[38;5;124m\"\u001b[39m\u001b[38;5;124mFitting \u001b[39m\u001b[38;5;132;01m{0}\u001b[39;00m\u001b[38;5;124m folds for each of \u001b[39m\u001b[38;5;132;01m{1}\u001b[39;00m\u001b[38;5;124m candidates,\u001b[39m\u001b[38;5;124m\"\u001b[39m\n\u001b[0;32m    816\u001b[0m         \u001b[38;5;124m\"\u001b[39m\u001b[38;5;124m totalling \u001b[39m\u001b[38;5;132;01m{2}\u001b[39;00m\u001b[38;5;124m fits\u001b[39m\u001b[38;5;124m\"\u001b[39m\u001b[38;5;241m.\u001b[39mformat(\n\u001b[0;32m    817\u001b[0m             n_splits, n_candidates, n_candidates \u001b[38;5;241m*\u001b[39m n_splits\n\u001b[0;32m    818\u001b[0m         )\n\u001b[0;32m    819\u001b[0m     )\n\u001b[1;32m--> 821\u001b[0m out \u001b[38;5;241m=\u001b[39m \u001b[43mparallel\u001b[49m\u001b[43m(\u001b[49m\n\u001b[0;32m    822\u001b[0m \u001b[43m    \u001b[49m\u001b[43mdelayed\u001b[49m\u001b[43m(\u001b[49m\u001b[43m_fit_and_score\u001b[49m\u001b[43m)\u001b[49m\u001b[43m(\u001b[49m\n\u001b[0;32m    823\u001b[0m \u001b[43m        \u001b[49m\u001b[43mclone\u001b[49m\u001b[43m(\u001b[49m\u001b[43mbase_estimator\u001b[49m\u001b[43m)\u001b[49m\u001b[43m,\u001b[49m\n\u001b[0;32m    824\u001b[0m \u001b[43m        \u001b[49m\u001b[43mX\u001b[49m\u001b[43m,\u001b[49m\n\u001b[0;32m    825\u001b[0m \u001b[43m        \u001b[49m\u001b[43my\u001b[49m\u001b[43m,\u001b[49m\n\u001b[0;32m    826\u001b[0m \u001b[43m        \u001b[49m\u001b[43mtrain\u001b[49m\u001b[38;5;241;43m=\u001b[39;49m\u001b[43mtrain\u001b[49m\u001b[43m,\u001b[49m\n\u001b[0;32m    827\u001b[0m \u001b[43m        \u001b[49m\u001b[43mtest\u001b[49m\u001b[38;5;241;43m=\u001b[39;49m\u001b[43mtest\u001b[49m\u001b[43m,\u001b[49m\n\u001b[0;32m    828\u001b[0m \u001b[43m        \u001b[49m\u001b[43mparameters\u001b[49m\u001b[38;5;241;43m=\u001b[39;49m\u001b[43mparameters\u001b[49m\u001b[43m,\u001b[49m\n\u001b[0;32m    829\u001b[0m \u001b[43m        \u001b[49m\u001b[43msplit_progress\u001b[49m\u001b[38;5;241;43m=\u001b[39;49m\u001b[43m(\u001b[49m\u001b[43msplit_idx\u001b[49m\u001b[43m,\u001b[49m\u001b[43m \u001b[49m\u001b[43mn_splits\u001b[49m\u001b[43m)\u001b[49m\u001b[43m,\u001b[49m\n\u001b[0;32m    830\u001b[0m \u001b[43m        \u001b[49m\u001b[43mcandidate_progress\u001b[49m\u001b[38;5;241;43m=\u001b[39;49m\u001b[43m(\u001b[49m\u001b[43mcand_idx\u001b[49m\u001b[43m,\u001b[49m\u001b[43m \u001b[49m\u001b[43mn_candidates\u001b[49m\u001b[43m)\u001b[49m\u001b[43m,\u001b[49m\n\u001b[0;32m    831\u001b[0m \u001b[43m        \u001b[49m\u001b[38;5;241;43m*\u001b[39;49m\u001b[38;5;241;43m*\u001b[39;49m\u001b[43mfit_and_score_kwargs\u001b[49m\u001b[43m,\u001b[49m\n\u001b[0;32m    832\u001b[0m \u001b[43m    \u001b[49m\u001b[43m)\u001b[49m\n\u001b[0;32m    833\u001b[0m \u001b[43m    \u001b[49m\u001b[38;5;28;43;01mfor\u001b[39;49;00m\u001b[43m \u001b[49m\u001b[43m(\u001b[49m\u001b[43mcand_idx\u001b[49m\u001b[43m,\u001b[49m\u001b[43m \u001b[49m\u001b[43mparameters\u001b[49m\u001b[43m)\u001b[49m\u001b[43m,\u001b[49m\u001b[43m \u001b[49m\u001b[43m(\u001b[49m\u001b[43msplit_idx\u001b[49m\u001b[43m,\u001b[49m\u001b[43m \u001b[49m\u001b[43m(\u001b[49m\u001b[43mtrain\u001b[49m\u001b[43m,\u001b[49m\u001b[43m \u001b[49m\u001b[43mtest\u001b[49m\u001b[43m)\u001b[49m\u001b[43m)\u001b[49m\u001b[43m \u001b[49m\u001b[38;5;129;43;01min\u001b[39;49;00m\u001b[43m \u001b[49m\u001b[43mproduct\u001b[49m\u001b[43m(\u001b[49m\n\u001b[0;32m    834\u001b[0m \u001b[43m        \u001b[49m\u001b[38;5;28;43menumerate\u001b[39;49m\u001b[43m(\u001b[49m\u001b[43mcandidate_params\u001b[49m\u001b[43m)\u001b[49m\u001b[43m,\u001b[49m\u001b[43m \u001b[49m\u001b[38;5;28;43menumerate\u001b[39;49m\u001b[43m(\u001b[49m\u001b[43mcv\u001b[49m\u001b[38;5;241;43m.\u001b[39;49m\u001b[43msplit\u001b[49m\u001b[43m(\u001b[49m\u001b[43mX\u001b[49m\u001b[43m,\u001b[49m\u001b[43m \u001b[49m\u001b[43my\u001b[49m\u001b[43m,\u001b[49m\u001b[43m \u001b[49m\u001b[43mgroups\u001b[49m\u001b[43m)\u001b[49m\u001b[43m)\u001b[49m\n\u001b[0;32m    835\u001b[0m \u001b[43m    \u001b[49m\u001b[43m)\u001b[49m\n\u001b[0;32m    836\u001b[0m \u001b[43m\u001b[49m\u001b[43m)\u001b[49m\n\u001b[0;32m    838\u001b[0m \u001b[38;5;28;01mif\u001b[39;00m \u001b[38;5;28mlen\u001b[39m(out) \u001b[38;5;241m<\u001b[39m \u001b[38;5;241m1\u001b[39m:\n\u001b[0;32m    839\u001b[0m     \u001b[38;5;28;01mraise\u001b[39;00m \u001b[38;5;167;01mValueError\u001b[39;00m(\n\u001b[0;32m    840\u001b[0m         \u001b[38;5;124m\"\u001b[39m\u001b[38;5;124mNo fits were performed. \u001b[39m\u001b[38;5;124m\"\u001b[39m\n\u001b[0;32m    841\u001b[0m         \u001b[38;5;124m\"\u001b[39m\u001b[38;5;124mWas the CV iterator empty? \u001b[39m\u001b[38;5;124m\"\u001b[39m\n\u001b[0;32m    842\u001b[0m         \u001b[38;5;124m\"\u001b[39m\u001b[38;5;124mWere there no candidates?\u001b[39m\u001b[38;5;124m\"\u001b[39m\n\u001b[0;32m    843\u001b[0m     )\n",
      "File \u001b[1;32m~\\anaconda3\\lib\\site-packages\\sklearn\\utils\\parallel.py:63\u001b[0m, in \u001b[0;36mParallel.__call__\u001b[1;34m(self, iterable)\u001b[0m\n\u001b[0;32m     58\u001b[0m config \u001b[38;5;241m=\u001b[39m get_config()\n\u001b[0;32m     59\u001b[0m iterable_with_config \u001b[38;5;241m=\u001b[39m (\n\u001b[0;32m     60\u001b[0m     (_with_config(delayed_func, config), args, kwargs)\n\u001b[0;32m     61\u001b[0m     \u001b[38;5;28;01mfor\u001b[39;00m delayed_func, args, kwargs \u001b[38;5;129;01min\u001b[39;00m iterable\n\u001b[0;32m     62\u001b[0m )\n\u001b[1;32m---> 63\u001b[0m \u001b[38;5;28;01mreturn\u001b[39;00m \u001b[38;5;28;43msuper\u001b[39;49m\u001b[43m(\u001b[49m\u001b[43m)\u001b[49m\u001b[38;5;241;43m.\u001b[39;49m\u001b[38;5;21;43m__call__\u001b[39;49m\u001b[43m(\u001b[49m\u001b[43miterable_with_config\u001b[49m\u001b[43m)\u001b[49m\n",
      "File \u001b[1;32m~\\anaconda3\\lib\\site-packages\\joblib\\parallel.py:1061\u001b[0m, in \u001b[0;36mParallel.__call__\u001b[1;34m(self, iterable)\u001b[0m\n\u001b[0;32m   1058\u001b[0m     \u001b[38;5;28mself\u001b[39m\u001b[38;5;241m.\u001b[39m_iterating \u001b[38;5;241m=\u001b[39m \u001b[38;5;28;01mFalse\u001b[39;00m\n\u001b[0;32m   1060\u001b[0m \u001b[38;5;28;01mwith\u001b[39;00m \u001b[38;5;28mself\u001b[39m\u001b[38;5;241m.\u001b[39m_backend\u001b[38;5;241m.\u001b[39mretrieval_context():\n\u001b[1;32m-> 1061\u001b[0m     \u001b[38;5;28;43mself\u001b[39;49m\u001b[38;5;241;43m.\u001b[39;49m\u001b[43mretrieve\u001b[49m\u001b[43m(\u001b[49m\u001b[43m)\u001b[49m\n\u001b[0;32m   1062\u001b[0m \u001b[38;5;66;03m# Make sure that we get a last message telling us we are done\u001b[39;00m\n\u001b[0;32m   1063\u001b[0m elapsed_time \u001b[38;5;241m=\u001b[39m time\u001b[38;5;241m.\u001b[39mtime() \u001b[38;5;241m-\u001b[39m \u001b[38;5;28mself\u001b[39m\u001b[38;5;241m.\u001b[39m_start_time\n",
      "File \u001b[1;32m~\\anaconda3\\lib\\site-packages\\joblib\\parallel.py:938\u001b[0m, in \u001b[0;36mParallel.retrieve\u001b[1;34m(self)\u001b[0m\n\u001b[0;32m    936\u001b[0m \u001b[38;5;28;01mtry\u001b[39;00m:\n\u001b[0;32m    937\u001b[0m     \u001b[38;5;28;01mif\u001b[39;00m \u001b[38;5;28mgetattr\u001b[39m(\u001b[38;5;28mself\u001b[39m\u001b[38;5;241m.\u001b[39m_backend, \u001b[38;5;124m'\u001b[39m\u001b[38;5;124msupports_timeout\u001b[39m\u001b[38;5;124m'\u001b[39m, \u001b[38;5;28;01mFalse\u001b[39;00m):\n\u001b[1;32m--> 938\u001b[0m         \u001b[38;5;28mself\u001b[39m\u001b[38;5;241m.\u001b[39m_output\u001b[38;5;241m.\u001b[39mextend(\u001b[43mjob\u001b[49m\u001b[38;5;241;43m.\u001b[39;49m\u001b[43mget\u001b[49m\u001b[43m(\u001b[49m\u001b[43mtimeout\u001b[49m\u001b[38;5;241;43m=\u001b[39;49m\u001b[38;5;28;43mself\u001b[39;49m\u001b[38;5;241;43m.\u001b[39;49m\u001b[43mtimeout\u001b[49m\u001b[43m)\u001b[49m)\n\u001b[0;32m    939\u001b[0m     \u001b[38;5;28;01melse\u001b[39;00m:\n\u001b[0;32m    940\u001b[0m         \u001b[38;5;28mself\u001b[39m\u001b[38;5;241m.\u001b[39m_output\u001b[38;5;241m.\u001b[39mextend(job\u001b[38;5;241m.\u001b[39mget())\n",
      "File \u001b[1;32m~\\anaconda3\\lib\\site-packages\\joblib\\_parallel_backends.py:542\u001b[0m, in \u001b[0;36mLokyBackend.wrap_future_result\u001b[1;34m(future, timeout)\u001b[0m\n\u001b[0;32m    539\u001b[0m \u001b[38;5;250m\u001b[39m\u001b[38;5;124;03m\"\"\"Wrapper for Future.result to implement the same behaviour as\u001b[39;00m\n\u001b[0;32m    540\u001b[0m \u001b[38;5;124;03mAsyncResults.get from multiprocessing.\"\"\"\u001b[39;00m\n\u001b[0;32m    541\u001b[0m \u001b[38;5;28;01mtry\u001b[39;00m:\n\u001b[1;32m--> 542\u001b[0m     \u001b[38;5;28;01mreturn\u001b[39;00m \u001b[43mfuture\u001b[49m\u001b[38;5;241;43m.\u001b[39;49m\u001b[43mresult\u001b[49m\u001b[43m(\u001b[49m\u001b[43mtimeout\u001b[49m\u001b[38;5;241;43m=\u001b[39;49m\u001b[43mtimeout\u001b[49m\u001b[43m)\u001b[49m\n\u001b[0;32m    543\u001b[0m \u001b[38;5;28;01mexcept\u001b[39;00m CfTimeoutError \u001b[38;5;28;01mas\u001b[39;00m e:\n\u001b[0;32m    544\u001b[0m     \u001b[38;5;28;01mraise\u001b[39;00m \u001b[38;5;167;01mTimeoutError\u001b[39;00m \u001b[38;5;28;01mfrom\u001b[39;00m \u001b[38;5;21;01me\u001b[39;00m\n",
      "File \u001b[1;32m~\\anaconda3\\lib\\concurrent\\futures\\_base.py:458\u001b[0m, in \u001b[0;36mFuture.result\u001b[1;34m(self, timeout)\u001b[0m\n\u001b[0;32m    456\u001b[0m     \u001b[38;5;28;01mraise\u001b[39;00m CancelledError()\n\u001b[0;32m    457\u001b[0m \u001b[38;5;28;01melif\u001b[39;00m \u001b[38;5;28mself\u001b[39m\u001b[38;5;241m.\u001b[39m_state \u001b[38;5;241m==\u001b[39m FINISHED:\n\u001b[1;32m--> 458\u001b[0m     \u001b[38;5;28;01mreturn\u001b[39;00m \u001b[38;5;28;43mself\u001b[39;49m\u001b[38;5;241;43m.\u001b[39;49m\u001b[43m__get_result\u001b[49m\u001b[43m(\u001b[49m\u001b[43m)\u001b[49m\n\u001b[0;32m    459\u001b[0m \u001b[38;5;28;01melse\u001b[39;00m:\n\u001b[0;32m    460\u001b[0m     \u001b[38;5;28;01mraise\u001b[39;00m \u001b[38;5;167;01mTimeoutError\u001b[39;00m()\n",
      "File \u001b[1;32m~\\anaconda3\\lib\\concurrent\\futures\\_base.py:403\u001b[0m, in \u001b[0;36mFuture.__get_result\u001b[1;34m(self)\u001b[0m\n\u001b[0;32m    401\u001b[0m \u001b[38;5;28;01mif\u001b[39;00m \u001b[38;5;28mself\u001b[39m\u001b[38;5;241m.\u001b[39m_exception:\n\u001b[0;32m    402\u001b[0m     \u001b[38;5;28;01mtry\u001b[39;00m:\n\u001b[1;32m--> 403\u001b[0m         \u001b[38;5;28;01mraise\u001b[39;00m \u001b[38;5;28mself\u001b[39m\u001b[38;5;241m.\u001b[39m_exception\n\u001b[0;32m    404\u001b[0m     \u001b[38;5;28;01mfinally\u001b[39;00m:\n\u001b[0;32m    405\u001b[0m         \u001b[38;5;66;03m# Break a reference cycle with the exception in self._exception\u001b[39;00m\n\u001b[0;32m    406\u001b[0m         \u001b[38;5;28mself\u001b[39m \u001b[38;5;241m=\u001b[39m \u001b[38;5;28;01mNone\u001b[39;00m\n",
      "\u001b[1;31mAttributeError\u001b[0m: 'dict' object has no attribute 'set_params'"
     ]
    }
   ],
   "source": [
    "grid_search.fit(X, y)"
   ]
  },
  {
   "cell_type": "code",
   "execution_count": 363,
   "id": "b14c53b8",
   "metadata": {},
   "outputs": [
    {
     "data": {
      "text/plain": [
       "{'xgb__colsample_bytree': 0.8,\n",
       " 'xgb__learning_rate': 0.1,\n",
       " 'xgb__max_depth': 6,\n",
       " 'xgb__n_estimators': 300,\n",
       " 'xgb__subsample': 0.8}"
      ]
     },
     "execution_count": 363,
     "metadata": {},
     "output_type": "execute_result"
    }
   ],
   "source": [
    "grid_search.best_params_"
   ]
  },
  {
   "cell_type": "code",
   "execution_count": 364,
   "id": "7512cfe0",
   "metadata": {},
   "outputs": [],
   "source": [
    "classifiersXGBRegressorRend = {\n",
    "    'XGBRegressor':XGBRegressor(objective='reg:squarederror', use_label_encoder=False,colsample_bytree=0.8,learning_rate=0.1,max_depth=6, n_estimators=300,subsample=0.8  )\n",
    "}"
   ]
  },
  {
   "cell_type": "code",
   "execution_count": 375,
   "id": "ce2ec33d",
   "metadata": {},
   "outputs": [
    {
     "name": "stdout",
     "output_type": "stream",
     "text": [
      "Iniciar entrenamiento y evaluacion modelo 'XGBRegressor'\n"
     ]
    },
    {
     "name": "stderr",
     "output_type": "stream",
     "text": [
      "C:\\Users\\Arnold\\anaconda3\\lib\\site-packages\\xgboost\\core.py:158: UserWarning: [04:21:24] WARNING: C:\\buildkite-agent\\builds\\buildkite-windows-cpu-autoscaling-group-i-0015a694724fa8361-1\\xgboost\\xgboost-ci-windows\\src\\learner.cc:740: \n",
      "Parameters: { \"use_label_encoder\" } are not used.\n",
      "\n",
      "  warnings.warn(smsg, UserWarning)\n",
      "C:\\Users\\Arnold\\anaconda3\\lib\\site-packages\\xgboost\\core.py:158: UserWarning: [04:21:24] WARNING: C:\\buildkite-agent\\builds\\buildkite-windows-cpu-autoscaling-group-i-0015a694724fa8361-1\\xgboost\\xgboost-ci-windows\\src\\learner.cc:740: \n",
      "Parameters: { \"use_label_encoder\" } are not used.\n",
      "\n",
      "  warnings.warn(smsg, UserWarning)\n",
      "C:\\Users\\Arnold\\anaconda3\\lib\\site-packages\\xgboost\\core.py:158: UserWarning: [04:21:25] WARNING: C:\\buildkite-agent\\builds\\buildkite-windows-cpu-autoscaling-group-i-0015a694724fa8361-1\\xgboost\\xgboost-ci-windows\\src\\learner.cc:740: \n",
      "Parameters: { \"use_label_encoder\" } are not used.\n",
      "\n",
      "  warnings.warn(smsg, UserWarning)\n",
      "C:\\Users\\Arnold\\anaconda3\\lib\\site-packages\\xgboost\\core.py:158: UserWarning: [04:21:25] WARNING: C:\\buildkite-agent\\builds\\buildkite-windows-cpu-autoscaling-group-i-0015a694724fa8361-1\\xgboost\\xgboost-ci-windows\\src\\learner.cc:740: \n",
      "Parameters: { \"use_label_encoder\" } are not used.\n",
      "\n",
      "  warnings.warn(smsg, UserWarning)\n",
      "C:\\Users\\Arnold\\anaconda3\\lib\\site-packages\\xgboost\\core.py:158: UserWarning: [04:21:25] WARNING: C:\\buildkite-agent\\builds\\buildkite-windows-cpu-autoscaling-group-i-0015a694724fa8361-1\\xgboost\\xgboost-ci-windows\\src\\learner.cc:740: \n",
      "Parameters: { \"use_label_encoder\" } are not used.\n",
      "\n",
      "  warnings.warn(smsg, UserWarning)\n",
      "C:\\Users\\Arnold\\anaconda3\\lib\\site-packages\\xgboost\\core.py:158: UserWarning: [04:21:25] WARNING: C:\\buildkite-agent\\builds\\buildkite-windows-cpu-autoscaling-group-i-0015a694724fa8361-1\\xgboost\\xgboost-ci-windows\\src\\learner.cc:740: \n",
      "Parameters: { \"use_label_encoder\" } are not used.\n",
      "\n",
      "  warnings.warn(smsg, UserWarning)\n",
      "C:\\Users\\Arnold\\anaconda3\\lib\\site-packages\\xgboost\\core.py:158: UserWarning: [04:21:26] WARNING: C:\\buildkite-agent\\builds\\buildkite-windows-cpu-autoscaling-group-i-0015a694724fa8361-1\\xgboost\\xgboost-ci-windows\\src\\learner.cc:740: \n",
      "Parameters: { \"use_label_encoder\" } are not used.\n",
      "\n",
      "  warnings.warn(smsg, UserWarning)\n",
      "C:\\Users\\Arnold\\anaconda3\\lib\\site-packages\\xgboost\\core.py:158: UserWarning: [04:21:26] WARNING: C:\\buildkite-agent\\builds\\buildkite-windows-cpu-autoscaling-group-i-0015a694724fa8361-1\\xgboost\\xgboost-ci-windows\\src\\learner.cc:740: \n",
      "Parameters: { \"use_label_encoder\" } are not used.\n",
      "\n",
      "  warnings.warn(smsg, UserWarning)\n",
      "C:\\Users\\Arnold\\anaconda3\\lib\\site-packages\\xgboost\\core.py:158: UserWarning: [04:21:26] WARNING: C:\\buildkite-agent\\builds\\buildkite-windows-cpu-autoscaling-group-i-0015a694724fa8361-1\\xgboost\\xgboost-ci-windows\\src\\learner.cc:740: \n",
      "Parameters: { \"use_label_encoder\" } are not used.\n",
      "\n",
      "  warnings.warn(smsg, UserWarning)\n",
      "C:\\Users\\Arnold\\anaconda3\\lib\\site-packages\\xgboost\\core.py:158: UserWarning: [04:21:26] WARNING: C:\\buildkite-agent\\builds\\buildkite-windows-cpu-autoscaling-group-i-0015a694724fa8361-1\\xgboost\\xgboost-ci-windows\\src\\learner.cc:740: \n",
      "Parameters: { \"use_label_encoder\" } are not used.\n",
      "\n",
      "  warnings.warn(smsg, UserWarning)\n",
      "C:\\Users\\Arnold\\anaconda3\\lib\\site-packages\\xgboost\\core.py:158: UserWarning: [04:21:27] WARNING: C:\\buildkite-agent\\builds\\buildkite-windows-cpu-autoscaling-group-i-0015a694724fa8361-1\\xgboost\\xgboost-ci-windows\\src\\learner.cc:740: \n",
      "Parameters: { \"use_label_encoder\" } are not used.\n",
      "\n",
      "  warnings.warn(smsg, UserWarning)\n",
      "C:\\Users\\Arnold\\anaconda3\\lib\\site-packages\\xgboost\\core.py:158: UserWarning: [04:21:27] WARNING: C:\\buildkite-agent\\builds\\buildkite-windows-cpu-autoscaling-group-i-0015a694724fa8361-1\\xgboost\\xgboost-ci-windows\\src\\learner.cc:740: \n",
      "Parameters: { \"use_label_encoder\" } are not used.\n",
      "\n",
      "  warnings.warn(smsg, UserWarning)\n",
      "C:\\Users\\Arnold\\anaconda3\\lib\\site-packages\\xgboost\\core.py:158: UserWarning: [04:21:27] WARNING: C:\\buildkite-agent\\builds\\buildkite-windows-cpu-autoscaling-group-i-0015a694724fa8361-1\\xgboost\\xgboost-ci-windows\\src\\learner.cc:740: \n",
      "Parameters: { \"use_label_encoder\" } are not used.\n",
      "\n",
      "  warnings.warn(smsg, UserWarning)\n",
      "C:\\Users\\Arnold\\anaconda3\\lib\\site-packages\\xgboost\\core.py:158: UserWarning: [04:21:28] WARNING: C:\\buildkite-agent\\builds\\buildkite-windows-cpu-autoscaling-group-i-0015a694724fa8361-1\\xgboost\\xgboost-ci-windows\\src\\learner.cc:740: \n",
      "Parameters: { \"use_label_encoder\" } are not used.\n",
      "\n",
      "  warnings.warn(smsg, UserWarning)\n",
      "C:\\Users\\Arnold\\anaconda3\\lib\\site-packages\\xgboost\\core.py:158: UserWarning: [04:21:28] WARNING: C:\\buildkite-agent\\builds\\buildkite-windows-cpu-autoscaling-group-i-0015a694724fa8361-1\\xgboost\\xgboost-ci-windows\\src\\learner.cc:740: \n",
      "Parameters: { \"use_label_encoder\" } are not used.\n",
      "\n",
      "  warnings.warn(smsg, UserWarning)\n"
     ]
    },
    {
     "name": "stdout",
     "output_type": "stream",
     "text": [
      "XGBRegressor - Mean score MSE: 65724.9737\n",
      "XGBRegressor - score MSE: [ 51712.39162113  55442.88796286  52384.13648702  54658.29609591\n",
      " 114427.15641195]\n",
      "XGBRegressor - Standard deviation MSE: 24390.26705580355\n",
      "XGBRegressor - Mean score RMSE: 65724.9737\n",
      "XGBRegressor - score RMSE: [ 51712.39162113  55442.88796286  52384.13648702  54658.29609591\n",
      " 114427.15641195]\n",
      "XGBRegressor - Standard deviation RMSE: 24390.26705580355\n",
      "XGBRegressor - Mean score R2: 0.8477\n",
      "XGBRegressor - score R2: [0.86861926 0.86592342 0.85439515 0.82355057 0.82589554]\n",
      "XGBRegressor - Standard deviation R2: 0.019355416250685393\n",
      "Modelo guardado con éxito en 'modelos/XGBRegressor-20240825042128.pkl'\n",
      "Fin entrenamiento y evaluacion modelo 'XGBRegressor'\n"
     ]
    }
   ],
   "source": [
    "crear_modelo(X, y,classifiersXGBRegressorRend,preprocessor)"
   ]
  },
  {
   "cell_type": "markdown",
   "id": "2797d0db",
   "metadata": {},
   "source": [
    "### Prueba"
   ]
  },
  {
   "cell_type": "code",
   "execution_count": 71,
   "id": "8b53fe7b",
   "metadata": {},
   "outputs": [],
   "source": [
    "# Ruta al archivo del modelo\n",
    "modelo_path = 'modelos/XGBRegressor-20240825135344.pkl'\n",
    "\n",
    "# Cargar el modelo\n",
    "modelo = joblib.load(modelo_path)"
   ]
  },
  {
   "cell_type": "code",
   "execution_count": 72,
   "id": "c4e18d30",
   "metadata": {},
   "outputs": [],
   "source": [
    "y_pred = modelo.predict(X_test)"
   ]
  },
  {
   "cell_type": "code",
   "execution_count": 73,
   "id": "da2b3c12",
   "metadata": {},
   "outputs": [],
   "source": [
    "results_df = X_test\n",
    "results_df['price'] = y_test.values\n",
    "results_df['price_predict'] = y_pred"
   ]
  },
  {
   "cell_type": "code",
   "execution_count": 74,
   "id": "351b026f",
   "metadata": {},
   "outputs": [
    {
     "data": {
      "text/html": [
       "<div>\n",
       "<style scoped>\n",
       "    .dataframe tbody tr th:only-of-type {\n",
       "        vertical-align: middle;\n",
       "    }\n",
       "\n",
       "    .dataframe tbody tr th {\n",
       "        vertical-align: top;\n",
       "    }\n",
       "\n",
       "    .dataframe thead th {\n",
       "        text-align: right;\n",
       "    }\n",
       "</style>\n",
       "<table border=\"1\" class=\"dataframe\">\n",
       "  <thead>\n",
       "    <tr style=\"text-align: right;\">\n",
       "      <th></th>\n",
       "      <th>propertyType</th>\n",
       "      <th>size</th>\n",
       "      <th>rooms</th>\n",
       "      <th>bathrooms</th>\n",
       "      <th>municipality</th>\n",
       "      <th>latitude</th>\n",
       "      <th>longitude</th>\n",
       "      <th>status</th>\n",
       "      <th>priceByArea</th>\n",
       "      <th>hasParkingSpace</th>\n",
       "      <th>isParkingSpaceIncludedInPrice</th>\n",
       "      <th>typology</th>\n",
       "      <th>subtitle</th>\n",
       "      <th>floor</th>\n",
       "      <th>hasLift</th>\n",
       "      <th>price</th>\n",
       "      <th>price_predict</th>\n",
       "    </tr>\n",
       "  </thead>\n",
       "  <tbody>\n",
       "    <tr>\n",
       "      <th>332</th>\n",
       "      <td>flat</td>\n",
       "      <td>95.0</td>\n",
       "      <td>4</td>\n",
       "      <td>2</td>\n",
       "      <td>getafe</td>\n",
       "      <td>40.303934</td>\n",
       "      <td>-3.728678</td>\n",
       "      <td>good</td>\n",
       "      <td>2684.0</td>\n",
       "      <td>0</td>\n",
       "      <td>0</td>\n",
       "      <td>flat</td>\n",
       "      <td>getafe centro</td>\n",
       "      <td>bajo</td>\n",
       "      <td>1</td>\n",
       "      <td>255000.0</td>\n",
       "      <td>251993.453125</td>\n",
       "    </tr>\n",
       "    <tr>\n",
       "      <th>2764</th>\n",
       "      <td>flat</td>\n",
       "      <td>45.0</td>\n",
       "      <td>2</td>\n",
       "      <td>1</td>\n",
       "      <td>madrid</td>\n",
       "      <td>40.454427</td>\n",
       "      <td>-3.700498</td>\n",
       "      <td>good</td>\n",
       "      <td>5222.0</td>\n",
       "      <td>0</td>\n",
       "      <td>0</td>\n",
       "      <td>flat</td>\n",
       "      <td>cuatro caminos</td>\n",
       "      <td>intermedio</td>\n",
       "      <td>0</td>\n",
       "      <td>235000.0</td>\n",
       "      <td>235509.078125</td>\n",
       "    </tr>\n",
       "    <tr>\n",
       "      <th>1659</th>\n",
       "      <td>chalet</td>\n",
       "      <td>111.0</td>\n",
       "      <td>3</td>\n",
       "      <td>2</td>\n",
       "      <td>fuente el saz de jarama</td>\n",
       "      <td>40.631483</td>\n",
       "      <td>-3.518362</td>\n",
       "      <td>good</td>\n",
       "      <td>3318.0</td>\n",
       "      <td>1</td>\n",
       "      <td>1</td>\n",
       "      <td>chalet</td>\n",
       "      <td>fuente el saz de jarama</td>\n",
       "      <td>alto</td>\n",
       "      <td>0</td>\n",
       "      <td>368245.0</td>\n",
       "      <td>368662.375000</td>\n",
       "    </tr>\n",
       "    <tr>\n",
       "      <th>1161</th>\n",
       "      <td>penthouse</td>\n",
       "      <td>55.0</td>\n",
       "      <td>1</td>\n",
       "      <td>1</td>\n",
       "      <td>paracuellos de jarama</td>\n",
       "      <td>40.504679</td>\n",
       "      <td>-3.531509</td>\n",
       "      <td>good</td>\n",
       "      <td>3073.0</td>\n",
       "      <td>0</td>\n",
       "      <td>0</td>\n",
       "      <td>flat</td>\n",
       "      <td>casco urbano</td>\n",
       "      <td>intermedio</td>\n",
       "      <td>0</td>\n",
       "      <td>169000.0</td>\n",
       "      <td>169130.406250</td>\n",
       "    </tr>\n",
       "    <tr>\n",
       "      <th>3000</th>\n",
       "      <td>flat</td>\n",
       "      <td>139.0</td>\n",
       "      <td>3</td>\n",
       "      <td>1</td>\n",
       "      <td>estremera</td>\n",
       "      <td>40.181652</td>\n",
       "      <td>-3.107211</td>\n",
       "      <td>good</td>\n",
       "      <td>281.0</td>\n",
       "      <td>0</td>\n",
       "      <td>0</td>\n",
       "      <td>flat</td>\n",
       "      <td>estremera</td>\n",
       "      <td>flat</td>\n",
       "      <td>0</td>\n",
       "      <td>39000.0</td>\n",
       "      <td>40341.140625</td>\n",
       "    </tr>\n",
       "  </tbody>\n",
       "</table>\n",
       "</div>"
      ],
      "text/plain": [
       "     propertyType   size  rooms  bathrooms             municipality  \\\n",
       "332          flat   95.0      4          2                   getafe   \n",
       "2764         flat   45.0      2          1                   madrid   \n",
       "1659       chalet  111.0      3          2  fuente el saz de jarama   \n",
       "1161    penthouse   55.0      1          1    paracuellos de jarama   \n",
       "3000         flat  139.0      3          1                estremera   \n",
       "\n",
       "       latitude  longitude status  priceByArea  hasParkingSpace  \\\n",
       "332   40.303934  -3.728678   good       2684.0                0   \n",
       "2764  40.454427  -3.700498   good       5222.0                0   \n",
       "1659  40.631483  -3.518362   good       3318.0                1   \n",
       "1161  40.504679  -3.531509   good       3073.0                0   \n",
       "3000  40.181652  -3.107211   good        281.0                0   \n",
       "\n",
       "      isParkingSpaceIncludedInPrice typology                 subtitle  \\\n",
       "332                               0     flat            getafe centro   \n",
       "2764                              0     flat           cuatro caminos   \n",
       "1659                              1   chalet  fuente el saz de jarama   \n",
       "1161                              0     flat             casco urbano   \n",
       "3000                              0     flat                estremera   \n",
       "\n",
       "           floor  hasLift     price  price_predict  \n",
       "332         bajo        1  255000.0  251993.453125  \n",
       "2764  intermedio        0  235000.0  235509.078125  \n",
       "1659        alto        0  368245.0  368662.375000  \n",
       "1161  intermedio        0  169000.0  169130.406250  \n",
       "3000        flat        0   39000.0   40341.140625  "
      ]
     },
     "execution_count": 74,
     "metadata": {},
     "output_type": "execute_result"
    }
   ],
   "source": [
    "results_df.head()"
   ]
  }
 ],
 "metadata": {
  "colab": {
   "machine_shape": "hm",
   "provenance": []
  },
  "kernelspec": {
   "display_name": "Python 3 (ipykernel)",
   "language": "python",
   "name": "python3"
  },
  "language_info": {
   "codemirror_mode": {
    "name": "ipython",
    "version": 3
   },
   "file_extension": ".py",
   "mimetype": "text/x-python",
   "name": "python",
   "nbconvert_exporter": "python",
   "pygments_lexer": "ipython3",
   "version": "3.10.9"
  }
 },
 "nbformat": 4,
 "nbformat_minor": 5
}
