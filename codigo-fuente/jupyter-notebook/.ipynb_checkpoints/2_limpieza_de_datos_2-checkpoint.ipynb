{
 "cells": [
  {
   "cell_type": "markdown",
   "id": "2c50086d",
   "metadata": {},
   "source": [
    "\n",
    "# Predicción del precio de la vivienda mediante aprendizaje automático\n",
    "\n",
    "## Trabajo Final De Master\n",
    "\n",
    "## Universidad de Valladolid\n",
    "\n",
    "#### Bungisa Beto Bibeyi\n"
   ]
  },
  {
   "cell_type": "markdown",
   "id": "88020adc",
   "metadata": {},
   "source": [
    "### LIMPIEZA DE DATOS PARTE 2"
   ]
  },
  {
   "cell_type": "markdown",
   "id": "67a17dd0",
   "metadata": {},
   "source": [
    "### Librerias"
   ]
  },
  {
   "cell_type": "code",
   "execution_count": 1,
   "id": "8dd55a63",
   "metadata": {},
   "outputs": [],
   "source": [
    "import os\n",
    "import json\n",
    "import pandas as pd\n",
    "import numpy as np\n",
    "import seaborn as sns\n",
    "import matplotlib.pyplot as plt"
   ]
  },
  {
   "cell_type": "code",
   "execution_count": 2,
   "id": "09acb27e",
   "metadata": {},
   "outputs": [],
   "source": [
    "from geopy.geocoders import Nominatim\n",
    "import time"
   ]
  },
  {
   "cell_type": "markdown",
   "id": "0ba76e19",
   "metadata": {},
   "source": [
    "### FUNCIONES"
   ]
  },
  {
   "cell_type": "code",
   "execution_count": 3,
   "id": "369fc8ef",
   "metadata": {},
   "outputs": [],
   "source": [
    "def getDatosFaltantes(data_df):\n",
    "    \n",
    "    porcentaje_datos_faltantes_df = data_df.isnull().mean() * 100\n",
    "    porcentaje_datos_faltantes_df = porcentaje_datos_faltantes_df[porcentaje_datos_faltantes_df > 0]\n",
    "    porcentaje_datos_faltantes_df = porcentaje_datos_faltantes_df.reset_index()\n",
    "    porcentaje_datos_faltantes_df.columns = ['Columnas', 'Porcentajes']\n",
    "    porcentaje_datos_faltantes_df = porcentaje_datos_faltantes_df.sort_values(by='Porcentajes', ascending=False)\n",
    "    return porcentaje_datos_faltantes_df"
   ]
  },
  {
   "cell_type": "code",
   "execution_count": 4,
   "id": "da6093e9",
   "metadata": {},
   "outputs": [],
   "source": [
    "# Función para obtener la direccion a partir de las coordenadas\n",
    "def obtener_direccion_por_coordenadas(latitud, longitud):\n",
    "    user_agent = \"geolocalizacion_script/1.0 (agner-@hotmail.com)\"\n",
    "    geolocator = Nominatim(user_agent=user_agent)\n",
    "    try:\n",
    "        location = geolocator.reverse((latitud, longitud), exactly_one=True, timeout=10)\n",
    "        if location:\n",
    "            address = location.raw.get('address', {})\n",
    "            postcode = address.get('postcode', 'No Disponible')\n",
    "            city = address.get('city', 'No Disponible')\n",
    "            road = address.get('road', 'No Disponible')\n",
    "            quarter = address.get('quarter', 'No Disponible')\n",
    "            suburb = address.get('suburb', 'No Disponible')\n",
    "            \n",
    "            return postcode,city,road,quarter,suburb\n",
    "        else:\n",
    "            return 'No Disponible','No Disponible','No Disponible','No Disponible','No Disponible'\n",
    "    except Exception as e:\n",
    "        print(f\"Error: {e}\")\n",
    "        return 'Error', 'Error'"
   ]
  },
  {
   "cell_type": "code",
   "execution_count": 5,
   "id": "7fdd7212",
   "metadata": {},
   "outputs": [],
   "source": [
    "def obtener_direccion(row):\n",
    "    postcode,city,road,quarter,suburb = obtener_direccion_por_coordenadas(row['latitude'], row['longitude'])\n",
    "    time.sleep(2)\n",
    "    return pd.Series([postcode,city,road,quarter,suburb], index=['postcode', 'city','road','quarter','suburb'])"
   ]
  },
  {
   "cell_type": "code",
   "execution_count": 6,
   "id": "f9bbb1ce",
   "metadata": {},
   "outputs": [],
   "source": [
    "def agregarDireccion(data_df):\n",
    "    print('Inicio del metodo agregar dirección')\n",
    "    data_df[['postcode', 'city','road','quarter','suburb']] = data_df.apply(obtener_direccion, axis=1)\n",
    "    print('Fin del metodo agregar dirección')\n",
    "    return data_df"
   ]
  },
  {
   "cell_type": "code",
   "execution_count": 7,
   "id": "fc072364",
   "metadata": {},
   "outputs": [],
   "source": [
    "def clasificarPlanta(valor):\n",
    "    if isinstance(valor, str):\n",
    "        if valor.lower() == 'chalet':\n",
    "            return 'alto'\n",
    "        elif valor.lower() == 'bj':\n",
    "            return 'bajo'\n",
    "        elif valor.lower() == 'countryhouse':\n",
    "            return 'muy alto'\n",
    "        else:\n",
    "            try:\n",
    "                valor_num = int(valor)\n",
    "                if valor_num > 4:\n",
    "                    return 'mediano'\n",
    "                else:\n",
    "                    return 'intermedio'\n",
    "            except ValueError:\n",
    "                return valor\n",
    "    elif isinstance(valor, (int, float,)):\n",
    "        if valor > 4:\n",
    "            return 'mediano'\n",
    "        else:\n",
    "            return 'intermedio'\n",
    "    else:\n",
    "        return valor"
   ]
  },
  {
   "cell_type": "code",
   "execution_count": 8,
   "id": "3a2a26bb",
   "metadata": {},
   "outputs": [],
   "source": [
    "def transformarMiniscula(data_df,columnas):\n",
    "    for col in columnas:\n",
    "        data_df[col] = data_df[col].str.strip().str.lower()\n",
    "    return data_df"
   ]
  },
  {
   "cell_type": "markdown",
   "id": "3d29b925",
   "metadata": {},
   "source": [
    "### Formato Conjunto de datos (CSV)\n",
    "\n",
    "| price  | propertyType | size | rooms | bathrooms | address       | municipality | latitude | longitude | description                      | status  | priceByArea | hasParkingSpace | isParkingSpaceIncludedInPrice | typology    | subTypology | subtitle                         | title                            | district  | neighborhood    | floor | hasLift | parkingSpacePrice | formerPrice | priceDropValue | priceDropPercentage |\n",
    "|--------|-----------------|--------|--------------|-------|--------------------|-----------|---------|----------|------------------------------------|------------|---------------|---------------------------|------------------|-------------|--------------|--------------------------------|------------------------------------|----------|-----------------|------|----------|----------------------------|----------------|----------------|----------------------|\n",
    "| 300000 | Departamento    | 85     | 3            | 2     | 123 Calle Principal | Barcelona | 41.3879 | 2.1699   | Departamento espacioso con balcón  | En venta   | 3529          | Sí                        | No               | Residencial | Moderno      | Hermoso departamento de 3 habitaciones | Gran oportunidad en el centro de la ciudad | Centro   | Barri Gòtic     | 3    | Sí       | 25000                      | 320000         | 20000          | 6.25                 |\n",
    "| 450000 | Casa            | 120    | 4            | 3     | 456 Calle Elm      | Madrid    | 40.4168 | -3.7038  | Casa familiar con jardín            | Vendida    | 3750          | Sí                        | Sí               | Residencial | Clásica      | Hermosa casa familiar con jardín  | Vendida a un buen precio               | Suburbios| Retiro          | 2    | Sí       | 30000                      | 470000         | 20000          | 4.26                 |              | 470000      | 20000          | 4.26                 |"
   ]
  },
  {
   "cell_type": "markdown",
   "id": "a393756d",
   "metadata": {},
   "source": [
    "### Descripción de los campos\n",
    "\n",
    "**price:** Precio de la propiedad  \n",
    "**propertyType:** Tipo de propiedad como apartamentos, casa, oficina  \n",
    "**size:** Tamaño de la vivienda en metros cuadrados  \n",
    "**rooms:** Número de habitaciones en la vivienda  \n",
    "**bathrooms:** Número de baños en la vivienda  \n",
    "**address:** Dirección completa de la vivienda  \n",
    "**municipality:** Municipio donde se encuentra la vivienda  \n",
    "**latitude:** Coordenada de latitud de la vivienda  \n",
    "**longitude:** Coordenada de longitud de la vivienda  \n",
    "**description:** Descripción textual de la vivienda  \n",
    "**status:** Estado de la vivienda como disponible, reservado  \n",
    "**priceByArea:** Precio por metro cuadrado de la vivienda  \n",
    "**hasParkingSpace:** Indica si la propiedad incluye espacio de estacionamiento  \n",
    "**isParkingSpaceIncludedInPrice:** Indica si el espacio de estacionamiento está incluido en el precio de la propiedad  \n",
    "**typology:** Tipología detallada de la vivienda como apartamento, casa.  \n",
    "**subTypology:** Subtipología de la vivienda como duplex, atico.  \n",
    "**subtitle:** Subtítulo sugerido para el anuncio  \n",
    "**title:** Título sugerido para el anuncio  \n",
    "**district:** Distrito en el que se encuentra la vivienda  \n",
    "**neighborhood:** Barrio en el que se encuentra la vivienda  \n",
    "**floor:** Número del piso en el que se encuentra la vivienda  \n",
    "**hasLift:** Indica si el edificio cuenta con ascensor  \n",
    "**parkingSpacePrice:** Precio del espacio de estacionamiento  \n",
    "**formerPrice:** Precio anterior de la propiedad antes de cualquier reducción  \n",
    "**priceDropValue:** Valor de la reducción del precio  \n",
    "**priceDropPercentage:** Valor de la reducción del porcentaje  "
   ]
  },
  {
   "cell_type": "markdown",
   "id": "26c6b227",
   "metadata": {},
   "source": [
    "### Lectura de los datos"
   ]
  },
  {
   "cell_type": "code",
   "execution_count": 9,
   "id": "2bb76661",
   "metadata": {},
   "outputs": [],
   "source": [
    "viviendas_df = pd.read_csv('data_staging/viviendas_limpieza_df_parte_1.csv')"
   ]
  },
  {
   "cell_type": "markdown",
   "id": "c101480e",
   "metadata": {},
   "source": [
    "### Exploracion inicial de los datos\n",
    "\n",
    "La estructura del fichero JSON leído es heterogénea o variable, lo que implica que los objetos pueden tener diferentes conjuntos de claves o variar en los tipos de valores asociados a estas claves. Al cargar los datos, los campos que no están presentes en todos los objetos se rellenan con valores nulos (NaN).\n",
    "\n",
    "En esta fase, se realizará una observación inicial sobre el conjunto de datos, en la que se determinarán los siguientes aspectos:\n",
    "\n",
    "  - El número de registros y columnas que tiene el conjunto de datos.\n",
    "  - Cómo se presentan los datos y si se han cargado correctamente.\n",
    "  - La necesidad de renombrar las columnas para mejorar el análisis del conjunto de datos."
   ]
  },
  {
   "cell_type": "code",
   "execution_count": 10,
   "id": "ba27f651",
   "metadata": {},
   "outputs": [
    {
     "data": {
      "text/plain": [
       "(4638, 27)"
      ]
     },
     "execution_count": 10,
     "metadata": {},
     "output_type": "execute_result"
    }
   ],
   "source": [
    "viviendas_df.shape"
   ]
  },
  {
   "cell_type": "markdown",
   "id": "32a729d9",
   "metadata": {},
   "source": [
    "##### Observaciones:\n",
    " - Se observa que el conjunto de datos cargado consta de 4,638 registros y 26 columnas."
   ]
  },
  {
   "cell_type": "markdown",
   "id": "83dc9eb7",
   "metadata": {},
   "source": [
    "#### Información del conjunto de datos"
   ]
  },
  {
   "cell_type": "code",
   "execution_count": 11,
   "id": "2720bc83",
   "metadata": {},
   "outputs": [
    {
     "data": {
      "text/html": [
       "<div>\n",
       "<style scoped>\n",
       "    .dataframe tbody tr th:only-of-type {\n",
       "        vertical-align: middle;\n",
       "    }\n",
       "\n",
       "    .dataframe tbody tr th {\n",
       "        vertical-align: top;\n",
       "    }\n",
       "\n",
       "    .dataframe thead th {\n",
       "        text-align: right;\n",
       "    }\n",
       "</style>\n",
       "<table border=\"1\" class=\"dataframe\">\n",
       "  <thead>\n",
       "    <tr style=\"text-align: right;\">\n",
       "      <th></th>\n",
       "      <th>price</th>\n",
       "      <th>propertyType</th>\n",
       "      <th>size</th>\n",
       "      <th>rooms</th>\n",
       "      <th>bathrooms</th>\n",
       "      <th>address</th>\n",
       "      <th>municipality</th>\n",
       "      <th>latitude</th>\n",
       "      <th>longitude</th>\n",
       "      <th>description</th>\n",
       "      <th>status</th>\n",
       "      <th>priceByArea</th>\n",
       "      <th>hasParkingSpace</th>\n",
       "      <th>isParkingSpaceIncludedInPrice</th>\n",
       "      <th>typology</th>\n",
       "    </tr>\n",
       "  </thead>\n",
       "  <tbody>\n",
       "    <tr>\n",
       "      <th>0</th>\n",
       "      <td>1125000.0</td>\n",
       "      <td>chalet</td>\n",
       "      <td>500.0</td>\n",
       "      <td>10</td>\n",
       "      <td>6</td>\n",
       "      <td>Ciudalcampo</td>\n",
       "      <td>Ciudalcampo</td>\n",
       "      <td>40.634800</td>\n",
       "      <td>-3.595819</td>\n",
       "      <td>Ideal para dos familias. Casa construida a fin...</td>\n",
       "      <td>good</td>\n",
       "      <td>2250.0</td>\n",
       "      <td>True</td>\n",
       "      <td>True</td>\n",
       "      <td>chalet</td>\n",
       "    </tr>\n",
       "    <tr>\n",
       "      <th>1</th>\n",
       "      <td>785000.0</td>\n",
       "      <td>chalet</td>\n",
       "      <td>800.0</td>\n",
       "      <td>3</td>\n",
       "      <td>3</td>\n",
       "      <td>La Berzosilla</td>\n",
       "      <td>Torrelodones</td>\n",
       "      <td>40.583729</td>\n",
       "      <td>-3.949424</td>\n",
       "      <td>TORRELODONES. GRAN CHALET INDEPENDIENTE A ESTR...</td>\n",
       "      <td>good</td>\n",
       "      <td>981.0</td>\n",
       "      <td>NaN</td>\n",
       "      <td>NaN</td>\n",
       "      <td>chalet</td>\n",
       "    </tr>\n",
       "    <tr>\n",
       "      <th>2</th>\n",
       "      <td>2950000.0</td>\n",
       "      <td>chalet</td>\n",
       "      <td>500.0</td>\n",
       "      <td>6</td>\n",
       "      <td>4</td>\n",
       "      <td>barrio El Plantío</td>\n",
       "      <td>Madrid</td>\n",
       "      <td>40.476875</td>\n",
       "      <td>-3.825426</td>\n",
       "      <td>AMBASSADOR Les ofrece un inmueble muy especial...</td>\n",
       "      <td>good</td>\n",
       "      <td>5900.0</td>\n",
       "      <td>True</td>\n",
       "      <td>True</td>\n",
       "      <td>chalet</td>\n",
       "    </tr>\n",
       "    <tr>\n",
       "      <th>3</th>\n",
       "      <td>795000.0</td>\n",
       "      <td>flat</td>\n",
       "      <td>201.0</td>\n",
       "      <td>2</td>\n",
       "      <td>2</td>\n",
       "      <td>calle Garcia Quintanilla, 4</td>\n",
       "      <td>Madrid</td>\n",
       "      <td>40.444223</td>\n",
       "      <td>-3.642674</td>\n",
       "      <td>\"TIEMPO PARA EL DETALLE\"TIME FOR DETAIL\"ZEIT F...</td>\n",
       "      <td>newdevelopment</td>\n",
       "      <td>3955.0</td>\n",
       "      <td>True</td>\n",
       "      <td>True</td>\n",
       "      <td>flat</td>\n",
       "    </tr>\n",
       "    <tr>\n",
       "      <th>4</th>\n",
       "      <td>4000000.0</td>\n",
       "      <td>chalet</td>\n",
       "      <td>800.0</td>\n",
       "      <td>5</td>\n",
       "      <td>8</td>\n",
       "      <td>barrio Prado Largo</td>\n",
       "      <td>Pozuelo de Alarcón</td>\n",
       "      <td>40.427107</td>\n",
       "      <td>-3.847710</td>\n",
       "      <td>Residencial Noroeste vende este exclusivo chal...</td>\n",
       "      <td>good</td>\n",
       "      <td>5000.0</td>\n",
       "      <td>NaN</td>\n",
       "      <td>NaN</td>\n",
       "      <td>chalet</td>\n",
       "    </tr>\n",
       "  </tbody>\n",
       "</table>\n",
       "</div>"
      ],
      "text/plain": [
       "       price propertyType   size  rooms  bathrooms  \\\n",
       "0  1125000.0       chalet  500.0     10          6   \n",
       "1   785000.0       chalet  800.0      3          3   \n",
       "2  2950000.0       chalet  500.0      6          4   \n",
       "3   795000.0         flat  201.0      2          2   \n",
       "4  4000000.0       chalet  800.0      5          8   \n",
       "\n",
       "                       address        municipality   latitude  longitude  \\\n",
       "0                  Ciudalcampo         Ciudalcampo  40.634800  -3.595819   \n",
       "1                La Berzosilla        Torrelodones  40.583729  -3.949424   \n",
       "2            barrio El Plantío              Madrid  40.476875  -3.825426   \n",
       "3  calle Garcia Quintanilla, 4              Madrid  40.444223  -3.642674   \n",
       "4           barrio Prado Largo  Pozuelo de Alarcón  40.427107  -3.847710   \n",
       "\n",
       "                                         description          status  \\\n",
       "0  Ideal para dos familias. Casa construida a fin...            good   \n",
       "1  TORRELODONES. GRAN CHALET INDEPENDIENTE A ESTR...            good   \n",
       "2  AMBASSADOR Les ofrece un inmueble muy especial...            good   \n",
       "3  \"TIEMPO PARA EL DETALLE\"TIME FOR DETAIL\"ZEIT F...  newdevelopment   \n",
       "4  Residencial Noroeste vende este exclusivo chal...            good   \n",
       "\n",
       "   priceByArea hasParkingSpace isParkingSpaceIncludedInPrice typology  \n",
       "0       2250.0            True                          True   chalet  \n",
       "1        981.0             NaN                           NaN   chalet  \n",
       "2       5900.0            True                          True   chalet  \n",
       "3       3955.0            True                          True     flat  \n",
       "4       5000.0             NaN                           NaN   chalet  "
      ]
     },
     "execution_count": 11,
     "metadata": {},
     "output_type": "execute_result"
    }
   ],
   "source": [
    "viviendas_df[viviendas_df.columns[0:15]].head()"
   ]
  },
  {
   "cell_type": "code",
   "execution_count": 12,
   "id": "e84dc3d9",
   "metadata": {},
   "outputs": [
    {
     "data": {
      "text/html": [
       "<div>\n",
       "<style scoped>\n",
       "    .dataframe tbody tr th:only-of-type {\n",
       "        vertical-align: middle;\n",
       "    }\n",
       "\n",
       "    .dataframe tbody tr th {\n",
       "        vertical-align: top;\n",
       "    }\n",
       "\n",
       "    .dataframe thead th {\n",
       "        text-align: right;\n",
       "    }\n",
       "</style>\n",
       "<table border=\"1\" class=\"dataframe\">\n",
       "  <thead>\n",
       "    <tr style=\"text-align: right;\">\n",
       "      <th></th>\n",
       "      <th>subTypology</th>\n",
       "      <th>subtitle</th>\n",
       "      <th>title</th>\n",
       "      <th>district</th>\n",
       "      <th>neighborhood</th>\n",
       "      <th>floor</th>\n",
       "      <th>exterior</th>\n",
       "      <th>hasLift</th>\n",
       "      <th>parkingSpacePrice</th>\n",
       "      <th>formerPrice</th>\n",
       "      <th>priceDropValue</th>\n",
       "      <th>priceDropPercentage</th>\n",
       "    </tr>\n",
       "  </thead>\n",
       "  <tbody>\n",
       "    <tr>\n",
       "      <th>0</th>\n",
       "      <td>independantHouse</td>\n",
       "      <td>Ciudalcampo</td>\n",
       "      <td>Casa independiente</td>\n",
       "      <td>NaN</td>\n",
       "      <td>NaN</td>\n",
       "      <td>NaN</td>\n",
       "      <td>NaN</td>\n",
       "      <td>NaN</td>\n",
       "      <td>NaN</td>\n",
       "      <td>NaN</td>\n",
       "      <td>NaN</td>\n",
       "      <td>NaN</td>\n",
       "    </tr>\n",
       "    <tr>\n",
       "      <th>1</th>\n",
       "      <td>independantHouse</td>\n",
       "      <td>La Berzosilla, Torrelodones</td>\n",
       "      <td>Casa independiente</td>\n",
       "      <td>La Berzosilla</td>\n",
       "      <td>NaN</td>\n",
       "      <td>NaN</td>\n",
       "      <td>NaN</td>\n",
       "      <td>NaN</td>\n",
       "      <td>NaN</td>\n",
       "      <td>NaN</td>\n",
       "      <td>NaN</td>\n",
       "      <td>NaN</td>\n",
       "    </tr>\n",
       "    <tr>\n",
       "      <th>2</th>\n",
       "      <td>independantHouse</td>\n",
       "      <td>El Plantío, Madrid</td>\n",
       "      <td>Casa independiente</td>\n",
       "      <td>Moncloa</td>\n",
       "      <td>El Plantío</td>\n",
       "      <td>NaN</td>\n",
       "      <td>NaN</td>\n",
       "      <td>NaN</td>\n",
       "      <td>NaN</td>\n",
       "      <td>NaN</td>\n",
       "      <td>NaN</td>\n",
       "      <td>NaN</td>\n",
       "    </tr>\n",
       "    <tr>\n",
       "      <th>3</th>\n",
       "      <td>NaN</td>\n",
       "      <td>Concepción, Madrid</td>\n",
       "      <td>Piso en calle Garcia Quintanilla, 4</td>\n",
       "      <td>Ciudad Lineal</td>\n",
       "      <td>Concepción</td>\n",
       "      <td>3</td>\n",
       "      <td>True</td>\n",
       "      <td>True</td>\n",
       "      <td>NaN</td>\n",
       "      <td>NaN</td>\n",
       "      <td>NaN</td>\n",
       "      <td>NaN</td>\n",
       "    </tr>\n",
       "    <tr>\n",
       "      <th>4</th>\n",
       "      <td>independantHouse</td>\n",
       "      <td>Prado Largo, Pozuelo de Alarcón</td>\n",
       "      <td>Casa independiente</td>\n",
       "      <td>Urbanizaciones</td>\n",
       "      <td>Prado Largo</td>\n",
       "      <td>NaN</td>\n",
       "      <td>NaN</td>\n",
       "      <td>NaN</td>\n",
       "      <td>NaN</td>\n",
       "      <td>NaN</td>\n",
       "      <td>NaN</td>\n",
       "      <td>NaN</td>\n",
       "    </tr>\n",
       "  </tbody>\n",
       "</table>\n",
       "</div>"
      ],
      "text/plain": [
       "        subTypology                         subtitle  \\\n",
       "0  independantHouse                      Ciudalcampo   \n",
       "1  independantHouse      La Berzosilla, Torrelodones   \n",
       "2  independantHouse               El Plantío, Madrid   \n",
       "3               NaN               Concepción, Madrid   \n",
       "4  independantHouse  Prado Largo, Pozuelo de Alarcón   \n",
       "\n",
       "                                 title        district neighborhood floor  \\\n",
       "0                   Casa independiente             NaN          NaN   NaN   \n",
       "1                   Casa independiente   La Berzosilla          NaN   NaN   \n",
       "2                   Casa independiente         Moncloa   El Plantío   NaN   \n",
       "3  Piso en calle Garcia Quintanilla, 4   Ciudad Lineal   Concepción     3   \n",
       "4                   Casa independiente  Urbanizaciones  Prado Largo   NaN   \n",
       "\n",
       "  exterior hasLift  parkingSpacePrice  formerPrice  priceDropValue  \\\n",
       "0      NaN     NaN                NaN          NaN             NaN   \n",
       "1      NaN     NaN                NaN          NaN             NaN   \n",
       "2      NaN     NaN                NaN          NaN             NaN   \n",
       "3     True    True                NaN          NaN             NaN   \n",
       "4      NaN     NaN                NaN          NaN             NaN   \n",
       "\n",
       "   priceDropPercentage  \n",
       "0                  NaN  \n",
       "1                  NaN  \n",
       "2                  NaN  \n",
       "3                  NaN  \n",
       "4                  NaN  "
      ]
     },
     "execution_count": 12,
     "metadata": {},
     "output_type": "execute_result"
    }
   ],
   "source": [
    "viviendas_df[viviendas_df.columns[15:27]].head()"
   ]
  },
  {
   "cell_type": "markdown",
   "id": "44a514bd",
   "metadata": {},
   "source": [
    "##### Observaciones:\n",
    "\n",
    " - El conjunto de datos se ha cargado correctamente"
   ]
  },
  {
   "cell_type": "markdown",
   "id": "402e6d3e",
   "metadata": {},
   "source": [
    "#### Visión general de la estructura de datos"
   ]
  },
  {
   "cell_type": "code",
   "execution_count": 13,
   "id": "2a04c77a",
   "metadata": {},
   "outputs": [
    {
     "name": "stdout",
     "output_type": "stream",
     "text": [
      "<class 'pandas.core.frame.DataFrame'>\n",
      "RangeIndex: 4638 entries, 0 to 4637\n",
      "Data columns (total 27 columns):\n",
      " #   Column                         Non-Null Count  Dtype  \n",
      "---  ------                         --------------  -----  \n",
      " 0   price                          4638 non-null   float64\n",
      " 1   propertyType                   4638 non-null   object \n",
      " 2   size                           4638 non-null   float64\n",
      " 3   rooms                          4638 non-null   int64  \n",
      " 4   bathrooms                      4638 non-null   int64  \n",
      " 5   address                        4638 non-null   object \n",
      " 6   municipality                   4638 non-null   object \n",
      " 7   latitude                       4638 non-null   float64\n",
      " 8   longitude                      4638 non-null   float64\n",
      " 9   description                    4632 non-null   object \n",
      " 10  status                         4638 non-null   object \n",
      " 11  priceByArea                    4638 non-null   float64\n",
      " 12  hasParkingSpace                2193 non-null   object \n",
      " 13  isParkingSpaceIncludedInPrice  2193 non-null   object \n",
      " 14  typology                       4638 non-null   object \n",
      " 15  subTypology                    2120 non-null   object \n",
      " 16  subtitle                       4638 non-null   object \n",
      " 17  title                          4638 non-null   object \n",
      " 18  district                       3508 non-null   object \n",
      " 19  neighborhood                   2038 non-null   object \n",
      " 20  floor                          2823 non-null   object \n",
      " 21  exterior                       2780 non-null   object \n",
      " 22  hasLift                        2962 non-null   object \n",
      " 23  parkingSpacePrice              76 non-null     float64\n",
      " 24  formerPrice                    220 non-null    float64\n",
      " 25  priceDropValue                 220 non-null    float64\n",
      " 26  priceDropPercentage            220 non-null    float64\n",
      "dtypes: float64(9), int64(2), object(16)\n",
      "memory usage: 978.5+ KB\n"
     ]
    }
   ],
   "source": [
    "viviendas_df.info()"
   ]
  },
  {
   "cell_type": "markdown",
   "id": "5f419270",
   "metadata": {},
   "source": [
    "#### Observaciones:\n",
    "\n",
    " - A simple vista, se puede observar que varias columnas presentan una cantidad significativa de valores nulos."
   ]
  },
  {
   "cell_type": "markdown",
   "id": "ccbce166",
   "metadata": {},
   "source": [
    "### Limpieza de los datos\n"
   ]
  },
  {
   "cell_type": "markdown",
   "id": "707dc81e",
   "metadata": {},
   "source": [
    "#### Datos faltantes\n",
    "\n",
    "Existen varias formas de manejar los datos faltantes en variables categóricas:\n",
    "\n",
    "1. **Eliminar filas con registros faltantes**: Este método consiste en descartar las filas que contienen datos nulos.\n",
    "2. **Eliminar la columna**: Implica eliminar toda la columna si una proporción significativa de sus valores es nula.\n",
    "3. **Imputar con la categoría más frecuente**: Rellenar los valores faltantes con la categoría que aparece con mayor frecuencia en la columna.\n",
    "4. **Imputar usando técnicas de machine learning**: Aplicar algoritmos de machine learning para predecir y reemplazar los valores faltantes en función de otros datos disponibles.\n",
    "\n",
    "#### Ventajas y desventajas de cada una de las técnicas\n",
    "Aquí tienes una versión mejorada del texto:\n",
    "\n",
    "1. **Eliminar filas con registros faltantes**: Este método es sencillo y puede ser efectivo cuando el conjunto de datos es grande. Sin embargo, en conjuntos de datos pequeños, esta práctica puede afectar negativamente la calidad del modelo al reducir la cantidad de datos disponibles para el entrenamiento.\n",
    "\n",
    "2. **Eliminar columnas con registros faltantes**: Aunque es un enfoque simple, eliminar una columna puede deteriorar la calidad del modelo si dicha columna contiene información valiosa o relevante. Es importante evaluar la importancia de la columna antes de decidir eliminarla.\n",
    "\n",
    "3. **Imputar con la categoría más frecuente**: Este método no elimina filas ni columnas, pero puede introducir sesgos que afectan la calidad del modelo. Rellenar los datos faltantes con la categoría más frecuente puede no reflejar adecuadamente la variabilidad real en los datos.\n",
    "\n",
    "4. **Imputar utilizando un modelo de machine learning**: Construir un modelo para predecir los valores faltantes permite conservar la integridad del conjunto de datos y, si el modelo está bien diseñado, puede reducir el sesgo. Sin embargo, este enfoque requiere una cantidad suficiente de datos para entrenar el modelo y puede ser complejo de implementar. Además, la calidad de la imputación dependerá de la precisión del modelo predictivo utilizado.\n",
    "\n",
    "En este proceso, se eliminarán los datos con un umbral superior al 60% de valores nulos y se utilizarán técnicas de machine learning para predecir los valores faltantes, ya que esto reduce el sesgo en el conjunto de datos.\n",
    "\n",
    "En el análisis inicial, se detectó que algunas columnas tienen diferentes cantidades de registros. Se usará una función para calcular el porcentaje de datos faltantes en cada columna y tomar decisiones sobre cómo manejarlos.\n",
    "\n",
    "También es importante destacar que el conjunto de datos extraído de la API de Idealista incluye columnas con registros nulos. Esto ocurre porque algunos valores dependen de otras columnas; por ejemplo, el valor de la columna `subTypology` depende de la columna `typology`."
   ]
  },
  {
   "cell_type": "code",
   "execution_count": 15,
   "id": "4fa9c2ef",
   "metadata": {},
   "outputs": [
    {
     "name": "stdout",
     "output_type": "stream",
     "text": [
      "                         Columnas  Porcentajes\n",
      "9               parkingSpacePrice    98.361363\n",
      "10                    formerPrice    95.256576\n",
      "11                 priceDropValue    95.256576\n",
      "12            priceDropPercentage    95.256576\n",
      "5                    neighborhood    56.058646\n",
      "3                     subTypology    54.290643\n",
      "1                 hasParkingSpace    52.716688\n",
      "2   isParkingSpaceIncludedInPrice    52.716688\n",
      "7                        exterior    40.060371\n",
      "6                           floor    39.133247\n",
      "8                         hasLift    36.136266\n",
      "4                        district    24.363950\n",
      "0                     description     0.129366\n"
     ]
    }
   ],
   "source": [
    "porcentaje_datos_faltantes_df = getDatosFaltantes(viviendas_df)\n",
    "print(porcentaje_datos_faltantes_df)"
   ]
  },
  {
   "cell_type": "markdown",
   "id": "ba88c204",
   "metadata": {},
   "source": [
    "#### Diagrama de barras con Seaborn para visualizar el porcentaje de datos faltantes"
   ]
  },
  {
   "cell_type": "code",
   "execution_count": 17,
   "id": "76f5ba5c",
   "metadata": {},
   "outputs": [
    {
     "data": {
      "image/png": "[encoded data removed]",
      "text/plain": [
       "<Figure size 1000x600 with 1 Axes>"
      ]
     },
     "metadata": {},
     "output_type": "display_data"
    }
   ],
   "source": [
    "plt.figure(figsize=(10, 6))\n",
    "sns.barplot(x='Columnas', y='Porcentajes', data=porcentaje_datos_faltantes_df, color='blue')\n",
    "\n",
    "# Añadir títulos y etiquetas\n",
    "plt.title('Porcentaje de Valores Faltantes por Columna', fontsize=16)\n",
    "plt.xlabel('Columnas', fontsize=14)\n",
    "#plt.ylabel('Porcentaje de Valores Faltantes', fontsize=14)\n",
    "\n",
    "# Poner las etiquetas del eje x en vertical\n",
    "plt.xticks(rotation=90)\n",
    "\n",
    "# Mostrar el diagrama\n",
    "plt.show()"
   ]
  },
  {
   "cell_type": "markdown",
   "id": "6bb85512",
   "metadata": {},
   "source": [
    "Se procede a eliminar las columnas con un porcentaje de datos faltantes superior al 70%, ya que una alta proporción de datos faltantes puede introducir sesgos significativos que afectarían el rendimiento del modelo. Las columnas eliminadas son: `parkingSpacePrice`, `formerPrice`, `priceDropValue` y `priceDropPercentage`"
   ]
  },
  {
   "cell_type": "code",
   "execution_count": 18,
   "id": "468561e2",
   "metadata": {},
   "outputs": [],
   "source": [
    "viviendas_limpieza_df = viviendas_df.drop(['parkingSpacePrice','formerPrice','priceDropValue','priceDropPercentage'], axis=1)"
   ]
  },
  {
   "cell_type": "code",
   "execution_count": 19,
   "id": "34c8d83f",
   "metadata": {},
   "outputs": [
    {
     "name": "stdout",
     "output_type": "stream",
     "text": [
      "Tamaño del conjunto de datos antes de eliminar filas descripcion con valores nulos: (4638, 23)\n"
     ]
    }
   ],
   "source": [
    "print(f'Tamaño del conjunto de datos antes de eliminar filas descripcion con valores nulos: {viviendas_limpieza_df.shape}')"
   ]
  },
  {
   "cell_type": "markdown",
   "id": "05c1669b",
   "metadata": {},
   "source": [
    "Se procede a eliminar la fila que contiene valores nulos en la columna `description`"
   ]
  },
  {
   "cell_type": "code",
   "execution_count": 20,
   "id": "8dcfff69",
   "metadata": {},
   "outputs": [],
   "source": [
    "viviendas_limpieza_df = viviendas_limpieza_df.dropna(subset=['description'])"
   ]
  },
  {
   "cell_type": "code",
   "execution_count": 21,
   "id": "dfc3b147",
   "metadata": {},
   "outputs": [
    {
     "name": "stdout",
     "output_type": "stream",
     "text": [
      "Tamaño del conjunto de datos despues de eliminar filas descripcion con valores nulos: (4632, 23)\n"
     ]
    }
   ],
   "source": [
    "print(f'Tamaño del conjunto de datos despues de eliminar filas descripcion con valores nulos: {viviendas_limpieza_df.shape}')"
   ]
  },
  {
   "cell_type": "markdown",
   "id": "fe55d79b",
   "metadata": {},
   "source": [
    "Valores únicos en la columna `typology`"
   ]
  },
  {
   "cell_type": "code",
   "execution_count": 22,
   "id": "1b603578",
   "metadata": {},
   "outputs": [
    {
     "data": {
      "text/plain": [
       "array(['chalet', 'flat', 'countryHouse'], dtype=object)"
      ]
     },
     "execution_count": 22,
     "metadata": {},
     "output_type": "execute_result"
    }
   ],
   "source": [
    "valores_unicos_typology = viviendas_limpieza_df['typology'].unique()\n",
    "valores_unicos_typology"
   ]
  },
  {
   "cell_type": "markdown",
   "id": "9a08652c",
   "metadata": {},
   "source": [
    "Valores únicos en la columna `subTypology`"
   ]
  },
  {
   "cell_type": "code",
   "execution_count": 23,
   "id": "35265509",
   "metadata": {},
   "outputs": [
    {
     "data": {
      "text/plain": [
       "array(['independantHouse', nan, 'terracedHouse', 'penthouse', 'duplex',\n",
       "       'semidetachedHouse', 'studio', 'countryHouse', 'casaDePueblo',\n",
       "       'casale', 'caseron', 'torre', 'casaTerrera', 'cortijo'],\n",
       "      dtype=object)"
      ]
     },
     "execution_count": 23,
     "metadata": {},
     "output_type": "execute_result"
    }
   ],
   "source": [
    "valores_unicos_subTypology = viviendas_limpieza_df['subTypology'].unique()\n",
    "valores_unicos_subTypology"
   ]
  },
  {
   "cell_type": "markdown",
   "id": "c110d50b",
   "metadata": {},
   "source": [
    "Valores únicos en la columna `propertyType`"
   ]
  },
  {
   "cell_type": "code",
   "execution_count": 24,
   "id": "47894c8f",
   "metadata": {},
   "outputs": [
    {
     "data": {
      "text/plain": [
       "array(['chalet', 'flat', 'penthouse', 'duplex', 'studio', 'countryHouse'],\n",
       "      dtype=object)"
      ]
     },
     "execution_count": 24,
     "metadata": {},
     "output_type": "execute_result"
    }
   ],
   "source": [
    "valores_unicos_propertyType = viviendas_limpieza_df['propertyType'].unique()\n",
    "valores_unicos_propertyType"
   ]
  },
  {
   "cell_type": "markdown",
   "id": "3d304abb",
   "metadata": {},
   "source": [
    "Valores únicos en la columna `floor`"
   ]
  },
  {
   "cell_type": "code",
   "execution_count": 25,
   "id": "e9b3396b",
   "metadata": {},
   "outputs": [
    {
     "data": {
      "text/plain": [
       "array([nan, '3', '1', '6', '2', '5', 'bj', '4', '7', '14', '13', 'en',\n",
       "       '9', 'ss', '8', '10', '22', 'st', '20', '19', '11', '12'],\n",
       "      dtype=object)"
      ]
     },
     "execution_count": 25,
     "metadata": {},
     "output_type": "execute_result"
    }
   ],
   "source": [
    "valores_unico_columna_floor = viviendas_limpieza_df['floor'].unique()\n",
    "valores_unico_columna_floor"
   ]
  },
  {
   "cell_type": "markdown",
   "id": "78eed39e",
   "metadata": {},
   "source": [
    "Se procede a reemplazar los valores nulos en la columna `floor` con los valores correspondientes de la columna `typology`"
   ]
  },
  {
   "cell_type": "code",
   "execution_count": 26,
   "id": "2862e580",
   "metadata": {},
   "outputs": [
    {
     "data": {
      "text/plain": [
       "array(['chalet', '3', '1', '6', '2', '5', 'bj', '4', 'flat',\n",
       "       'countryhouse', '7', '14', '13', 'en', '9', 'ss', '8', '10', '22',\n",
       "       'st', '20', '19', '11', '12'], dtype=object)"
      ]
     },
     "execution_count": 26,
     "metadata": {},
     "output_type": "execute_result"
    }
   ],
   "source": [
    "viviendas_limpieza_df['floor'] = viviendas_limpieza_df['floor'].fillna(viviendas_limpieza_df['typology'].str.lower())\n",
    "viviendas_limpieza_df['floor'].unique()"
   ]
  },
  {
   "cell_type": "markdown",
   "id": "59ca49b0",
   "metadata": {},
   "source": [
    "Para la columna floor se puede observar que hay distintos tipos de datos para indica la planta de una vivienda. Se procede a categorizar la planta segun el tipo de vivienda en bajo, mediano, alto,elevado y muy alto."
   ]
  },
  {
   "cell_type": "code",
   "execution_count": 27,
   "id": "69abaa32",
   "metadata": {},
   "outputs": [],
   "source": [
    "viviendas_limpieza_df['floor'] = viviendas_limpieza_df['floor'].apply(clasificarPlanta)"
   ]
  },
  {
   "cell_type": "markdown",
   "id": "c775069c",
   "metadata": {},
   "source": [
    "En la columna hasLift, se considero poner falso a todos los registros nulos"
   ]
  },
  {
   "cell_type": "code",
   "execution_count": 28,
   "id": "4bafbc6b",
   "metadata": {},
   "outputs": [],
   "source": [
    "viviendas_limpieza_df['hasLift'] = viviendas_limpieza_df['hasLift'].fillna(False)"
   ]
  },
  {
   "cell_type": "markdown",
   "id": "8da217c1",
   "metadata": {},
   "source": [
    "Transformamos el tipo integer"
   ]
  },
  {
   "cell_type": "code",
   "execution_count": 29,
   "id": "7a90aa6a",
   "metadata": {},
   "outputs": [],
   "source": [
    "viviendas_limpieza_df['hasLift'] = viviendas_limpieza_df['hasLift'].astype(int)"
   ]
  },
  {
   "cell_type": "markdown",
   "id": "7c91d773",
   "metadata": {},
   "source": [
    "Se procede a reemplazar los valores nulos por falso al considerar que no tiene parking por no especificarlo"
   ]
  },
  {
   "cell_type": "code",
   "execution_count": 30,
   "id": "a51091e1",
   "metadata": {},
   "outputs": [],
   "source": [
    "viviendas_limpieza_df['hasParkingSpace'] = viviendas_limpieza_df['hasParkingSpace'].fillna(False)"
   ]
  },
  {
   "cell_type": "markdown",
   "id": "19c7752f",
   "metadata": {},
   "source": [
    "Reemplazar los valores nulos en isParkingSpaceIncludedInPrice por False solo cuando hasParkingSpace es False"
   ]
  },
  {
   "cell_type": "code",
   "execution_count": 32,
   "id": "c37e4a87",
   "metadata": {},
   "outputs": [],
   "source": [
    "viviendas_limpieza_df.loc[viviendas_limpieza_df['hasParkingSpace'] == False, 'isParkingSpaceIncludedInPrice'] = viviendas_limpieza_df.loc[viviendas_limpieza_df['hasParkingSpace'] == False, 'isParkingSpaceIncludedInPrice'].fillna(False)"
   ]
  },
  {
   "cell_type": "markdown",
   "id": "7be7bdc3",
   "metadata": {},
   "source": [
    "Tranformamos a tipo integer"
   ]
  },
  {
   "cell_type": "code",
   "execution_count": 33,
   "id": "33416412",
   "metadata": {},
   "outputs": [],
   "source": [
    "viviendas_limpieza_df['hasParkingSpace'] =viviendas_limpieza_df['hasParkingSpace'].astype(int)\n",
    "viviendas_limpieza_df['isParkingSpaceIncludedInPrice'] =viviendas_limpieza_df['isParkingSpaceIncludedInPrice'].astype(int)"
   ]
  },
  {
   "cell_type": "markdown",
   "id": "f11dc34e",
   "metadata": {},
   "source": [
    "Se elimina la columna `subTipología` debido a su alto porcentaje de valores nulos. Además, la información que proporcionaba ya está cubierta por las columnas `Tipología`, `Tipo de Propiedad` y `Título`"
   ]
  },
  {
   "cell_type": "code",
   "execution_count": 34,
   "id": "6299e2f5",
   "metadata": {},
   "outputs": [],
   "source": [
    "viviendas_limpieza_df = viviendas_limpieza_df.drop('subTypology', axis=1)"
   ]
  },
  {
   "cell_type": "markdown",
   "id": "75c49369",
   "metadata": {},
   "source": [
    "Para la columna exterior reemplazamos por true todas los registros que la columna tipologia se chalet o country house. Mientras que ponemos false para las columnas cuya tipologia sea un piso"
   ]
  },
  {
   "cell_type": "code",
   "execution_count": 35,
   "id": "8ec3ed1e",
   "metadata": {},
   "outputs": [],
   "source": [
    "viviendas_limpieza_df.loc[viviendas_limpieza_df['typology'].isin(['chalet', 'countryHouse']) & viviendas_limpieza_df['exterior'].isnull(), 'exterior'] = True\n",
    "viviendas_limpieza_df.loc[viviendas_limpieza_df['typology'].isin(['flat']) & viviendas_limpieza_df['exterior'].isnull(), 'exterior'] = False"
   ]
  },
  {
   "cell_type": "markdown",
   "id": "4247836b",
   "metadata": {},
   "source": [
    "transformamos a integer"
   ]
  },
  {
   "cell_type": "code",
   "execution_count": 36,
   "id": "db3fe774",
   "metadata": {},
   "outputs": [],
   "source": [
    "viviendas_limpieza_df['exterior'] =viviendas_limpieza_df['exterior'].astype(int)"
   ]
  },
  {
   "cell_type": "markdown",
   "id": "a7ee7ecc",
   "metadata": {},
   "source": [
    "Porcentaje de valores faltantes"
   ]
  },
  {
   "cell_type": "code",
   "execution_count": 38,
   "id": "80625bcc",
   "metadata": {},
   "outputs": [
    {
     "name": "stdout",
     "output_type": "stream",
     "text": [
      "       Columnas  Porcentajes\n",
      "1  neighborhood    56.088083\n",
      "0      district    24.352332\n"
     ]
    }
   ],
   "source": [
    "porcentaje_datos_faltantes_df = getDatosFaltantes(viviendas_limpieza_df)\n",
    "print(porcentaje_datos_faltantes_df)"
   ]
  },
  {
   "cell_type": "markdown",
   "id": "25fdf03f",
   "metadata": {},
   "source": [
    "Se procede a eliminar las columnas  `district` y `neighborhood`, ya que la información que proporcionan está cubierta por otras columnas como `address`, `municipality` y `postcode`"
   ]
  },
  {
   "cell_type": "code",
   "execution_count": null,
   "id": "14f0e26f",
   "metadata": {},
   "outputs": [],
   "source": [
    "viviendas_limpieza_df = viviendas_limpieza_df.drop(['district','neighborhood'], axis=1)"
   ]
  },
  {
   "cell_type": "markdown",
   "id": "1b0ddd68",
   "metadata": {},
   "source": [
    "#### Visión general de la estructura de datos"
   ]
  },
  {
   "cell_type": "code",
   "execution_count": 40,
   "id": "62f0d7b4",
   "metadata": {},
   "outputs": [
    {
     "name": "stdout",
     "output_type": "stream",
     "text": [
      "<class 'pandas.core.frame.DataFrame'>\n",
      "Int64Index: 4632 entries, 0 to 4637\n",
      "Data columns (total 22 columns):\n",
      " #   Column                         Non-Null Count  Dtype  \n",
      "---  ------                         --------------  -----  \n",
      " 0   price                          4632 non-null   float64\n",
      " 1   propertyType                   4632 non-null   object \n",
      " 2   size                           4632 non-null   float64\n",
      " 3   rooms                          4632 non-null   int64  \n",
      " 4   bathrooms                      4632 non-null   int64  \n",
      " 5   address                        4632 non-null   object \n",
      " 6   municipality                   4632 non-null   object \n",
      " 7   latitude                       4632 non-null   float64\n",
      " 8   longitude                      4632 non-null   float64\n",
      " 9   description                    4632 non-null   object \n",
      " 10  status                         4632 non-null   object \n",
      " 11  priceByArea                    4632 non-null   float64\n",
      " 12  hasParkingSpace                4632 non-null   int32  \n",
      " 13  isParkingSpaceIncludedInPrice  4632 non-null   int32  \n",
      " 14  typology                       4632 non-null   object \n",
      " 15  subtitle                       4632 non-null   object \n",
      " 16  title                          4632 non-null   object \n",
      " 17  district                       3504 non-null   object \n",
      " 18  neighborhood                   2034 non-null   object \n",
      " 19  floor                          4632 non-null   object \n",
      " 20  exterior                       4632 non-null   int32  \n",
      " 21  hasLift                        4632 non-null   int32  \n",
      "dtypes: float64(5), int32(4), int64(2), object(11)\n",
      "memory usage: 759.9+ KB\n"
     ]
    }
   ],
   "source": [
    "viviendas_limpieza_df.info()"
   ]
  },
  {
   "cell_type": "markdown",
   "id": "445f127b",
   "metadata": {},
   "source": [
    "#### Consultar el porcentaje de valores faltantes"
   ]
  },
  {
   "cell_type": "code",
   "execution_count": 41,
   "id": "bff4022c",
   "metadata": {},
   "outputs": [
    {
     "name": "stdout",
     "output_type": "stream",
     "text": [
      "       Columnas  Porcentajes\n",
      "1  neighborhood    56.088083\n",
      "0      district    24.352332\n"
     ]
    }
   ],
   "source": [
    "porcentaje_datos_faltantes_df_2 = getDatosFaltantes(viviendas_limpieza_df)\n",
    "print(porcentaje_datos_faltantes_df_2)"
   ]
  },
  {
   "cell_type": "markdown",
   "id": "579bcd47",
   "metadata": {},
   "source": [
    "Transformar las columnas categoricas a minúsculas"
   ]
  },
  {
   "cell_type": "code",
   "execution_count": null,
   "id": "bc74fdad",
   "metadata": {},
   "outputs": [],
   "source": [
    "columnas_categoricas = viviendas_limpieza_df.select_dtypes(exclude=[np.number]).columns\n",
    "viviendas_limpieza_df = transformarMiniscula(viviendas_limpieza_df,columnas_categoricas)"
   ]
  },
  {
   "cell_type": "markdown",
   "id": "745a2cff",
   "metadata": {},
   "source": [
    "Se procede a guardar el conjunto de datos en un archivo CSV para su posterior análisis en la fase de análisis exploratorio"
   ]
  },
  {
   "cell_type": "code",
   "execution_count": 17,
   "id": "2a774fbe",
   "metadata": {},
   "outputs": [],
   "source": [
    "csv_path = 'data_staging/viviendas_limpieza_df_parte_2.csv'\n",
    "viviendas_limpieza_df.to_csv(csv_path, index=False)"
   ]
  },
  {
   "cell_type": "code",
   "execution_count": null,
   "id": "476f8809",
   "metadata": {},
   "outputs": [],
   "source": []
  }
 ],
 "metadata": {
  "kernelspec": {
   "display_name": "Python 3 (ipykernel)",
   "language": "python",
   "name": "python3"
  },
  "language_info": {
   "codemirror_mode": {
    "name": "ipython",
    "version": 3
   },
   "file_extension": ".py",
   "mimetype": "text/x-python",
   "name": "python",
   "nbconvert_exporter": "python",
   "pygments_lexer": "ipython3",
   "version": "3.10.9"
  }
 },
 "nbformat": 4,
 "nbformat_minor": 5
}
