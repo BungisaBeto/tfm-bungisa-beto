{
 "cells": [
  {
   "cell_type": "markdown",
   "id": "0fa8d229",
   "metadata": {},
   "source": [
    "\n",
    "\n",
    "# Predicción del precio de la vivienda mediante aprendizaje automático\n",
    "\n",
    "## Trabajo Final De Master\n",
    "\n",
    "## Universidad de Valladolid\n",
    "\n",
    "#### Bungisa Beto Bibeyi\n"
   ]
  },
  {
   "cell_type": "code",
   "execution_count": null,
   "id": "198c7a88",
   "metadata": {},
   "outputs": [],
   "source": [
    "### LIMPIEZA DE DATOS PARTE 1"
   ]
  },
  {
   "cell_type": "markdown",
   "id": "9d3c3631",
   "metadata": {},
   "source": [
    "### Librerias"
   ]
  },
  {
   "cell_type": "code",
   "execution_count": 15,
   "id": "0ee164c7",
   "metadata": {},
   "outputs": [],
   "source": [
    "import os\n",
    "import json\n",
    "import pandas as pd\n",
    "import numpy as np\n",
    "import seaborn as sns\n",
    "from tabulate import tabulate\n",
    "import matplotlib.pyplot as plt"
   ]
  },
  {
   "cell_type": "markdown",
   "id": "35eeadef",
   "metadata": {},
   "source": [
    "### FUNCIONES"
   ]
  },
  {
   "cell_type": "markdown",
   "id": "ab9c4571",
   "metadata": {},
   "source": [
    "funcion leer fichero JSON"
   ]
  },
  {
   "cell_type": "code",
   "execution_count": 16,
   "id": "6e58ce98",
   "metadata": {},
   "outputs": [],
   "source": [
    "\n",
    "def leerFicheroJson(ruta,codificacion):\n",
    "    \n",
    "    print('inicio de la función leerFicheroJson')\n",
    "    \n",
    "    # Lista para almacenar los DataFrames de cada archivo JSON\n",
    "    dataframes = []\n",
    "\n",
    "    # Iterar sobre cada archivo en el directorio\n",
    "    for filename in os.listdir(ruta):\n",
    "        if filename.endswith(\".json\"):\n",
    "            file_path = os.path.join(input_path, filename)\n",
    "            with open(file_path, 'r',encoding=codificacion) as file:    \n",
    "                data = json.load(file)\n",
    "                df = pd.json_normalize(data,\"elementList\")\n",
    "                dataframes.append(df)\n",
    "\n",
    "    # Combinar todos los DataFrames en uno solo\n",
    "    data_df = pd.concat(dataframes, ignore_index=True)\n",
    "    print('fin de la función leerFicheroJson')\n",
    "    return data_df"
   ]
  },
  {
   "cell_type": "markdown",
   "id": "8ce428e8",
   "metadata": {},
   "source": [
    "### Formato Conjunto de datos (JSON)\n",
    "\n",
    "```json\n",
    "\n",
    "{\n",
    "    \"elementList\": [\n",
    "               {\n",
    "            \"propertyCode\": \"83911425\",\n",
    "            \"thumbnail\": \"https://img4.idealista.com/blur/WEB_LISTING/0/id.pro.es.image.master/b3/e5/0f/788025256.webp\",\n",
    "            \"externalReference\": \"MOV00899\",\n",
    "            \"numPhotos\": 42,\n",
    "            \"price\": 1.04E7,\n",
    "            \"priceInfo\": {\n",
    "                \"price\": {\n",
    "                    \"amount\": 1.04E7\n",
    "                }\n",
    "            },\n",
    "            \"propertyType\": \"chalet\",\n",
    "            \"operation\": \"sale\",\n",
    "            \"size\": 1410.0,\n",
    "            \"rooms\": 7,\n",
    "            \"bathrooms\": 9,\n",
    "            \"address\": \"paseo del Conde de los Gaitanes\",\n",
    "            \"province\": \"Madrid\",\n",
    "            \"municipality\": \"La Moraleja\",\n",
    "            \"district\": \"La Moraleja urbanización\",\n",
    "            \"country\": \"es\",\n",
    "            \"latitude\": 40.52408,\n",
    "            \"longitude\": -3.6291985,\n",
    "            \"showAddress\": false,\n",
    "            \"url\": \"https://www.idealista.com/inmueble/83911425/\",\n",
    "            \"description\": \"Les presentamos una de las más espectaculares mansiones de La Moraleja. Se trata de un chalet de más de 1.400 m2 diseñado por el prestigioso arquitecto Marcos Sainz y con la elegante decoración de Paco Terán, ambos han utilizado los mejores materiales del mercado, dándole protagonismo a los materiales naturales como la piedra y la madera para conseguir así un resultado que impacta e invita a disfrutar de cada rincón. El chalet es sencillamente impresionante, en él se combina la elegancia, el estilo señorial y el buen gusto. Destacamos sus amplias zonas de recibo, sus estupendas zonas de relax como la sauna, la piscina interior y el gimnasio. También encontramos unas estupendas zonas de juegos y de estar. Todo para compartir con familia y amigos tanto en invierno como en verano. La parcela cuenta con un precioso arbolado, un jardín diseñado por paisajistas y una gran piscina estilo Munich que dan el marco perfecto para que esta propiedad sea única. DESALAS. Ref: MOV00899.  MUCHAS DE NUESTRAS PROPIEDADES NO APARECEN EN IDEALISTA. CONSULTE EN NUESTRA PÁGINA WEB DE “De Salas”, PARA VER MÁS VIVIENDAS EN EXCLUSIVA. DISTRIBUCIÓN PLANTA BAJA - Hall (23 m2), salón (55 m2) con chimenea cassette y cuarto de estar (26 m2) con chimenea. - Comedor (27 m2), despacho (11 m2) y aseo de invitados. - 1 dormitorio (23 m2) con baño en suite. - Cuarto zapatero. - Piscina interior y baño turco (50 m2). - Cocina Alno (29 m2) con gran office (20 m2) y despensa. - 2 dormitorios de servicio y 2 baños de servicio. - Lavadero y tendedero cubierto.  PRIMERA PLANTA - 4 dormitorios (todos los dormitorios con baño en suite y dormitorio principal con terracita, 2 vestidores y baño en suite con jacuzzi) - 4 baños - Despacho - Cuarto de estar - Cuarto de limpieza y ropa limpia SÓTANO - Salón con barra y horno de leña (50 m2). - Bodega climatizada (50 m2). - Sala de juegos y amplio salón. - Baño. - Leñera. - Cuarto de máquinas, ascensor y montacargas. - Almacén. - Gran porche. - Piscina interior, zona de gimnasio y sauna. - Garaje: (3 plazas aut. ) - Piscina (tipo Munich), pista de pádel, pozo - Casita: Salón, 1 Dormitorio y 1 baño - Calefacción de gas natural por suelo y A/A frío calor, domótica. La Moraleja es una urbanización residencial en la zona norte del área metropolitana de Madrid, compuesta por La Moraleja, El Soto y El Encinar de los Reyes. Se encuentra a tan solo 15 minutos del Aeropuerto de Barajas y nueva terminal T4 y acceso inmediato a los cinturones de circunvalación M40 y M50, las autovías radiales A1, R2 y próxima R1. En la zona se ubican el mayor número de colegios privados, 18 en total, de toda España, nacionales e internacionales (entre otros el International College, King’s College, San Patricio, Runymede, Los Sauces, Brains, Santa Helena, Saint George, Highlands, Aldovea, Liceo Europeo, etc…). Acoge además uno de los dos campus que la Universidad Europea de Madrid tiene en la Comunidad de Madrid. Cuenta con dos campos de golf de 18 hoyos, club de tenis, club de paddel, así como varios centros comerciales y médicos y una de las ofertas gastronómicas más atractiva de Madrid. Es un área que goza de gran seguridad ya que cuenta con instalación de cámaras, un sistema de alarmas que está conectado con la Entidad de Conservación, y un equipo de seguridad propio que garantizan unos altos niveles de seguridad.\",\n",
    "            \"hasVideo\": true,\n",
    "            \"status\": \"good\",\n",
    "            \"newDevelopment\": false,\n",
    "            \"parkingSpace\": {\n",
    "                \"hasParkingSpace\": true,\n",
    "                \"isParkingSpaceIncludedInPrice\": true\n",
    "            },\n",
    "            \"priceByArea\": 7376.0,\n",
    "            \"detailedType\": {\n",
    "                \"typology\": \"chalet\",\n",
    "                \"subTypology\": \"independantHouse\"\n",
    "            },\n",
    "            \"suggestedTexts\": {\n",
    "                \"subtitle\": \"La Moraleja urbanización, La Moraleja\",\n",
    "                \"title\": \"Casa independiente en paseo del Conde de los Gaitanes\"\n",
    "            },\n",
    "            \"hasPlan\": true,\n",
    "            \"has3DTour\": true,\n",
    "            \"has360\": false,\n",
    "            \"hasStaging\": true,\n",
    "            \"highlight\": {\n",
    "                \"groupDescription\": \"Top\"\n",
    "            },\n",
    "            \"topNewDevelopment\": false,\n",
    "            \"topPlus\": false\n",
    "        }\n",
    "            ]\n",
    "\n",
    "}\n",
    "\n",
    "```"
   ]
  },
  {
   "cell_type": "markdown",
   "id": "fa74b157",
   "metadata": {},
   "source": [
    "### Descripción de los campos\n",
    "\n",
    "\n",
    "**propertyCode**: Identificador único de la vivienda en Idealista  \n",
    "**thumbnail**: URL de la imagen en miniatura  \n",
    "**externalReference**: Referencia externa a la vivienda  \n",
    "**numPhotos**: Número total de fotos disponibles para la vivienda  \n",
    "**price**: Precio de la propiedad  \n",
    "**propertyType:** Tipo de propiedad como apartamentos, casa, oficina  \n",
    "**operation:** Tipo de operación como venta, alquiler  \n",
    "**size:** Tamaño de la vivienda en metros cuadrados  \n",
    "**rooms:** Número de habitaciones en la vivienda  \n",
    "**bathrooms:** Número de baños en la vivienda  \n",
    "**address:** Dirección completa de la vivienda  \n",
    "**province:** Provincia donde se encuentra la vivienda  \n",
    "**municipality:** Municipio donde se encuentra la vivienda  \n",
    "**country:** País donde se encuentra la vivienda  \n",
    "**latitude:** Coordenada de latitud de la vivienda  \n",
    "**longitude:** Coordenada de longitud de la vivienda  \n",
    "**showAddress:** Indica si la dirección completa está visible en el anuncio  \n",
    "**url:** URL del anuncio de la vivienda en Idealista  \n",
    "**description:** Descripción textual de la vivienda  \n",
    "**hasVideo:** Indica si hay un video disponible para la vivienda  \n",
    "**status:** Estado de la vivienda como disponible, reservado  \n",
    "**newDevelopment:** Indica si la propiedad es una nueva construcción  \n",
    "**priceByArea:** Precio por metro cuadrado de la vivienda  \n",
    "**hasPlan:** Indica si hay planos disponibles para la vivienda  \n",
    "**has3DTour:** Indica si hay un recorrido en 3D disponible  \n",
    "**has360:** Indica si hay fotos panorámicas de 360 grados  \n",
    "**hasStaging:**  Indica si se han realizado staging (decoración) en la vivienda  \n",
    "**topNewDevelopment:** Indica si la propiedad está destacada como uno de los principales nuevos desarrollos  \n",
    "**topPlus:** Indica si la propiedad está destacada como una de las principales  \n",
    "**priceInfo.price.amount:** Monto del precio de la vivienda  \n",
    "**parkingSpace.hasParkingSpace:** Indica si la propiedad incluye espacio de estacionamiento  \n",
    "**parkingSpace.isParkingSpaceIncludedInPrice:** Indica si el espacio de estacionamiento está incluido en el precio de la propiedad  \n",
    "**detailedType.typology:** Tipología detallada de la vivienda como apartamento, casa.  \n",
    "**detailedType.subTypology:** Subtipología de la vivienda como duplex, atico.  \n",
    "**suggestedTexts.subtitle:** Subtítulo sugerido para el anuncio  \n",
    "**suggestedTexts.title:** Título sugerido para el anuncio  \n",
    "**highlight.groupDescription:** Descripción del grupo de características destacadas  \n",
    "**district:** Distrito en el que se encuentra la vivienda  \n",
    "**neighborhood:** Barrio en el que se encuentra la vivienda  \n",
    "**floor:** Número del piso en el que se encuentra la vivienda  \n",
    "**exterior:** Indica si la propiedad es exterior (con vistas al exterior) o interior.  \n",
    "**hasLift:** Indica si el edificio cuenta con ascensor  \n",
    "**newDevelopmentFinished:** Indica si el nuevo desarrollo está terminado  \n",
    "**parkingSpace.parkingSpacePrice:** Precio del espacio de estacionamiento  \n",
    "**priceInfo.price.priceDropInfo.formerPrice:** Precio anterior de la propiedad antes de cualquier reducción  \n",
    "**priceInfo.price.priceDropInfo.priceDropValue:** Valor de la reducción del precio  \n",
    "**priceInfo.price.priceDropInfo.priceDropPercentage:** Valor de la reducción del porcentaje  "
   ]
  },
  {
   "cell_type": "markdown",
   "id": "b4880482",
   "metadata": {},
   "source": [
    "### Lectura de los datos"
   ]
  },
  {
   "cell_type": "code",
   "execution_count": 17,
   "id": "d653e77e",
   "metadata": {},
   "outputs": [
    {
     "name": "stdout",
     "output_type": "stream",
     "text": [
      "inicio de la función leerFicheroJson\n",
      "fin de la función leerFicheroJson\n"
     ]
    }
   ],
   "source": [
    "# Especificar el directorio que contiene los archivos JSON\n",
    "input_path = \"datos_crudos/viviendas_idealista_madrid\"\n",
    "viviendas_df=leerFicheroJson(input_path,'utf-8-sig')"
   ]
  },
  {
   "cell_type": "markdown",
   "id": "5bff93c4",
   "metadata": {},
   "source": [
    "### Exploracion inicial de los datos\n",
    "\n",
    "La estructura del fichero JSON leído es heterogénea o variable, lo que implica que los objetos pueden tener diferentes conjuntos de claves o variar en los tipos de valores asociados a estas claves. Al cargar los datos, los campos que no están presentes en todos los objetos se rellenan con valores nulos (NaN).\n",
    "\n",
    "En esta fase, se realizará una observación inicial sobre el conjunto de datos, en la que se determinarán los siguientes aspectos:\n",
    "\n",
    "  - El número de registros y columnas que tiene el conjunto de datos.\n",
    "  - Cómo se presentan los datos y si se han cargado correctamente.\n",
    "  - La necesidad de renombrar las columnas para mejorar el análisis del conjunto de datos."
   ]
  },
  {
   "cell_type": "code",
   "execution_count": 18,
   "id": "f3daf4b8",
   "metadata": {},
   "outputs": [
    {
     "data": {
      "text/plain": [
       "(4768, 48)"
      ]
     },
     "execution_count": 18,
     "metadata": {},
     "output_type": "execute_result"
    }
   ],
   "source": [
    "viviendas_df.shape"
   ]
  },
  {
   "cell_type": "markdown",
   "id": "9a02f8f7",
   "metadata": {},
   "source": [
    "##### Observaciones:\n",
    " - Se observa que el conjunto de datos cargado consta de 4,768 registros y 48 columnas."
   ]
  },
  {
   "cell_type": "markdown",
   "id": "19f33ce2",
   "metadata": {},
   "source": [
    "### Renombrar Campos\n",
    "\n",
    " - Se procede a renombrar las columnas para facilitar la claridad, consistencia y manejo del conjunto de datos"
   ]
  },
  {
   "cell_type": "code",
   "execution_count": 19,
   "id": "fc089abc",
   "metadata": {},
   "outputs": [],
   "source": [
    "viviendas_df = viviendas_df.rename(columns={\n",
    "    'priceInfo.price.amount': 'amount', \n",
    "    'parkingSpace.hasParkingSpace': 'hasParkingSpace', \n",
    "    'parkingSpace.isParkingSpaceIncludedInPrice':'isParkingSpaceIncludedInPrice',\n",
    "    'detailedType.typology':'typology',\n",
    "    'detailedType.subTypology': 'subTypology', \n",
    "    'suggestedTexts.subtitle': 'subtitle', \n",
    "    'suggestedTexts.title':'title',\n",
    "    'highlight.groupDescription':'groupDescription',\n",
    "    'parkingSpace.parkingSpacePrice': 'parkingSpacePrice', \n",
    "    'priceInfo.price.priceDropInfo.formerPrice': 'formerPrice', \n",
    "    'priceInfo.price.priceDropInfo.priceDropValue':'priceDropValue',\n",
    "    'priceInfo.price.priceDropInfo.priceDropPercentage':'priceDropPercentage',\n",
    "    'priceInfo.price.currencySuffix':'currencySuffix'\n",
    "    })"
   ]
  },
  {
   "cell_type": "markdown",
   "id": "22827a27",
   "metadata": {},
   "source": [
    "#### Información del conjunto de datos"
   ]
  },
  {
   "cell_type": "code",
   "execution_count": 20,
   "id": "ec2c0da2",
   "metadata": {},
   "outputs": [
    {
     "data": {
      "text/html": [
       "<div>\n",
       "<style scoped>\n",
       "    .dataframe tbody tr th:only-of-type {\n",
       "        vertical-align: middle;\n",
       "    }\n",
       "\n",
       "    .dataframe tbody tr th {\n",
       "        vertical-align: top;\n",
       "    }\n",
       "\n",
       "    .dataframe thead th {\n",
       "        text-align: right;\n",
       "    }\n",
       "</style>\n",
       "<table border=\"1\" class=\"dataframe\">\n",
       "  <thead>\n",
       "    <tr style=\"text-align: right;\">\n",
       "      <th></th>\n",
       "      <th>propertyCode</th>\n",
       "      <th>thumbnail</th>\n",
       "      <th>externalReference</th>\n",
       "      <th>numPhotos</th>\n",
       "      <th>price</th>\n",
       "      <th>propertyType</th>\n",
       "      <th>operation</th>\n",
       "      <th>size</th>\n",
       "      <th>rooms</th>\n",
       "      <th>bathrooms</th>\n",
       "      <th>address</th>\n",
       "      <th>province</th>\n",
       "      <th>municipality</th>\n",
       "      <th>country</th>\n",
       "      <th>latitude</th>\n",
       "    </tr>\n",
       "  </thead>\n",
       "  <tbody>\n",
       "    <tr>\n",
       "      <th>0</th>\n",
       "      <td>461626</td>\n",
       "      <td>https://img4.idealista.com/blur/WEB_LISTING/0/...</td>\n",
       "      <td>VC9295</td>\n",
       "      <td>27</td>\n",
       "      <td>1125000.0</td>\n",
       "      <td>chalet</td>\n",
       "      <td>sale</td>\n",
       "      <td>500.0</td>\n",
       "      <td>10</td>\n",
       "      <td>6</td>\n",
       "      <td>Ciudalcampo</td>\n",
       "      <td>Madrid</td>\n",
       "      <td>Ciudalcampo</td>\n",
       "      <td>es</td>\n",
       "      <td>40.634800</td>\n",
       "    </tr>\n",
       "    <tr>\n",
       "      <th>1</th>\n",
       "      <td>471045</td>\n",
       "      <td>https://img4.idealista.com/blur/WEB_LISTING/0/...</td>\n",
       "      <td>V07639.1</td>\n",
       "      <td>6</td>\n",
       "      <td>785000.0</td>\n",
       "      <td>chalet</td>\n",
       "      <td>sale</td>\n",
       "      <td>800.0</td>\n",
       "      <td>3</td>\n",
       "      <td>3</td>\n",
       "      <td>La Berzosilla</td>\n",
       "      <td>Madrid</td>\n",
       "      <td>Torrelodones</td>\n",
       "      <td>es</td>\n",
       "      <td>40.583729</td>\n",
       "    </tr>\n",
       "    <tr>\n",
       "      <th>2</th>\n",
       "      <td>492789</td>\n",
       "      <td>https://img4.idealista.com/blur/WEB_LISTING/0/...</td>\n",
       "      <td>VC2116</td>\n",
       "      <td>41</td>\n",
       "      <td>2950000.0</td>\n",
       "      <td>chalet</td>\n",
       "      <td>sale</td>\n",
       "      <td>500.0</td>\n",
       "      <td>6</td>\n",
       "      <td>4</td>\n",
       "      <td>barrio El Plantío</td>\n",
       "      <td>Madrid</td>\n",
       "      <td>Madrid</td>\n",
       "      <td>es</td>\n",
       "      <td>40.476875</td>\n",
       "    </tr>\n",
       "    <tr>\n",
       "      <th>3</th>\n",
       "      <td>175162</td>\n",
       "      <td>https://img4.idealista.com/blur/WEB_LISTING/0/...</td>\n",
       "      <td>3º A</td>\n",
       "      <td>41</td>\n",
       "      <td>795000.0</td>\n",
       "      <td>flat</td>\n",
       "      <td>sale</td>\n",
       "      <td>201.0</td>\n",
       "      <td>2</td>\n",
       "      <td>2</td>\n",
       "      <td>calle Garcia Quintanilla, 4</td>\n",
       "      <td>Madrid</td>\n",
       "      <td>Madrid</td>\n",
       "      <td>es</td>\n",
       "      <td>40.444223</td>\n",
       "    </tr>\n",
       "    <tr>\n",
       "      <th>4</th>\n",
       "      <td>25486621</td>\n",
       "      <td>https://img4.idealista.com/blur/WEB_LISTING/0/...</td>\n",
       "      <td>10p44</td>\n",
       "      <td>41</td>\n",
       "      <td>4000000.0</td>\n",
       "      <td>chalet</td>\n",
       "      <td>sale</td>\n",
       "      <td>800.0</td>\n",
       "      <td>5</td>\n",
       "      <td>8</td>\n",
       "      <td>barrio Prado Largo</td>\n",
       "      <td>Madrid</td>\n",
       "      <td>Pozuelo de Alarcón</td>\n",
       "      <td>es</td>\n",
       "      <td>40.427107</td>\n",
       "    </tr>\n",
       "  </tbody>\n",
       "</table>\n",
       "</div>"
      ],
      "text/plain": [
       "  propertyCode                                          thumbnail  \\\n",
       "0       461626  https://img4.idealista.com/blur/WEB_LISTING/0/...   \n",
       "1       471045  https://img4.idealista.com/blur/WEB_LISTING/0/...   \n",
       "2       492789  https://img4.idealista.com/blur/WEB_LISTING/0/...   \n",
       "3       175162  https://img4.idealista.com/blur/WEB_LISTING/0/...   \n",
       "4     25486621  https://img4.idealista.com/blur/WEB_LISTING/0/...   \n",
       "\n",
       "  externalReference  numPhotos      price propertyType operation   size  \\\n",
       "0            VC9295         27  1125000.0       chalet      sale  500.0   \n",
       "1          V07639.1          6   785000.0       chalet      sale  800.0   \n",
       "2            VC2116         41  2950000.0       chalet      sale  500.0   \n",
       "3              3º A         41   795000.0         flat      sale  201.0   \n",
       "4             10p44         41  4000000.0       chalet      sale  800.0   \n",
       "\n",
       "   rooms  bathrooms                      address province        municipality  \\\n",
       "0     10          6                  Ciudalcampo   Madrid         Ciudalcampo   \n",
       "1      3          3                La Berzosilla   Madrid        Torrelodones   \n",
       "2      6          4            barrio El Plantío   Madrid              Madrid   \n",
       "3      2          2  calle Garcia Quintanilla, 4   Madrid              Madrid   \n",
       "4      5          8           barrio Prado Largo   Madrid  Pozuelo de Alarcón   \n",
       "\n",
       "  country   latitude  \n",
       "0      es  40.634800  \n",
       "1      es  40.583729  \n",
       "2      es  40.476875  \n",
       "3      es  40.444223  \n",
       "4      es  40.427107  "
      ]
     },
     "execution_count": 20,
     "metadata": {},
     "output_type": "execute_result"
    }
   ],
   "source": [
    "viviendas_df[viviendas_df.columns[0:15]].head()"
   ]
  },
  {
   "cell_type": "code",
   "execution_count": 21,
   "id": "97a0f57e",
   "metadata": {},
   "outputs": [
    {
     "data": {
      "text/html": [
       "<div>\n",
       "<style scoped>\n",
       "    .dataframe tbody tr th:only-of-type {\n",
       "        vertical-align: middle;\n",
       "    }\n",
       "\n",
       "    .dataframe tbody tr th {\n",
       "        vertical-align: top;\n",
       "    }\n",
       "\n",
       "    .dataframe thead th {\n",
       "        text-align: right;\n",
       "    }\n",
       "</style>\n",
       "<table border=\"1\" class=\"dataframe\">\n",
       "  <thead>\n",
       "    <tr style=\"text-align: right;\">\n",
       "      <th></th>\n",
       "      <th>longitude</th>\n",
       "      <th>showAddress</th>\n",
       "      <th>url</th>\n",
       "      <th>description</th>\n",
       "      <th>hasVideo</th>\n",
       "      <th>status</th>\n",
       "      <th>newDevelopment</th>\n",
       "      <th>priceByArea</th>\n",
       "      <th>hasPlan</th>\n",
       "      <th>has3DTour</th>\n",
       "      <th>has360</th>\n",
       "      <th>hasStaging</th>\n",
       "      <th>topNewDevelopment</th>\n",
       "      <th>topPlus</th>\n",
       "      <th>amount</th>\n",
       "    </tr>\n",
       "  </thead>\n",
       "  <tbody>\n",
       "    <tr>\n",
       "      <th>0</th>\n",
       "      <td>-3.595819</td>\n",
       "      <td>False</td>\n",
       "      <td>https://www.idealista.com/inmueble/461626/</td>\n",
       "      <td>Ideal para dos familias. Casa construida a fin...</td>\n",
       "      <td>True</td>\n",
       "      <td>good</td>\n",
       "      <td>False</td>\n",
       "      <td>2250.0</td>\n",
       "      <td>True</td>\n",
       "      <td>False</td>\n",
       "      <td>False</td>\n",
       "      <td>False</td>\n",
       "      <td>False</td>\n",
       "      <td>False</td>\n",
       "      <td>1125000.0</td>\n",
       "    </tr>\n",
       "    <tr>\n",
       "      <th>1</th>\n",
       "      <td>-3.949424</td>\n",
       "      <td>False</td>\n",
       "      <td>https://www.idealista.com/inmueble/471045/</td>\n",
       "      <td>TORRELODONES. GRAN CHALET INDEPENDIENTE A ESTR...</td>\n",
       "      <td>False</td>\n",
       "      <td>good</td>\n",
       "      <td>False</td>\n",
       "      <td>981.0</td>\n",
       "      <td>True</td>\n",
       "      <td>False</td>\n",
       "      <td>False</td>\n",
       "      <td>False</td>\n",
       "      <td>False</td>\n",
       "      <td>False</td>\n",
       "      <td>785000.0</td>\n",
       "    </tr>\n",
       "    <tr>\n",
       "      <th>2</th>\n",
       "      <td>-3.825426</td>\n",
       "      <td>False</td>\n",
       "      <td>https://www.idealista.com/inmueble/492789/</td>\n",
       "      <td>AMBASSADOR Les ofrece un inmueble muy especial...</td>\n",
       "      <td>False</td>\n",
       "      <td>good</td>\n",
       "      <td>False</td>\n",
       "      <td>5900.0</td>\n",
       "      <td>False</td>\n",
       "      <td>False</td>\n",
       "      <td>False</td>\n",
       "      <td>False</td>\n",
       "      <td>False</td>\n",
       "      <td>False</td>\n",
       "      <td>2950000.0</td>\n",
       "    </tr>\n",
       "    <tr>\n",
       "      <th>3</th>\n",
       "      <td>-3.642674</td>\n",
       "      <td>True</td>\n",
       "      <td>https://www.idealista.com/obra-nueva/175162/</td>\n",
       "      <td>\"TIEMPO PARA EL DETALLE\"TIME FOR DETAIL\"ZEIT F...</td>\n",
       "      <td>False</td>\n",
       "      <td>newdevelopment</td>\n",
       "      <td>True</td>\n",
       "      <td>3955.0</td>\n",
       "      <td>True</td>\n",
       "      <td>False</td>\n",
       "      <td>False</td>\n",
       "      <td>False</td>\n",
       "      <td>False</td>\n",
       "      <td>False</td>\n",
       "      <td>795000.0</td>\n",
       "    </tr>\n",
       "    <tr>\n",
       "      <th>4</th>\n",
       "      <td>-3.847710</td>\n",
       "      <td>False</td>\n",
       "      <td>https://www.idealista.com/inmueble/25486621/</td>\n",
       "      <td>Residencial Noroeste vende este exclusivo chal...</td>\n",
       "      <td>False</td>\n",
       "      <td>good</td>\n",
       "      <td>False</td>\n",
       "      <td>5000.0</td>\n",
       "      <td>False</td>\n",
       "      <td>False</td>\n",
       "      <td>False</td>\n",
       "      <td>False</td>\n",
       "      <td>False</td>\n",
       "      <td>False</td>\n",
       "      <td>4000000.0</td>\n",
       "    </tr>\n",
       "  </tbody>\n",
       "</table>\n",
       "</div>"
      ],
      "text/plain": [
       "   longitude  showAddress                                           url  \\\n",
       "0  -3.595819        False    https://www.idealista.com/inmueble/461626/   \n",
       "1  -3.949424        False    https://www.idealista.com/inmueble/471045/   \n",
       "2  -3.825426        False    https://www.idealista.com/inmueble/492789/   \n",
       "3  -3.642674         True  https://www.idealista.com/obra-nueva/175162/   \n",
       "4  -3.847710        False  https://www.idealista.com/inmueble/25486621/   \n",
       "\n",
       "                                         description  hasVideo  \\\n",
       "0  Ideal para dos familias. Casa construida a fin...      True   \n",
       "1  TORRELODONES. GRAN CHALET INDEPENDIENTE A ESTR...     False   \n",
       "2  AMBASSADOR Les ofrece un inmueble muy especial...     False   \n",
       "3  \"TIEMPO PARA EL DETALLE\"TIME FOR DETAIL\"ZEIT F...     False   \n",
       "4  Residencial Noroeste vende este exclusivo chal...     False   \n",
       "\n",
       "           status  newDevelopment  priceByArea  hasPlan  has3DTour  has360  \\\n",
       "0            good           False       2250.0     True      False   False   \n",
       "1            good           False        981.0     True      False   False   \n",
       "2            good           False       5900.0    False      False   False   \n",
       "3  newdevelopment            True       3955.0     True      False   False   \n",
       "4            good           False       5000.0    False      False   False   \n",
       "\n",
       "   hasStaging  topNewDevelopment  topPlus     amount  \n",
       "0       False              False    False  1125000.0  \n",
       "1       False              False    False   785000.0  \n",
       "2       False              False    False  2950000.0  \n",
       "3       False              False    False   795000.0  \n",
       "4       False              False    False  4000000.0  "
      ]
     },
     "execution_count": 21,
     "metadata": {},
     "output_type": "execute_result"
    }
   ],
   "source": [
    "viviendas_df[viviendas_df.columns[15:30]].head()"
   ]
  },
  {
   "cell_type": "code",
   "execution_count": 22,
   "id": "ed54874c",
   "metadata": {
    "scrolled": true
   },
   "outputs": [
    {
     "data": {
      "text/html": [
       "<div>\n",
       "<style scoped>\n",
       "    .dataframe tbody tr th:only-of-type {\n",
       "        vertical-align: middle;\n",
       "    }\n",
       "\n",
       "    .dataframe tbody tr th {\n",
       "        vertical-align: top;\n",
       "    }\n",
       "\n",
       "    .dataframe thead th {\n",
       "        text-align: right;\n",
       "    }\n",
       "</style>\n",
       "<table border=\"1\" class=\"dataframe\">\n",
       "  <thead>\n",
       "    <tr style=\"text-align: right;\">\n",
       "      <th></th>\n",
       "      <th>hasParkingSpace</th>\n",
       "      <th>isParkingSpaceIncludedInPrice</th>\n",
       "      <th>typology</th>\n",
       "      <th>subTypology</th>\n",
       "      <th>subtitle</th>\n",
       "      <th>title</th>\n",
       "      <th>groupDescription</th>\n",
       "      <th>district</th>\n",
       "      <th>neighborhood</th>\n",
       "      <th>floor</th>\n",
       "      <th>exterior</th>\n",
       "      <th>hasLift</th>\n",
       "      <th>newDevelopmentFinished</th>\n",
       "      <th>parkingSpacePrice</th>\n",
       "      <th>formerPrice</th>\n",
       "      <th>priceDropValue</th>\n",
       "      <th>priceDropPercentage</th>\n",
       "      <th>currencySuffix</th>\n",
       "    </tr>\n",
       "  </thead>\n",
       "  <tbody>\n",
       "    <tr>\n",
       "      <th>0</th>\n",
       "      <td>True</td>\n",
       "      <td>True</td>\n",
       "      <td>chalet</td>\n",
       "      <td>independantHouse</td>\n",
       "      <td>Ciudalcampo</td>\n",
       "      <td>Casa independiente</td>\n",
       "      <td>Top</td>\n",
       "      <td>NaN</td>\n",
       "      <td>NaN</td>\n",
       "      <td>NaN</td>\n",
       "      <td>NaN</td>\n",
       "      <td>NaN</td>\n",
       "      <td>NaN</td>\n",
       "      <td>NaN</td>\n",
       "      <td>NaN</td>\n",
       "      <td>NaN</td>\n",
       "      <td>NaN</td>\n",
       "      <td>NaN</td>\n",
       "    </tr>\n",
       "    <tr>\n",
       "      <th>1</th>\n",
       "      <td>NaN</td>\n",
       "      <td>NaN</td>\n",
       "      <td>chalet</td>\n",
       "      <td>independantHouse</td>\n",
       "      <td>La Berzosilla, Torrelodones</td>\n",
       "      <td>Casa independiente</td>\n",
       "      <td>NaN</td>\n",
       "      <td>La Berzosilla</td>\n",
       "      <td>NaN</td>\n",
       "      <td>NaN</td>\n",
       "      <td>NaN</td>\n",
       "      <td>NaN</td>\n",
       "      <td>NaN</td>\n",
       "      <td>NaN</td>\n",
       "      <td>NaN</td>\n",
       "      <td>NaN</td>\n",
       "      <td>NaN</td>\n",
       "      <td>NaN</td>\n",
       "    </tr>\n",
       "    <tr>\n",
       "      <th>2</th>\n",
       "      <td>True</td>\n",
       "      <td>True</td>\n",
       "      <td>chalet</td>\n",
       "      <td>independantHouse</td>\n",
       "      <td>El Plantío, Madrid</td>\n",
       "      <td>Casa independiente</td>\n",
       "      <td>Top</td>\n",
       "      <td>Moncloa</td>\n",
       "      <td>El Plantío</td>\n",
       "      <td>NaN</td>\n",
       "      <td>NaN</td>\n",
       "      <td>NaN</td>\n",
       "      <td>NaN</td>\n",
       "      <td>NaN</td>\n",
       "      <td>NaN</td>\n",
       "      <td>NaN</td>\n",
       "      <td>NaN</td>\n",
       "      <td>NaN</td>\n",
       "    </tr>\n",
       "    <tr>\n",
       "      <th>3</th>\n",
       "      <td>True</td>\n",
       "      <td>True</td>\n",
       "      <td>flat</td>\n",
       "      <td>NaN</td>\n",
       "      <td>Concepción, Madrid</td>\n",
       "      <td>Piso en calle Garcia Quintanilla, 4</td>\n",
       "      <td>NaN</td>\n",
       "      <td>Ciudad Lineal</td>\n",
       "      <td>Concepción</td>\n",
       "      <td>3</td>\n",
       "      <td>True</td>\n",
       "      <td>True</td>\n",
       "      <td>True</td>\n",
       "      <td>NaN</td>\n",
       "      <td>NaN</td>\n",
       "      <td>NaN</td>\n",
       "      <td>NaN</td>\n",
       "      <td>NaN</td>\n",
       "    </tr>\n",
       "    <tr>\n",
       "      <th>4</th>\n",
       "      <td>NaN</td>\n",
       "      <td>NaN</td>\n",
       "      <td>chalet</td>\n",
       "      <td>independantHouse</td>\n",
       "      <td>Prado Largo, Pozuelo de Alarcón</td>\n",
       "      <td>Casa independiente</td>\n",
       "      <td>NaN</td>\n",
       "      <td>Urbanizaciones</td>\n",
       "      <td>Prado Largo</td>\n",
       "      <td>NaN</td>\n",
       "      <td>NaN</td>\n",
       "      <td>NaN</td>\n",
       "      <td>NaN</td>\n",
       "      <td>NaN</td>\n",
       "      <td>NaN</td>\n",
       "      <td>NaN</td>\n",
       "      <td>NaN</td>\n",
       "      <td>NaN</td>\n",
       "    </tr>\n",
       "  </tbody>\n",
       "</table>\n",
       "</div>"
      ],
      "text/plain": [
       "  hasParkingSpace isParkingSpaceIncludedInPrice typology       subTypology  \\\n",
       "0            True                          True   chalet  independantHouse   \n",
       "1             NaN                           NaN   chalet  independantHouse   \n",
       "2            True                          True   chalet  independantHouse   \n",
       "3            True                          True     flat               NaN   \n",
       "4             NaN                           NaN   chalet  independantHouse   \n",
       "\n",
       "                          subtitle                                title  \\\n",
       "0                      Ciudalcampo                   Casa independiente   \n",
       "1      La Berzosilla, Torrelodones                   Casa independiente   \n",
       "2               El Plantío, Madrid                   Casa independiente   \n",
       "3               Concepción, Madrid  Piso en calle Garcia Quintanilla, 4   \n",
       "4  Prado Largo, Pozuelo de Alarcón                   Casa independiente   \n",
       "\n",
       "  groupDescription        district neighborhood floor exterior hasLift  \\\n",
       "0              Top             NaN          NaN   NaN      NaN     NaN   \n",
       "1              NaN   La Berzosilla          NaN   NaN      NaN     NaN   \n",
       "2              Top         Moncloa   El Plantío   NaN      NaN     NaN   \n",
       "3              NaN   Ciudad Lineal   Concepción     3     True    True   \n",
       "4              NaN  Urbanizaciones  Prado Largo   NaN      NaN     NaN   \n",
       "\n",
       "  newDevelopmentFinished  parkingSpacePrice  formerPrice  priceDropValue  \\\n",
       "0                    NaN                NaN          NaN             NaN   \n",
       "1                    NaN                NaN          NaN             NaN   \n",
       "2                    NaN                NaN          NaN             NaN   \n",
       "3                   True                NaN          NaN             NaN   \n",
       "4                    NaN                NaN          NaN             NaN   \n",
       "\n",
       "   priceDropPercentage currencySuffix  \n",
       "0                  NaN            NaN  \n",
       "1                  NaN            NaN  \n",
       "2                  NaN            NaN  \n",
       "3                  NaN            NaN  \n",
       "4                  NaN            NaN  "
      ]
     },
     "execution_count": 22,
     "metadata": {},
     "output_type": "execute_result"
    }
   ],
   "source": [
    "viviendas_df[viviendas_df.columns[30:48]].head()"
   ]
  },
  {
   "cell_type": "markdown",
   "id": "f812260c",
   "metadata": {},
   "source": [
    "##### Observaciones:\n",
    "\n",
    " - El conjunto de datos se ha cargado correctamente."
   ]
  },
  {
   "cell_type": "markdown",
   "id": "25b42214",
   "metadata": {},
   "source": [
    "#### Visión general de la estructura de datos"
   ]
  },
  {
   "cell_type": "code",
   "execution_count": 23,
   "id": "55d3f8c0",
   "metadata": {},
   "outputs": [
    {
     "name": "stdout",
     "output_type": "stream",
     "text": [
      "<class 'pandas.core.frame.DataFrame'>\n",
      "RangeIndex: 4768 entries, 0 to 4767\n",
      "Data columns (total 48 columns):\n",
      " #   Column                         Non-Null Count  Dtype  \n",
      "---  ------                         --------------  -----  \n",
      " 0   propertyCode                   4768 non-null   object \n",
      " 1   thumbnail                      4718 non-null   object \n",
      " 2   externalReference              3927 non-null   object \n",
      " 3   numPhotos                      4768 non-null   int64  \n",
      " 4   price                          4768 non-null   float64\n",
      " 5   propertyType                   4768 non-null   object \n",
      " 6   operation                      4768 non-null   object \n",
      " 7   size                           4768 non-null   float64\n",
      " 8   rooms                          4768 non-null   int64  \n",
      " 9   bathrooms                      4768 non-null   int64  \n",
      " 10  address                        4768 non-null   object \n",
      " 11  province                       4768 non-null   object \n",
      " 12  municipality                   4768 non-null   object \n",
      " 13  country                        4768 non-null   object \n",
      " 14  latitude                       4768 non-null   float64\n",
      " 15  longitude                      4768 non-null   float64\n",
      " 16  showAddress                    4768 non-null   bool   \n",
      " 17  url                            4768 non-null   object \n",
      " 18  description                    4761 non-null   object \n",
      " 19  hasVideo                       4768 non-null   bool   \n",
      " 20  status                         4768 non-null   object \n",
      " 21  newDevelopment                 4768 non-null   bool   \n",
      " 22  priceByArea                    4768 non-null   float64\n",
      " 23  hasPlan                        4768 non-null   bool   \n",
      " 24  has3DTour                      4768 non-null   bool   \n",
      " 25  has360                         4768 non-null   bool   \n",
      " 26  hasStaging                     4768 non-null   bool   \n",
      " 27  topNewDevelopment              4768 non-null   bool   \n",
      " 28  topPlus                        4768 non-null   bool   \n",
      " 29  amount                         4768 non-null   float64\n",
      " 30  hasParkingSpace                2263 non-null   object \n",
      " 31  isParkingSpaceIncludedInPrice  2263 non-null   object \n",
      " 32  typology                       4768 non-null   object \n",
      " 33  subTypology                    2209 non-null   object \n",
      " 34  subtitle                       4768 non-null   object \n",
      " 35  title                          4768 non-null   object \n",
      " 36  groupDescription               1337 non-null   object \n",
      " 37  district                       3591 non-null   object \n",
      " 38  neighborhood                   2103 non-null   object \n",
      " 39  floor                          2863 non-null   object \n",
      " 40  exterior                       2821 non-null   object \n",
      " 41  hasLift                        3008 non-null   object \n",
      " 42  newDevelopmentFinished         853 non-null    object \n",
      " 43  parkingSpacePrice              78 non-null     float64\n",
      " 44  formerPrice                    229 non-null    float64\n",
      " 45  priceDropValue                 229 non-null    float64\n",
      " 46  priceDropPercentage            229 non-null    float64\n",
      " 47  currencySuffix                 4618 non-null   object \n",
      "dtypes: bool(9), float64(10), int64(3), object(26)\n",
      "memory usage: 1.5+ MB\n"
     ]
    }
   ],
   "source": [
    "viviendas_df.info()"
   ]
  },
  {
   "cell_type": "markdown",
   "id": "79a72eb0",
   "metadata": {},
   "source": [
    "#### Observaciones:\n",
    "\n",
    " - A simple vista se puede ver que hay varias columnas que tiene muchos valores nulos"
   ]
  },
  {
   "cell_type": "markdown",
   "id": "f3a22edd",
   "metadata": {},
   "source": [
    "### Limpieza de los datos  \n",
    "\n",
    "En esta fase, se realizará la limpieza del conjunto de datos teniendo en cuenta una serie de situaciones:\n",
    "\n",
    " - Las columnas que no son relevantes respecto a la resolución del problema.\n",
    " - Los registros duplicados o columnas repetidas.\n",
    " - Determinar los valores atípicos (outliers) en el conjunto de datos y realizar un análisis sobre la mejor estrategia.\n",
    " - Los errores tipográficos en las variables categóricas.\n",
    " - Los datos faltantes en algunas columnas."
   ]
  },
  {
   "cell_type": "markdown",
   "id": "e2d84b55",
   "metadata": {},
   "source": [
    "#### 1. Columnas irrelevantes\n",
    "\n",
    "Las columnas irrelevantes pueden ser:\n",
    " - Columnas que no tienen información relevante respecto al precio de la vivienda.\n",
    " - Columnas categóricas o numéricas que contienen la misma información.\n",
    " - Columnas que tienen información redundante o duplicada.\n"
   ]
  },
  {
   "cell_type": "markdown",
   "id": "bd940632",
   "metadata": {},
   "source": [
    "Se procede a eliminar la columna `thumbnail`, ya que es un enlace a las imágenes en miniatura de la propiedad y resulta irrelevante para nuestro modelo, dado que no se realizará un análisis de imágenes."
   ]
  },
  {
   "cell_type": "code",
   "execution_count": 24,
   "id": "4885099d",
   "metadata": {},
   "outputs": [],
   "source": [
    "viviendas_limpieza_df = viviendas_df.drop('thumbnail', axis=1)"
   ]
  },
  {
   "cell_type": "markdown",
   "id": "4170aecf",
   "metadata": {},
   "source": [
    "Se procede a eliminar la columna `externalReference`, ya que es un enlace externo de la propiedad y resulta irrelevante para el modelo"
   ]
  },
  {
   "cell_type": "code",
   "execution_count": 25,
   "id": "c5f17738",
   "metadata": {},
   "outputs": [],
   "source": [
    "viviendas_limpieza_df = viviendas_limpieza_df.drop('externalReference', axis=1)"
   ]
  },
  {
   "cell_type": "markdown",
   "id": "4dc79dc1",
   "metadata": {},
   "source": [
    "Se procede a eliminar la columna `currencySuffix`, ya que se utilizará el euro como sufijo para determinar el precio de la vivienda"
   ]
  },
  {
   "cell_type": "code",
   "execution_count": 26,
   "id": "62f0e85b",
   "metadata": {},
   "outputs": [],
   "source": [
    "viviendas_limpieza_df = viviendas_limpieza_df.drop('currencySuffix', axis=1)"
   ]
  },
  {
   "cell_type": "markdown",
   "id": "94e53485",
   "metadata": {},
   "source": [
    "Se elimina la columna `numPhotos` porque no tiene importancia respecto al precio de la vivienda."
   ]
  },
  {
   "cell_type": "code",
   "execution_count": 27,
   "id": "85c0de2f",
   "metadata": {},
   "outputs": [],
   "source": [
    "viviendas_limpieza_df = viviendas_limpieza_df.drop('numPhotos', axis=1)"
   ]
  },
  {
   "cell_type": "markdown",
   "id": "cc62f511",
   "metadata": {},
   "source": [
    "Se elimina la columna `propertyCode`, que es un identificador de la vivienda y no tiene importancia respecto al precio."
   ]
  },
  {
   "cell_type": "code",
   "execution_count": 28,
   "id": "c33aa970",
   "metadata": {},
   "outputs": [],
   "source": [
    "viviendas_limpieza_df = viviendas_limpieza_df.drop('propertyCode', axis=1)"
   ]
  },
  {
   "cell_type": "markdown",
   "id": "151f94c9",
   "metadata": {},
   "source": [
    "Se elimina la columna `showAddress` porque no tiene importancia respecto al precio"
   ]
  },
  {
   "cell_type": "code",
   "execution_count": 29,
   "id": "39b0e83a",
   "metadata": {},
   "outputs": [],
   "source": [
    "viviendas_limpieza_df = viviendas_limpieza_df.drop('showAddress', axis=1)"
   ]
  },
  {
   "cell_type": "markdown",
   "id": "99704351",
   "metadata": {},
   "source": [
    "Se elimina la columna `hasVideo` porque no tiene importancia respecto al precio"
   ]
  },
  {
   "cell_type": "code",
   "execution_count": 30,
   "id": "37ac46af",
   "metadata": {},
   "outputs": [],
   "source": [
    "viviendas_limpieza_df = viviendas_limpieza_df.drop('hasVideo', axis=1)"
   ]
  },
  {
   "cell_type": "markdown",
   "id": "c15752e9",
   "metadata": {},
   "source": [
    "Se elimina la columna `hasPlan` porque no tiene importancia respecto al precio"
   ]
  },
  {
   "cell_type": "code",
   "execution_count": 31,
   "id": "e5b1e181",
   "metadata": {},
   "outputs": [],
   "source": [
    "viviendas_limpieza_df = viviendas_limpieza_df.drop('hasPlan', axis=1)"
   ]
  },
  {
   "cell_type": "markdown",
   "id": "128ab46a",
   "metadata": {},
   "source": [
    "Se elimina la columna `url` porque no tiene importancia respecto al precio"
   ]
  },
  {
   "cell_type": "code",
   "execution_count": 32,
   "id": "77ae4a75",
   "metadata": {},
   "outputs": [],
   "source": [
    "viviendas_limpieza_df = viviendas_limpieza_df.drop('url', axis=1)"
   ]
  },
  {
   "cell_type": "markdown",
   "id": "f11ec10a",
   "metadata": {},
   "source": [
    "Se elimina la columna `groupDescription` porque no tiene importancia respecto al precio"
   ]
  },
  {
   "cell_type": "code",
   "execution_count": 33,
   "id": "e0b86639",
   "metadata": {},
   "outputs": [],
   "source": [
    "viviendas_limpieza_df = viviendas_limpieza_df.drop('groupDescription', axis=1)"
   ]
  },
  {
   "cell_type": "markdown",
   "id": "fe0af0ad",
   "metadata": {},
   "source": [
    "Se elimina la columna `has3DTour` porque no tiene importancia respecto al precio"
   ]
  },
  {
   "cell_type": "code",
   "execution_count": 34,
   "id": "bfe0e07d",
   "metadata": {},
   "outputs": [],
   "source": [
    "viviendas_limpieza_df = viviendas_limpieza_df.drop('has3DTour', axis=1)"
   ]
  },
  {
   "cell_type": "markdown",
   "id": "44cab8ac",
   "metadata": {},
   "source": [
    "Se elimina la columna `has360` porque no tiene importancia respecto al precio"
   ]
  },
  {
   "cell_type": "code",
   "execution_count": 35,
   "id": "3c3b63b1",
   "metadata": {},
   "outputs": [],
   "source": [
    "viviendas_limpieza_df = viviendas_limpieza_df.drop('has360', axis=1)"
   ]
  },
  {
   "cell_type": "markdown",
   "id": "0792ce0a",
   "metadata": {},
   "source": [
    "Se elimina la columna `hasStaging` porque no tiene importancia respecto al precio"
   ]
  },
  {
   "cell_type": "code",
   "execution_count": 36,
   "id": "9e31c238",
   "metadata": {},
   "outputs": [],
   "source": [
    "viviendas_limpieza_df = viviendas_limpieza_df.drop('hasStaging', axis=1)"
   ]
  },
  {
   "cell_type": "markdown",
   "id": "feedeec9",
   "metadata": {},
   "source": [
    "Se elimina la columna `topNewDevelopment` porque ya existe el campo `estado`, que permite determinar si una vivienda es de nueva construcción"
   ]
  },
  {
   "cell_type": "code",
   "execution_count": 37,
   "id": "333b8709",
   "metadata": {},
   "outputs": [],
   "source": [
    "viviendas_limpieza_df = viviendas_limpieza_df.drop('topNewDevelopment', axis=1)"
   ]
  },
  {
   "cell_type": "markdown",
   "id": "c12b283d",
   "metadata": {},
   "source": [
    "Se elimina la columna `newDevelopmentFinished` porque ya existe el campo `estado`, que permite determinar si una vivienda es de nueva construcción, y no es necesario saber si está finalizada"
   ]
  },
  {
   "cell_type": "code",
   "execution_count": 38,
   "id": "1f619adf",
   "metadata": {},
   "outputs": [],
   "source": [
    "viviendas_limpieza_df = viviendas_limpieza_df.drop('newDevelopmentFinished', axis=1)"
   ]
  },
  {
   "cell_type": "markdown",
   "id": "9b207348",
   "metadata": {},
   "source": [
    "Se elimina la columna `topPlus` porque no tiene relevancia respecto al precio, ya que es un parámetro utilizado en la aplicación para destacar los pisos más relevantes"
   ]
  },
  {
   "cell_type": "code",
   "execution_count": 39,
   "id": "ba5466ee",
   "metadata": {},
   "outputs": [],
   "source": [
    "viviendas_limpieza_df = viviendas_limpieza_df.drop('topPlus', axis=1)"
   ]
  },
  {
   "cell_type": "markdown",
   "id": "d15967fa",
   "metadata": {},
   "source": [
    "Se elimina la columna `newDevelopment` porque ya existe el campo `estado`"
   ]
  },
  {
   "cell_type": "code",
   "execution_count": 40,
   "id": "1a9506a6",
   "metadata": {},
   "outputs": [],
   "source": [
    "viviendas_limpieza_df = viviendas_limpieza_df.drop('newDevelopment', axis=1)"
   ]
  },
  {
   "cell_type": "markdown",
   "id": "3f7bac31",
   "metadata": {},
   "source": [
    "Se elimina la columna `exterior` porque se utilizará la columna `descripcion` para esta información."
   ]
  },
  {
   "cell_type": "code",
   "execution_count": 41,
   "id": "05dca30e",
   "metadata": {},
   "outputs": [],
   "source": [
    "#viviendas_limpieza_df = viviendas_limpieza_df.drop('exterior', axis=1)"
   ]
  },
  {
   "cell_type": "markdown",
   "id": "732ea0fd",
   "metadata": {},
   "source": [
    "#### 2. Registros duplicados o columnas repetidas"
   ]
  },
  {
   "cell_type": "code",
   "execution_count": 42,
   "id": "f40c867c",
   "metadata": {},
   "outputs": [
    {
     "name": "stdout",
     "output_type": "stream",
     "text": [
      "Tamaño del conjunto de datos antes de eliminar las filas duplicadas: (4768, 31)\n"
     ]
    }
   ],
   "source": [
    "print(f'Tamaño del conjunto de datos antes de eliminar las filas duplicadas: {viviendas_limpieza_df.shape}')"
   ]
  },
  {
   "cell_type": "markdown",
   "id": "8c290863",
   "metadata": {},
   "source": [
    "Se procede a eliminar las filas duplicadas"
   ]
  },
  {
   "cell_type": "code",
   "execution_count": 43,
   "id": "23b0ec29",
   "metadata": {},
   "outputs": [],
   "source": [
    "viviendas_limpieza_df.drop_duplicates(inplace=True)"
   ]
  },
  {
   "cell_type": "code",
   "execution_count": 44,
   "id": "bf1a1e8c",
   "metadata": {},
   "outputs": [
    {
     "name": "stdout",
     "output_type": "stream",
     "text": [
      "Tamaño del conjunto de datos despues de eliminar las filas duplicadas: (4638, 31)\n"
     ]
    }
   ],
   "source": [
    "print(f'Tamaño del conjunto de datos despues de eliminar las filas duplicadas: {viviendas_limpieza_df.shape}')"
   ]
  },
  {
   "cell_type": "markdown",
   "id": "0da0943d",
   "metadata": {},
   "source": [
    "Se procede a eliminar la columna `amount` ya que existe la columna `precio`, que aporta la misma información"
   ]
  },
  {
   "cell_type": "code",
   "execution_count": 45,
   "id": "a438095c",
   "metadata": {},
   "outputs": [],
   "source": [
    "viviendas_limpieza_df = viviendas_limpieza_df.drop('amount', axis=1)"
   ]
  },
  {
   "cell_type": "markdown",
   "id": "88d450e7",
   "metadata": {},
   "source": [
    "##### Determinar el nivel de registros categoricos\n",
    "Esto sirve para determinar cuántos niveles tiene la columna. Si la columna solo tiene un nivel, significa que no aporta información para diferenciar una vivienda de otra."
   ]
  },
  {
   "cell_type": "code",
   "execution_count": 46,
   "id": "39824887",
   "metadata": {},
   "outputs": [
    {
     "name": "stdout",
     "output_type": "stream",
     "text": [
      "Column propertyType: 6 subniveles\n",
      "Column operation: 1 subniveles\n",
      "Column address: 2659 subniveles\n",
      "Column province: 1 subniveles\n",
      "Column municipality: 166 subniveles\n",
      "Column country: 1 subniveles\n",
      "Column description: 4053 subniveles\n",
      "Column status: 3 subniveles\n",
      "Column hasParkingSpace: 1 subniveles\n",
      "Column isParkingSpaceIncludedInPrice: 2 subniveles\n",
      "Column typology: 3 subniveles\n",
      "Column subTypology: 13 subniveles\n",
      "Column subtitle: 516 subniveles\n",
      "Column title: 2476 subniveles\n",
      "Column district: 242 subniveles\n",
      "Column neighborhood: 179 subniveles\n",
      "Column floor: 21 subniveles\n",
      "Column exterior: 2 subniveles\n",
      "Column hasLift: 2 subniveles\n"
     ]
    }
   ],
   "source": [
    "categoricas_df = viviendas_limpieza_df.select_dtypes(exclude=[np.number])\n",
    "columnas_categoricas = categoricas_df.columns.values\n",
    "\n",
    "for col in columnas_categoricas:\n",
    "    print(f'Column {col}: {viviendas_limpieza_df[col].nunique()} subniveles')"
   ]
  },
  {
   "cell_type": "markdown",
   "id": "9b013215",
   "metadata": {},
   "source": [
    "Se procederá a eliminar las columnas que tengan solo un nivel, ya que no aportan relevancia al modelo"
   ]
  },
  {
   "cell_type": "code",
   "execution_count": 47,
   "id": "5eace7a5",
   "metadata": {},
   "outputs": [],
   "source": [
    "viviendas_limpieza_df = viviendas_limpieza_df.drop('operation', axis=1)\n",
    "viviendas_limpieza_df = viviendas_limpieza_df.drop('province', axis=1)\n",
    "viviendas_limpieza_df = viviendas_limpieza_df.drop('country', axis=1)"
   ]
  },
  {
   "cell_type": "markdown",
   "id": "bc1866f9",
   "metadata": {},
   "source": [
    "Se utiliza la función `describe` para obtener un resumen estadístico de las columnas numéricas"
   ]
  },
  {
   "cell_type": "code",
   "execution_count": 48,
   "id": "639d40a7",
   "metadata": {},
   "outputs": [
    {
     "data": {
      "text/html": [
       "<div>\n",
       "<style scoped>\n",
       "    .dataframe tbody tr th:only-of-type {\n",
       "        vertical-align: middle;\n",
       "    }\n",
       "\n",
       "    .dataframe tbody tr th {\n",
       "        vertical-align: top;\n",
       "    }\n",
       "\n",
       "    .dataframe thead th {\n",
       "        text-align: right;\n",
       "    }\n",
       "</style>\n",
       "<table border=\"1\" class=\"dataframe\">\n",
       "  <thead>\n",
       "    <tr style=\"text-align: right;\">\n",
       "      <th></th>\n",
       "      <th>price</th>\n",
       "      <th>size</th>\n",
       "      <th>rooms</th>\n",
       "      <th>bathrooms</th>\n",
       "      <th>latitude</th>\n",
       "      <th>longitude</th>\n",
       "      <th>priceByArea</th>\n",
       "      <th>parkingSpacePrice</th>\n",
       "      <th>formerPrice</th>\n",
       "      <th>priceDropValue</th>\n",
       "      <th>priceDropPercentage</th>\n",
       "    </tr>\n",
       "  </thead>\n",
       "  <tbody>\n",
       "    <tr>\n",
       "      <th>count</th>\n",
       "      <td>4.638000e+03</td>\n",
       "      <td>4638.000000</td>\n",
       "      <td>4638.000000</td>\n",
       "      <td>4638.000000</td>\n",
       "      <td>4638.000000</td>\n",
       "      <td>4638.000000</td>\n",
       "      <td>4638.000000</td>\n",
       "      <td>76.000000</td>\n",
       "      <td>2.200000e+02</td>\n",
       "      <td>220.000000</td>\n",
       "      <td>220.000000</td>\n",
       "    </tr>\n",
       "    <tr>\n",
       "      <th>mean</th>\n",
       "      <td>6.618488e+05</td>\n",
       "      <td>227.642950</td>\n",
       "      <td>3.251617</td>\n",
       "      <td>2.376024</td>\n",
       "      <td>40.439411</td>\n",
       "      <td>-3.721469</td>\n",
       "      <td>3409.801207</td>\n",
       "      <td>25893.421053</td>\n",
       "      <td>4.218124e+05</td>\n",
       "      <td>24133.672727</td>\n",
       "      <td>5.786364</td>\n",
       "    </tr>\n",
       "    <tr>\n",
       "      <th>std</th>\n",
       "      <td>1.044766e+06</td>\n",
       "      <td>1632.350848</td>\n",
       "      <td>1.941086</td>\n",
       "      <td>1.705654</td>\n",
       "      <td>0.146970</td>\n",
       "      <td>0.217625</td>\n",
       "      <td>2529.535762</td>\n",
       "      <td>16577.795073</td>\n",
       "      <td>5.986291e+05</td>\n",
       "      <td>51542.138218</td>\n",
       "      <td>4.580562</td>\n",
       "    </tr>\n",
       "    <tr>\n",
       "      <th>min</th>\n",
       "      <td>1.980000e+04</td>\n",
       "      <td>14.000000</td>\n",
       "      <td>0.000000</td>\n",
       "      <td>0.000000</td>\n",
       "      <td>40.020862</td>\n",
       "      <td>-4.491436</td>\n",
       "      <td>41.000000</td>\n",
       "      <td>6000.000000</td>\n",
       "      <td>3.690000e+04</td>\n",
       "      <td>1000.000000</td>\n",
       "      <td>1.000000</td>\n",
       "    </tr>\n",
       "    <tr>\n",
       "      <th>25%</th>\n",
       "      <td>2.049250e+05</td>\n",
       "      <td>79.000000</td>\n",
       "      <td>2.000000</td>\n",
       "      <td>1.000000</td>\n",
       "      <td>40.362432</td>\n",
       "      <td>-3.808292</td>\n",
       "      <td>1739.000000</td>\n",
       "      <td>15000.000000</td>\n",
       "      <td>1.557500e+05</td>\n",
       "      <td>6000.000000</td>\n",
       "      <td>3.000000</td>\n",
       "    </tr>\n",
       "    <tr>\n",
       "      <th>50%</th>\n",
       "      <td>3.451500e+05</td>\n",
       "      <td>120.000000</td>\n",
       "      <td>3.000000</td>\n",
       "      <td>2.000000</td>\n",
       "      <td>40.428515</td>\n",
       "      <td>-3.697548</td>\n",
       "      <td>2598.000000</td>\n",
       "      <td>18000.000000</td>\n",
       "      <td>2.497500e+05</td>\n",
       "      <td>10000.000000</td>\n",
       "      <td>5.000000</td>\n",
       "    </tr>\n",
       "    <tr>\n",
       "      <th>75%</th>\n",
       "      <td>5.627500e+05</td>\n",
       "      <td>235.000000</td>\n",
       "      <td>4.000000</td>\n",
       "      <td>3.000000</td>\n",
       "      <td>40.500550</td>\n",
       "      <td>-3.623292</td>\n",
       "      <td>4247.250000</td>\n",
       "      <td>36250.000000</td>\n",
       "      <td>4.162500e+05</td>\n",
       "      <td>20000.000000</td>\n",
       "      <td>7.000000</td>\n",
       "    </tr>\n",
       "    <tr>\n",
       "      <th>max</th>\n",
       "      <td>1.500000e+07</td>\n",
       "      <td>110000.000000</td>\n",
       "      <td>35.000000</td>\n",
       "      <td>38.000000</td>\n",
       "      <td>41.131571</td>\n",
       "      <td>-3.091176</td>\n",
       "      <td>20087.000000</td>\n",
       "      <td>80000.000000</td>\n",
       "      <td>4.500000e+06</td>\n",
       "      <td>500000.000000</td>\n",
       "      <td>36.000000</td>\n",
       "    </tr>\n",
       "  </tbody>\n",
       "</table>\n",
       "</div>"
      ],
      "text/plain": [
       "              price           size        rooms    bathrooms     latitude  \\\n",
       "count  4.638000e+03    4638.000000  4638.000000  4638.000000  4638.000000   \n",
       "mean   6.618488e+05     227.642950     3.251617     2.376024    40.439411   \n",
       "std    1.044766e+06    1632.350848     1.941086     1.705654     0.146970   \n",
       "min    1.980000e+04      14.000000     0.000000     0.000000    40.020862   \n",
       "25%    2.049250e+05      79.000000     2.000000     1.000000    40.362432   \n",
       "50%    3.451500e+05     120.000000     3.000000     2.000000    40.428515   \n",
       "75%    5.627500e+05     235.000000     4.000000     3.000000    40.500550   \n",
       "max    1.500000e+07  110000.000000    35.000000    38.000000    41.131571   \n",
       "\n",
       "         longitude   priceByArea  parkingSpacePrice   formerPrice  \\\n",
       "count  4638.000000   4638.000000          76.000000  2.200000e+02   \n",
       "mean     -3.721469   3409.801207       25893.421053  4.218124e+05   \n",
       "std       0.217625   2529.535762       16577.795073  5.986291e+05   \n",
       "min      -4.491436     41.000000        6000.000000  3.690000e+04   \n",
       "25%      -3.808292   1739.000000       15000.000000  1.557500e+05   \n",
       "50%      -3.697548   2598.000000       18000.000000  2.497500e+05   \n",
       "75%      -3.623292   4247.250000       36250.000000  4.162500e+05   \n",
       "max      -3.091176  20087.000000       80000.000000  4.500000e+06   \n",
       "\n",
       "       priceDropValue  priceDropPercentage  \n",
       "count      220.000000           220.000000  \n",
       "mean     24133.672727             5.786364  \n",
       "std      51542.138218             4.580562  \n",
       "min       1000.000000             1.000000  \n",
       "25%       6000.000000             3.000000  \n",
       "50%      10000.000000             5.000000  \n",
       "75%      20000.000000             7.000000  \n",
       "max     500000.000000            36.000000  "
      ]
     },
     "execution_count": 48,
     "metadata": {},
     "output_type": "execute_result"
    }
   ],
   "source": [
    "viviendas_limpieza_df.describe()"
   ]
  },
  {
   "cell_type": "markdown",
   "id": "043e750b",
   "metadata": {},
   "source": [
    "##### Observaciones:\n",
    " \n",
    " - Se ha examinado la columna numérica utilizando la función `describe`. Se puede apreciar que la desviación estándar es diferente de 0 en todos los casos, lo que indica que los valores varían entre sí. Por lo tanto, no se procederá a eliminar ninguna columna."
   ]
  },
  {
   "cell_type": "markdown",
   "id": "baa52803",
   "metadata": {},
   "source": [
    "##### Valores atípicos (outliers) en las variables numéricas"
   ]
  },
  {
   "cell_type": "code",
   "execution_count": 49,
   "id": "8fa656e6",
   "metadata": {},
   "outputs": [
    {
     "data": {
      "image/png": "[encoded data removed]",
      "text/plain": [
       "<Figure size 800x3000 with 11 Axes>"
      ]
     },
     "metadata": {},
     "output_type": "display_data"
    }
   ],
   "source": [
    "numericas_df = viviendas_limpieza_df.select_dtypes(include=[np.number])\n",
    "numericas_columnas = numericas_df.columns.values\n",
    "\n",
    "\n",
    "fig,ax = plt.subplots(nrows=11, ncols=1, figsize=(8,30))\n",
    "fig.subplots_adjust(hspace=0.5)\n",
    "\n",
    "for i, col in enumerate(numericas_columnas):\n",
    "    sns.boxplot(x=col, data=viviendas_limpieza_df, ax=ax[i])\n",
    "    ax[i].set_title(col)"
   ]
  },
  {
   "cell_type": "markdown",
   "id": "04b44106",
   "metadata": {},
   "source": [
    "##### Observaciones:\n",
    "\n",
    " - Los valores mostrados en el gráfico son en general normales, aunque algunos valores aislados podrían parecer outliers."
   ]
  },
  {
   "cell_type": "code",
   "execution_count": 50,
   "id": "23bc101c",
   "metadata": {},
   "outputs": [
    {
     "data": {
      "text/html": [
       "<div>\n",
       "<style scoped>\n",
       "    .dataframe tbody tr th:only-of-type {\n",
       "        vertical-align: middle;\n",
       "    }\n",
       "\n",
       "    .dataframe tbody tr th {\n",
       "        vertical-align: top;\n",
       "    }\n",
       "\n",
       "    .dataframe thead th {\n",
       "        text-align: right;\n",
       "    }\n",
       "</style>\n",
       "<table border=\"1\" class=\"dataframe\">\n",
       "  <thead>\n",
       "    <tr style=\"text-align: right;\">\n",
       "      <th></th>\n",
       "      <th>price</th>\n",
       "      <th>propertyType</th>\n",
       "      <th>size</th>\n",
       "      <th>rooms</th>\n",
       "      <th>bathrooms</th>\n",
       "      <th>typology</th>\n",
       "      <th>floor</th>\n",
       "      <th>title</th>\n",
       "    </tr>\n",
       "  </thead>\n",
       "  <tbody>\n",
       "    <tr>\n",
       "      <th>4508</th>\n",
       "      <td>4800000.0</td>\n",
       "      <td>countryHouse</td>\n",
       "      <td>3000.0</td>\n",
       "      <td>33</td>\n",
       "      <td>38</td>\n",
       "      <td>countryHouse</td>\n",
       "      <td>NaN</td>\n",
       "      <td>Casa rural</td>\n",
       "    </tr>\n",
       "    <tr>\n",
       "      <th>4654</th>\n",
       "      <td>899900.0</td>\n",
       "      <td>chalet</td>\n",
       "      <td>1198.0</td>\n",
       "      <td>35</td>\n",
       "      <td>4</td>\n",
       "      <td>chalet</td>\n",
       "      <td>NaN</td>\n",
       "      <td>Casa independiente en travesía José de Churrig...</td>\n",
       "    </tr>\n",
       "  </tbody>\n",
       "</table>\n",
       "</div>"
      ],
      "text/plain": [
       "          price  propertyType    size  rooms  bathrooms      typology floor  \\\n",
       "4508  4800000.0  countryHouse  3000.0     33         38  countryHouse   NaN   \n",
       "4654   899900.0        chalet  1198.0     35          4        chalet   NaN   \n",
       "\n",
       "                                                  title  \n",
       "4508                                         Casa rural  \n",
       "4654  Casa independiente en travesía José de Churrig...  "
      ]
     },
     "execution_count": 50,
     "metadata": {},
     "output_type": "execute_result"
    }
   ],
   "source": [
    "viviendas_outlier_rooms_df= viviendas_limpieza_df[viviendas_limpieza_df['rooms']>30]\n",
    "viviendas_outlier_rooms_df[['price','propertyType','size','rooms','bathrooms','typology','floor','title']]"
   ]
  },
  {
   "cell_type": "markdown",
   "id": "20f2e283",
   "metadata": {},
   "source": [
    "##### Observaciones:\n",
    "\n",
    " - Se verificaron los detalles de la vivienda con más de 30 habitaciones y se confirmó que el dato es, efectivamente, real."
   ]
  },
  {
   "cell_type": "code",
   "execution_count": 51,
   "id": "5ae7efc4",
   "metadata": {},
   "outputs": [
    {
     "data": {
      "text/html": [
       "<div>\n",
       "<style scoped>\n",
       "    .dataframe tbody tr th:only-of-type {\n",
       "        vertical-align: middle;\n",
       "    }\n",
       "\n",
       "    .dataframe tbody tr th {\n",
       "        vertical-align: top;\n",
       "    }\n",
       "\n",
       "    .dataframe thead th {\n",
       "        text-align: right;\n",
       "    }\n",
       "</style>\n",
       "<table border=\"1\" class=\"dataframe\">\n",
       "  <thead>\n",
       "    <tr style=\"text-align: right;\">\n",
       "      <th></th>\n",
       "      <th>price</th>\n",
       "      <th>propertyType</th>\n",
       "      <th>size</th>\n",
       "      <th>rooms</th>\n",
       "      <th>bathrooms</th>\n",
       "      <th>typology</th>\n",
       "      <th>floor</th>\n",
       "      <th>title</th>\n",
       "    </tr>\n",
       "  </thead>\n",
       "  <tbody>\n",
       "    <tr>\n",
       "      <th>4508</th>\n",
       "      <td>4800000.0</td>\n",
       "      <td>countryHouse</td>\n",
       "      <td>3000.0</td>\n",
       "      <td>33</td>\n",
       "      <td>38</td>\n",
       "      <td>countryHouse</td>\n",
       "      <td>NaN</td>\n",
       "      <td>Casa rural</td>\n",
       "    </tr>\n",
       "  </tbody>\n",
       "</table>\n",
       "</div>"
      ],
      "text/plain": [
       "          price  propertyType    size  rooms  bathrooms      typology floor  \\\n",
       "4508  4800000.0  countryHouse  3000.0     33         38  countryHouse   NaN   \n",
       "\n",
       "           title  \n",
       "4508  Casa rural  "
      ]
     },
     "execution_count": 51,
     "metadata": {},
     "output_type": "execute_result"
    }
   ],
   "source": [
    "viviendas_outlier_bathrooms_df= viviendas_limpieza_df[viviendas_limpieza_df['bathrooms']>30]\n",
    "viviendas_outlier_bathrooms_df[['price','propertyType','size','rooms','bathrooms','typology','floor','title']]"
   ]
  },
  {
   "cell_type": "markdown",
   "id": "471861e1",
   "metadata": {},
   "source": [
    "##### Observaciones:\n",
    " - Se comprueban los detalles de la vivienda con más de 30 baños y se confirma que el dato es, efectivamente, real."
   ]
  },
  {
   "cell_type": "markdown",
   "id": "377518cf",
   "metadata": {},
   "source": [
    "Se guarda el nuevo conjunto de datos en un archivo CSV con encabezado en el directorio de staging"
   ]
  },
  {
   "cell_type": "code",
   "execution_count": 52,
   "id": "ebead9cb",
   "metadata": {},
   "outputs": [],
   "source": [
    "csv_path = 'data_staging/viviendas_limpieza_df_parte_1.csv'\n",
    "viviendas_limpieza_df.to_csv(csv_path, index=False)"
   ]
  }
 ],
 "metadata": {
  "kernelspec": {
   "display_name": "Python 3 (ipykernel)",
   "language": "python",
   "name": "python3"
  },
  "language_info": {
   "codemirror_mode": {
    "name": "ipython",
    "version": 3
   },
   "file_extension": ".py",
   "mimetype": "text/x-python",
   "name": "python",
   "nbconvert_exporter": "python",
   "pygments_lexer": "ipython3",
   "version": "3.10.9"
  }
 },
 "nbformat": 4,
 "nbformat_minor": 5
}
