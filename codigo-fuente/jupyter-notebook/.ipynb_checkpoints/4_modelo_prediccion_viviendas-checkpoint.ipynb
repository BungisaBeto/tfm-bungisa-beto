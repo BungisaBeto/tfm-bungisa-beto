{
 "cells": [
  {
   "cell_type": "markdown",
   "id": "e6bfb7aa",
   "metadata": {
    "id": "e6bfb7aa"
   },
   "source": [
    "# Predicción del precio de la vivienda mediante aprendizaje automático\n",
    "\n",
    "## Trabajo Final De Master\n",
    "\n",
    "## Universidad de Valladolid\n",
    "\n",
    "#### Bungisa Beto Bibeyi"
   ]
  },
  {
   "cell_type": "markdown",
   "id": "08972af2",
   "metadata": {
    "id": "08972af2"
   },
   "source": [
    "### Desarrollo de un Modelo de Predicción para el Precio de Viviendas"
   ]
  },
  {
   "cell_type": "markdown",
   "id": "c5397096",
   "metadata": {
    "id": "c5397096"
   },
   "source": [
    "### Librerias"
   ]
  },
  {
   "cell_type": "code",
   "execution_count": 1,
   "id": "24c6c646",
   "metadata": {
    "id": "24c6c646"
   },
   "outputs": [],
   "source": [
    "import os\n",
    "import json\n",
    "import pandas as pd\n",
    "import numpy as np\n",
    "import seaborn as sns\n",
    "import matplotlib.pyplot as plt\n",
    "import matplotlib.ticker as ticker"
   ]
  },
  {
   "cell_type": "code",
   "execution_count": 2,
   "id": "e362f9c8",
   "metadata": {
    "id": "e362f9c8"
   },
   "outputs": [],
   "source": [
    "# Modulos\n",
    "from sklearn.pipeline import Pipeline\n",
    "from sklearn.compose import ColumnTransformer\n",
    "from sklearn.preprocessing import StandardScaler, OneHotEncoder"
   ]
  },
  {
   "cell_type": "code",
   "execution_count": 3,
   "id": "43d737a6",
   "metadata": {
    "id": "43d737a6"
   },
   "outputs": [],
   "source": [
    "from sklearn.metrics import mean_squared_error\n",
    "from sklearn.model_selection import train_test_split"
   ]
  },
  {
   "cell_type": "code",
   "execution_count": 4,
   "id": "f6c95e98",
   "metadata": {
    "id": "f6c95e98"
   },
   "outputs": [],
   "source": [
    "import re"
   ]
  },
  {
   "cell_type": "code",
   "execution_count": 5,
   "id": "084ec25f",
   "metadata": {
    "id": "084ec25f"
   },
   "outputs": [],
   "source": [
    "from sklearn.preprocessing import LabelEncoder"
   ]
  },
  {
   "cell_type": "code",
   "execution_count": 6,
   "id": "b87fc0f3",
   "metadata": {
    "id": "b87fc0f3"
   },
   "outputs": [],
   "source": [
    "from sklearn.base import BaseEstimator, TransformerMixin"
   ]
  },
  {
   "cell_type": "code",
   "execution_count": 7,
   "id": "a7bd3f88",
   "metadata": {
    "id": "a7bd3f88"
   },
   "outputs": [],
   "source": [
    "import joblib\n",
    "from datetime import datetime"
   ]
  },
  {
   "cell_type": "code",
   "execution_count": 8,
   "id": "b3e9daa5",
   "metadata": {
    "id": "b3e9daa5"
   },
   "outputs": [],
   "source": [
    "from sklearn.model_selection import train_test_split, cross_val_score,StratifiedKFold"
   ]
  },
  {
   "cell_type": "code",
   "execution_count": 9,
   "id": "986632c9",
   "metadata": {
    "id": "986632c9"
   },
   "outputs": [],
   "source": [
    "from sklearn.linear_model import LinearRegression"
   ]
  },
  {
   "cell_type": "code",
   "execution_count": 10,
   "id": "5a954d7c",
   "metadata": {
    "id": "5a954d7c"
   },
   "outputs": [],
   "source": [
    "from sklearn.ensemble import RandomForestRegressor"
   ]
  },
  {
   "cell_type": "code",
   "execution_count": 11,
   "id": "2c9f23bd",
   "metadata": {
    "id": "2c9f23bd"
   },
   "outputs": [],
   "source": [
    "from sklearn.tree import DecisionTreeRegressor"
   ]
  },
  {
   "cell_type": "code",
   "execution_count": 12,
   "id": "01314084",
   "metadata": {
    "id": "01314084"
   },
   "outputs": [],
   "source": [
    "from sklearn.model_selection import GridSearchCV"
   ]
  },
  {
   "cell_type": "code",
   "execution_count": 13,
   "id": "8c3321fb",
   "metadata": {},
   "outputs": [
    {
     "name": "stdout",
     "output_type": "stream",
     "text": [
      "Requirement already satisfied: xgboost in c:\\users\\arnold\\anaconda3\\lib\\site-packages (2.1.1)\n",
      "Requirement already satisfied: scipy in c:\\users\\arnold\\anaconda3\\lib\\site-packages (from xgboost) (1.10.0)\n",
      "Requirement already satisfied: numpy in c:\\users\\arnold\\anaconda3\\lib\\site-packages (from xgboost) (1.23.5)\n",
      "Note: you may need to restart the kernel to use updated packages.\n"
     ]
    }
   ],
   "source": [
    "pip install xgboost"
   ]
  },
  {
   "cell_type": "code",
   "execution_count": 14,
   "id": "d7ee77b5",
   "metadata": {},
   "outputs": [],
   "source": [
    "from xgboost import XGBRegressor"
   ]
  },
  {
   "cell_type": "code",
   "execution_count": 15,
   "id": "8f5f57da",
   "metadata": {},
   "outputs": [],
   "source": [
    "import glob"
   ]
  },
  {
   "cell_type": "markdown",
   "id": "80077805",
   "metadata": {
    "id": "80077805"
   },
   "source": [
    "### FUNCIONES"
   ]
  },
  {
   "cell_type": "code",
   "execution_count": 16,
   "id": "967e3dda",
   "metadata": {
    "id": "967e3dda"
   },
   "outputs": [],
   "source": [
    "def crear_modelo(X, y,classifiers,preprocessor):\n",
    "    \"\"\"\n",
    "    Evaluar varios clasificadores en un conjunto de datos.\n",
    "    \"\"\"\n",
    "    results = []\n",
    "    for name, model in classifiers.items():\n",
    "\n",
    "        print(f\"Iniciar entrenamiento y evaluacion modelo '{name}'\")\n",
    "        # Crear el pipeline\n",
    "        pipeline = Pipeline(steps=[\n",
    "            ('preprocessor', preprocessor),\n",
    "            ('classifiers', model)\n",
    "        ])\n",
    "\n",
    "        try:\n",
    "\n",
    "            # Evaluar el modelo usando validación cruzada\n",
    "            scores_MSE = cross_val_score(pipeline, X, y, cv=5, scoring='neg_mean_squared_error')\n",
    "            scores_MAE = cross_val_score(pipeline, X, y, cv=5, scoring='neg_mean_absolute_error')\n",
    "            scores_R2 = cross_val_score(pipeline, X, y, cv=5, scoring='r2')\n",
    "\n",
    "            # cambiar el signo\n",
    "            scores_model_MSE = -scores_MSE\n",
    "            scores_model_RMSE = np.sqrt(scores_model_MSE)\n",
    "            mean_score_RMSE = np.mean(scores_model_RMSE)\n",
    "            std_RMSE = np.std(scores_model_RMSE)\n",
    "            \n",
    "            scores_model_MAE = -scores_MAE\n",
    "            mean_score_MAE = np.mean(scores_model_MAE)\n",
    "            std_MAE = np.std(scores_model_MAE)\n",
    "            \n",
    "       \n",
    "            mean_score_R2 = np.mean(scores_R2)\n",
    "            std_R2 =np.std(scores_R2)\n",
    "\n",
    "            print(f'{name} - Mean score RMSE: {mean_score_RMSE:.4f}')\n",
    "            print(f'{name} - score RMSE: {scores_model_RMSE}')\n",
    "            print(f'{name} - Standard deviation RMSE: {std_RMSE}')\n",
    "            print('-----------------------------------------------------')\n",
    "            print(f'{name} - Mean score MAE: {mean_score_MAE:.4f}')\n",
    "            print(f'{name} - score MAE: {scores_model_MAE}')\n",
    "            print(f'{name} - Standard deviation MAE: {std_MAE}')\n",
    "            print('-----------------------------------------------------')\n",
    "            print(f'{name} - Mean score R2: {mean_score_R2:.4f}')\n",
    "            print(f'{name} - score R2: {scores_R2}')\n",
    "            print(f'{name} - Standard deviation R2: {std_R2}')\n",
    "            \n",
    "            pipeline.fit(X,y)\n",
    "\n",
    "            #timestamp = datetime.now().strftime('%Y%m%d%H%M%S')\n",
    "            filename = f'modelos/{name}.pkl'\n",
    "            #filename = f'modelos/pruebaReg_1.pkl'\n",
    "\n",
    "            # Guardar el pipeline entrenado\n",
    "            joblib.dump(pipeline, filename)\n",
    "            print(f\"Modelo guardado con éxito en '{filename}'\")\n",
    "\n",
    "            results.append({\n",
    "                'Modelo': name,\n",
    "                'ruta':filename,\n",
    "                'score_RMSE':scores_model_RMSE,\n",
    "                'Mean_RMSE': mean_score_RMSE,\n",
    "                'Standard_Deviation_RMSE': std_RMSE,\n",
    "                'score_MAE':scores_MAE,\n",
    "                'Mean_MAE': mean_score_MAE,\n",
    "                'Standard_Deviation_MAE': std_MAE,\n",
    "                'score_R2':scores_R2,\n",
    "                'Mean_R2': mean_score_R2,\n",
    "                'Standard_Deviation_R2': std_R2\n",
    "            })\n",
    "            \n",
    "            results_df = pd.DataFrame(results)\n",
    "            results_df.to_csv(f'resultados/resultados_modelos_{name}.csv', index=False)\n",
    "\n",
    "            print(f\"Fin entrenamiento y evaluacion modelo '{name}'\")\n",
    "\n",
    "        except ValueError as e:\n",
    "            print(f'Error durante la validación cruzada: {e}')\n",
    "        except Exception as e:\n",
    "            print(f'Error inesperado: {e}')\n"
   ]
  },
  {
   "cell_type": "markdown",
   "id": "bd84bf2b",
   "metadata": {
    "id": "bd84bf2b"
   },
   "source": [
    "### Formato conjunto de datos (CSV)"
   ]
  },
  {
   "cell_type": "markdown",
   "id": "c0abac80",
   "metadata": {
    "id": "c0abac80"
   },
   "source": [
    "### Descripción de los campos"
   ]
  },
  {
   "cell_type": "markdown",
   "id": "ff90a984",
   "metadata": {
    "id": "ff90a984"
   },
   "source": [
    "### Lectura de los datos"
   ]
  },
  {
   "cell_type": "code",
   "execution_count": 17,
   "id": "da867230",
   "metadata": {
    "id": "da867230"
   },
   "outputs": [],
   "source": [
    "viviendas_df = pd.read_csv('datos_procesados/viviendas_procesadas_df.csv')"
   ]
  },
  {
   "cell_type": "markdown",
   "id": "4429e77a",
   "metadata": {
    "id": "4429e77a"
   },
   "source": [
    "### Exploracion inicial de los datos\n",
    "\n",
    "La estructura del fichero json leido es heterogeneos o variable por lo que los objetos pueden tener diferentes conjuntos\n",
    "claves o variar en los tipos de valores asociados a estas claves.  \n",
    "A la hora de cargar los datos se rellenan con valores nulos(NaN) los campos que no estan presentes en todos los objetos.  \n",
    "\n",
    "En esta fase se realizar una observacion inicial sobre el conjunto de datos donde se puede determinar lo siguiente:\n",
    "\n",
    " - El numero de registros y columnas que tiene el conjunto de datos\n",
    " - Como se presentan los datos y si se han cargado correctamente\n",
    " - Renombrar el nombre de las columnas si se considera necesario para mejorar el analisis del conjunto de datos"
   ]
  },
  {
   "cell_type": "code",
   "execution_count": 18,
   "id": "8acbe2c0",
   "metadata": {
    "colab": {
     "base_uri": "https://localhost:8080/"
    },
    "id": "8acbe2c0",
    "outputId": "2df0b196-260a-458d-8908-87188550d280"
   },
   "outputs": [
    {
     "data": {
      "text/plain": [
       "(3256, 17)"
      ]
     },
     "execution_count": 18,
     "metadata": {},
     "output_type": "execute_result"
    }
   ],
   "source": [
    "viviendas_df.shape"
   ]
  },
  {
   "cell_type": "markdown",
   "id": "9dcdb848",
   "metadata": {
    "id": "9dcdb848"
   },
   "source": [
    "##### Observaciones:\n",
    " - Podemos ver que el conjunto de datos cargado consta de 4517 registros y 23 columnas"
   ]
  },
  {
   "cell_type": "markdown",
   "id": "d06244bd",
   "metadata": {
    "id": "d06244bd"
   },
   "source": [
    "#### Información del conjunto de datos"
   ]
  },
  {
   "cell_type": "code",
   "execution_count": 19,
   "id": "a9ededef",
   "metadata": {
    "colab": {
     "base_uri": "https://localhost:8080/",
     "height": 469
    },
    "id": "a9ededef",
    "outputId": "55e01e9a-e009-4985-f70a-62a87325bec1"
   },
   "outputs": [
    {
     "data": {
      "text/html": [
       "<div>\n",
       "<style scoped>\n",
       "    .dataframe tbody tr th:only-of-type {\n",
       "        vertical-align: middle;\n",
       "    }\n",
       "\n",
       "    .dataframe tbody tr th {\n",
       "        vertical-align: top;\n",
       "    }\n",
       "\n",
       "    .dataframe thead th {\n",
       "        text-align: right;\n",
       "    }\n",
       "</style>\n",
       "<table border=\"1\" class=\"dataframe\">\n",
       "  <thead>\n",
       "    <tr style=\"text-align: right;\">\n",
       "      <th></th>\n",
       "      <th>price</th>\n",
       "      <th>propertyType</th>\n",
       "      <th>size</th>\n",
       "      <th>rooms</th>\n",
       "      <th>bathrooms</th>\n",
       "      <th>municipality</th>\n",
       "      <th>latitude</th>\n",
       "      <th>longitude</th>\n",
       "      <th>status</th>\n",
       "      <th>priceByArea</th>\n",
       "      <th>hasParkingSpace</th>\n",
       "      <th>isParkingSpaceIncludedInPrice</th>\n",
       "      <th>typology</th>\n",
       "      <th>subtitle</th>\n",
       "      <th>floor</th>\n",
       "      <th>exterior</th>\n",
       "      <th>hasLift</th>\n",
       "    </tr>\n",
       "  </thead>\n",
       "  <tbody>\n",
       "    <tr>\n",
       "      <th>0</th>\n",
       "      <td>795000.0</td>\n",
       "      <td>flat</td>\n",
       "      <td>201.0</td>\n",
       "      <td>2</td>\n",
       "      <td>2</td>\n",
       "      <td>madrid</td>\n",
       "      <td>40.444223</td>\n",
       "      <td>-3.642674</td>\n",
       "      <td>newdevelopment</td>\n",
       "      <td>3955.0</td>\n",
       "      <td>1</td>\n",
       "      <td>1</td>\n",
       "      <td>flat</td>\n",
       "      <td>concepción</td>\n",
       "      <td>intermedio</td>\n",
       "      <td>1</td>\n",
       "      <td>1</td>\n",
       "    </tr>\n",
       "    <tr>\n",
       "      <th>1</th>\n",
       "      <td>330000.0</td>\n",
       "      <td>flat</td>\n",
       "      <td>65.0</td>\n",
       "      <td>1</td>\n",
       "      <td>1</td>\n",
       "      <td>madrid</td>\n",
       "      <td>40.419601</td>\n",
       "      <td>-3.704022</td>\n",
       "      <td>good</td>\n",
       "      <td>5077.0</td>\n",
       "      <td>0</td>\n",
       "      <td>0</td>\n",
       "      <td>flat</td>\n",
       "      <td>sol</td>\n",
       "      <td>intermedio</td>\n",
       "      <td>0</td>\n",
       "      <td>1</td>\n",
       "    </tr>\n",
       "    <tr>\n",
       "      <th>2</th>\n",
       "      <td>170000.0</td>\n",
       "      <td>chalet</td>\n",
       "      <td>110.0</td>\n",
       "      <td>3</td>\n",
       "      <td>1</td>\n",
       "      <td>campo real</td>\n",
       "      <td>40.339953</td>\n",
       "      <td>-3.382293</td>\n",
       "      <td>good</td>\n",
       "      <td>1545.0</td>\n",
       "      <td>0</td>\n",
       "      <td>0</td>\n",
       "      <td>chalet</td>\n",
       "      <td>campo real</td>\n",
       "      <td>alto</td>\n",
       "      <td>1</td>\n",
       "      <td>0</td>\n",
       "    </tr>\n",
       "    <tr>\n",
       "      <th>3</th>\n",
       "      <td>945000.0</td>\n",
       "      <td>penthouse</td>\n",
       "      <td>185.0</td>\n",
       "      <td>3</td>\n",
       "      <td>3</td>\n",
       "      <td>madrid</td>\n",
       "      <td>40.436027</td>\n",
       "      <td>-3.695607</td>\n",
       "      <td>good</td>\n",
       "      <td>5108.0</td>\n",
       "      <td>0</td>\n",
       "      <td>0</td>\n",
       "      <td>flat</td>\n",
       "      <td>almagro</td>\n",
       "      <td>mediano</td>\n",
       "      <td>1</td>\n",
       "      <td>1</td>\n",
       "    </tr>\n",
       "    <tr>\n",
       "      <th>4</th>\n",
       "      <td>450000.0</td>\n",
       "      <td>flat</td>\n",
       "      <td>110.0</td>\n",
       "      <td>3</td>\n",
       "      <td>2</td>\n",
       "      <td>villaviciosa de odón</td>\n",
       "      <td>40.362803</td>\n",
       "      <td>-3.914905</td>\n",
       "      <td>renew</td>\n",
       "      <td>4091.0</td>\n",
       "      <td>1</td>\n",
       "      <td>1</td>\n",
       "      <td>flat</td>\n",
       "      <td>centro</td>\n",
       "      <td>intermedio</td>\n",
       "      <td>1</td>\n",
       "      <td>1</td>\n",
       "    </tr>\n",
       "  </tbody>\n",
       "</table>\n",
       "</div>"
      ],
      "text/plain": [
       "      price propertyType   size  rooms  bathrooms          municipality  \\\n",
       "0  795000.0         flat  201.0      2          2                madrid   \n",
       "1  330000.0         flat   65.0      1          1                madrid   \n",
       "2  170000.0       chalet  110.0      3          1            campo real   \n",
       "3  945000.0    penthouse  185.0      3          3                madrid   \n",
       "4  450000.0         flat  110.0      3          2  villaviciosa de odón   \n",
       "\n",
       "    latitude  longitude          status  priceByArea  hasParkingSpace  \\\n",
       "0  40.444223  -3.642674  newdevelopment       3955.0                1   \n",
       "1  40.419601  -3.704022            good       5077.0                0   \n",
       "2  40.339953  -3.382293            good       1545.0                0   \n",
       "3  40.436027  -3.695607            good       5108.0                0   \n",
       "4  40.362803  -3.914905           renew       4091.0                1   \n",
       "\n",
       "   isParkingSpaceIncludedInPrice typology    subtitle       floor  exterior  \\\n",
       "0                              1     flat  concepción  intermedio         1   \n",
       "1                              0     flat         sol  intermedio         0   \n",
       "2                              0   chalet  campo real        alto         1   \n",
       "3                              0     flat     almagro     mediano         1   \n",
       "4                              1     flat      centro  intermedio         1   \n",
       "\n",
       "   hasLift  \n",
       "0        1  \n",
       "1        1  \n",
       "2        0  \n",
       "3        1  \n",
       "4        1  "
      ]
     },
     "execution_count": 19,
     "metadata": {},
     "output_type": "execute_result"
    }
   ],
   "source": [
    "viviendas_df[viviendas_df.columns[0:18]].head()"
   ]
  },
  {
   "cell_type": "markdown",
   "id": "377e703b",
   "metadata": {
    "id": "377e703b"
   },
   "source": [
    "#### Visión general de la estructura de datos"
   ]
  },
  {
   "cell_type": "code",
   "execution_count": 20,
   "id": "21fe72ce",
   "metadata": {
    "colab": {
     "base_uri": "https://localhost:8080/"
    },
    "id": "21fe72ce",
    "outputId": "93de949a-58db-4e25-92a5-4364a93ced5a"
   },
   "outputs": [
    {
     "name": "stdout",
     "output_type": "stream",
     "text": [
      "<class 'pandas.core.frame.DataFrame'>\n",
      "RangeIndex: 3256 entries, 0 to 3255\n",
      "Data columns (total 17 columns):\n",
      " #   Column                         Non-Null Count  Dtype  \n",
      "---  ------                         --------------  -----  \n",
      " 0   price                          3256 non-null   float64\n",
      " 1   propertyType                   3256 non-null   object \n",
      " 2   size                           3256 non-null   float64\n",
      " 3   rooms                          3256 non-null   int64  \n",
      " 4   bathrooms                      3256 non-null   int64  \n",
      " 5   municipality                   3256 non-null   object \n",
      " 6   latitude                       3256 non-null   float64\n",
      " 7   longitude                      3256 non-null   float64\n",
      " 8   status                         3256 non-null   object \n",
      " 9   priceByArea                    3256 non-null   float64\n",
      " 10  hasParkingSpace                3256 non-null   int64  \n",
      " 11  isParkingSpaceIncludedInPrice  3256 non-null   int64  \n",
      " 12  typology                       3256 non-null   object \n",
      " 13  subtitle                       3256 non-null   object \n",
      " 14  floor                          3256 non-null   object \n",
      " 15  exterior                       3256 non-null   int64  \n",
      " 16  hasLift                        3256 non-null   int64  \n",
      "dtypes: float64(5), int64(6), object(6)\n",
      "memory usage: 432.6+ KB\n"
     ]
    }
   ],
   "source": [
    "viviendas_df.info()"
   ]
  },
  {
   "cell_type": "markdown",
   "id": "9328ad8c",
   "metadata": {
    "id": "9328ad8c"
   },
   "source": [
    "Se procede a separar el conjuntos de datos en variables categorico y numericos"
   ]
  },
  {
   "cell_type": "markdown",
   "id": "677b45d4",
   "metadata": {
    "id": "677b45d4"
   },
   "source": [
    "Los modelos de aprendizaje automatico solo pueden procesar valores numericos por lo que cuando en conjunto de datos se tiene variables categoricas es necesario realizar un proceso de transformacion de esos valores textuales en numeros.\n",
    "Embedins , label encoding(puede ser problematico con cierto modelo de machine learning)"
   ]
  },
  {
   "cell_type": "markdown",
   "id": "6c1b0f79",
   "metadata": {},
   "source": [
    "### Separar variables categoricas y numericas"
   ]
  },
  {
   "cell_type": "code",
   "execution_count": 21,
   "id": "8fc47444",
   "metadata": {
    "id": "8fc47444"
   },
   "outputs": [],
   "source": [
    "columnas_numericas_df = viviendas_df.select_dtypes(include=[np.number])\n",
    "columnas_numericas = columnas_numericas_df.drop(['price'],axis=1).columns\n",
    "\n",
    "columnas_categoricas_df = viviendas_df.select_dtypes(exclude=[np.number])\n",
    "columnas_categoricas = columnas_categoricas_df.columns"
   ]
  },
  {
   "cell_type": "markdown",
   "id": "47ce8f1e",
   "metadata": {},
   "source": [
    "### Procesamiento"
   ]
  },
  {
   "cell_type": "code",
   "execution_count": 22,
   "id": "kikUvygzzKNB",
   "metadata": {
    "colab": {
     "base_uri": "https://localhost:8080/",
     "height": 408
    },
    "id": "kikUvygzzKNB",
    "outputId": "a454d6b0-71fe-411e-be7e-feda8f4c3f36"
   },
   "outputs": [],
   "source": [
    "preprocessor = ColumnTransformer(\n",
    "    transformers=[\n",
    "        ('cat', OneHotEncoder(handle_unknown='ignore'), columnas_categoricas),\n",
    "        ('num', StandardScaler(), columnas_numericas)\n",
    "    ]\n",
    ")"
   ]
  },
  {
   "cell_type": "markdown",
   "id": "c2fa6101",
   "metadata": {},
   "source": [
    "### Clasificadores"
   ]
  },
  {
   "cell_type": "code",
   "execution_count": 23,
   "id": "89c23a4c",
   "metadata": {
    "id": "89c23a4c"
   },
   "outputs": [],
   "source": [
    "## Clasificadores\n",
    "classifiersLinearRegression = {\n",
    "    'LinearRegression': LinearRegression()\n",
    "}\n",
    "classifiersRandomForestRegressor = {\n",
    "    'RandomForestRegressor':RandomForestRegressor(n_estimators=10, random_state=42)\n",
    "}\n",
    "\n",
    "classifiersXGBRegressor = {\n",
    "   'XGBRegressor':XGBRegressor(objective='reg:squarederror', use_label_encoder=False)\n",
    "}"
   ]
  },
  {
   "cell_type": "markdown",
   "id": "cbe7b1ac",
   "metadata": {},
   "source": [
    "### Separar en variables predictoras y variable objetivo"
   ]
  },
  {
   "cell_type": "code",
   "execution_count": 24,
   "id": "1a29cddf",
   "metadata": {
    "id": "1a29cddf"
   },
   "outputs": [],
   "source": [
    "X=viviendas_df.drop(['price'],axis=1)"
   ]
  },
  {
   "cell_type": "code",
   "execution_count": 25,
   "id": "c007bd88",
   "metadata": {
    "id": "c007bd88"
   },
   "outputs": [],
   "source": [
    "y= viviendas_df['price']"
   ]
  },
  {
   "cell_type": "code",
   "execution_count": 26,
   "id": "8ea0de45",
   "metadata": {},
   "outputs": [],
   "source": [
    "# Dividir en conjunto de entrenamiento y prueba\n",
    "X_train, X_test, y_train, y_test = train_test_split(X,y, test_size=0.2, random_state=42) #random_state=42"
   ]
  },
  {
   "cell_type": "markdown",
   "id": "73d34a90",
   "metadata": {
    "id": "f3b70348"
   },
   "source": [
    "### Entrenamiento y validación"
   ]
  },
  {
   "cell_type": "code",
   "execution_count": 29,
   "id": "83ce919a",
   "metadata": {
    "colab": {
     "base_uri": "https://localhost:8080/"
    },
    "id": "83ce919a",
    "outputId": "9bd57e2e-210e-448f-f02b-ac11201d94e2"
   },
   "outputs": [
    {
     "name": "stdout",
     "output_type": "stream",
     "text": [
      "Iniciar entrenamiento y evaluacion modelo 'LinearRegression'\n",
      "LinearRegression - Mean score RMSE: 69114.7163\n",
      "LinearRegression - score RMSE: [65865.61706777 67468.1107629  68219.00260814 64563.33639253\n",
      " 79457.51476775]\n",
      "LinearRegression - Standard deviation RMSE: 5324.637036269864\n",
      "-----------------------------------------------------\n",
      "LinearRegression - Mean score MAE: 45262.6732\n",
      "LinearRegression - score MAE: [44495.22286321 45842.77996685 44361.5327194  42486.81734158\n",
      " 49127.0132972 ]\n",
      "LinearRegression - Standard deviation MAE: 2207.98814216654\n",
      "-----------------------------------------------------\n",
      "LinearRegression - Mean score R2: 0.8427\n",
      "LinearRegression - score R2: [0.84044678 0.85483903 0.85496584 0.84212077 0.82117474]\n",
      "LinearRegression - Standard deviation R2: 0.012381885879861249\n",
      "Modelo guardado con éxito en 'modelos/LinearRegression.pkl'\n",
      "Fin entrenamiento y evaluacion modelo 'LinearRegression'\n"
     ]
    }
   ],
   "source": [
    "crear_modelo(X_train, y_train,classifiersLinearRegression,preprocessor)"
   ]
  },
  {
   "cell_type": "code",
   "execution_count": 30,
   "id": "_hhnKtgVkFkD",
   "metadata": {
    "colab": {
     "base_uri": "https://localhost:8080/"
    },
    "id": "_hhnKtgVkFkD",
    "outputId": "b55bc0f1-7bae-4b8d-95ac-c626d13d19d8"
   },
   "outputs": [
    {
     "name": "stdout",
     "output_type": "stream",
     "text": [
      "Iniciar entrenamiento y evaluacion modelo 'RandomForestRegressor'\n",
      "RandomForestRegressor - Mean score RMSE: 15783.1463\n",
      "RandomForestRegressor - score RMSE: [11886.66336847 18325.41926226 20105.31302834 12799.00963171\n",
      " 15799.32626065]\n",
      "RandomForestRegressor - Standard deviation RMSE: 3137.903431403038\n",
      "-----------------------------------------------------\n",
      "RandomForestRegressor - Mean score MAE: 8301.2715\n",
      "RandomForestRegressor - score MAE: [7475.85527831 9131.03627639 9064.53666027 7385.13723608 8449.79192308]\n",
      "RandomForestRegressor - Standard deviation MAE: 750.1673858064773\n",
      "-----------------------------------------------------\n",
      "RandomForestRegressor - Mean score R2: 0.9916\n",
      "RandomForestRegressor - score R2: [0.99480354 0.98929071 0.98740259 0.99379551 0.99292973]\n",
      "RandomForestRegressor - Standard deviation R2: 0.0028210742801624933\n",
      "Modelo guardado con éxito en 'modelos/RandomForestRegressor.pkl'\n",
      "Fin entrenamiento y evaluacion modelo 'RandomForestRegressor'\n"
     ]
    }
   ],
   "source": [
    "crear_modelo(X_train, y_train,classifiersRandomForestRegressor,preprocessor)"
   ]
  },
  {
   "cell_type": "code",
   "execution_count": 31,
   "id": "99e1e433",
   "metadata": {},
   "outputs": [
    {
     "name": "stdout",
     "output_type": "stream",
     "text": [
      "Iniciar entrenamiento y evaluacion modelo 'XGBRegressor'\n"
     ]
    },
    {
     "name": "stderr",
     "output_type": "stream",
     "text": [
      "C:\\Users\\Arnold\\anaconda3\\lib\\site-packages\\xgboost\\core.py:158: UserWarning: [14:18:13] WARNING: C:\\buildkite-agent\\builds\\buildkite-windows-cpu-autoscaling-group-i-0015a694724fa8361-1\\xgboost\\xgboost-ci-windows\\src\\learner.cc:740: \n",
      "Parameters: { \"use_label_encoder\" } are not used.\n",
      "\n",
      "  warnings.warn(smsg, UserWarning)\n",
      "C:\\Users\\Arnold\\anaconda3\\lib\\site-packages\\xgboost\\core.py:158: UserWarning: [14:18:13] WARNING: C:\\buildkite-agent\\builds\\buildkite-windows-cpu-autoscaling-group-i-0015a694724fa8361-1\\xgboost\\xgboost-ci-windows\\src\\learner.cc:740: \n",
      "Parameters: { \"use_label_encoder\" } are not used.\n",
      "\n",
      "  warnings.warn(smsg, UserWarning)\n",
      "C:\\Users\\Arnold\\anaconda3\\lib\\site-packages\\xgboost\\core.py:158: UserWarning: [14:18:14] WARNING: C:\\buildkite-agent\\builds\\buildkite-windows-cpu-autoscaling-group-i-0015a694724fa8361-1\\xgboost\\xgboost-ci-windows\\src\\learner.cc:740: \n",
      "Parameters: { \"use_label_encoder\" } are not used.\n",
      "\n",
      "  warnings.warn(smsg, UserWarning)\n",
      "C:\\Users\\Arnold\\anaconda3\\lib\\site-packages\\xgboost\\core.py:158: UserWarning: [14:18:14] WARNING: C:\\buildkite-agent\\builds\\buildkite-windows-cpu-autoscaling-group-i-0015a694724fa8361-1\\xgboost\\xgboost-ci-windows\\src\\learner.cc:740: \n",
      "Parameters: { \"use_label_encoder\" } are not used.\n",
      "\n",
      "  warnings.warn(smsg, UserWarning)\n",
      "C:\\Users\\Arnold\\anaconda3\\lib\\site-packages\\xgboost\\core.py:158: UserWarning: [14:18:14] WARNING: C:\\buildkite-agent\\builds\\buildkite-windows-cpu-autoscaling-group-i-0015a694724fa8361-1\\xgboost\\xgboost-ci-windows\\src\\learner.cc:740: \n",
      "Parameters: { \"use_label_encoder\" } are not used.\n",
      "\n",
      "  warnings.warn(smsg, UserWarning)\n",
      "C:\\Users\\Arnold\\anaconda3\\lib\\site-packages\\xgboost\\core.py:158: UserWarning: [14:18:14] WARNING: C:\\buildkite-agent\\builds\\buildkite-windows-cpu-autoscaling-group-i-0015a694724fa8361-1\\xgboost\\xgboost-ci-windows\\src\\learner.cc:740: \n",
      "Parameters: { \"use_label_encoder\" } are not used.\n",
      "\n",
      "  warnings.warn(smsg, UserWarning)\n",
      "C:\\Users\\Arnold\\anaconda3\\lib\\site-packages\\xgboost\\core.py:158: UserWarning: [14:18:14] WARNING: C:\\buildkite-agent\\builds\\buildkite-windows-cpu-autoscaling-group-i-0015a694724fa8361-1\\xgboost\\xgboost-ci-windows\\src\\learner.cc:740: \n",
      "Parameters: { \"use_label_encoder\" } are not used.\n",
      "\n",
      "  warnings.warn(smsg, UserWarning)\n",
      "C:\\Users\\Arnold\\anaconda3\\lib\\site-packages\\xgboost\\core.py:158: UserWarning: [14:18:14] WARNING: C:\\buildkite-agent\\builds\\buildkite-windows-cpu-autoscaling-group-i-0015a694724fa8361-1\\xgboost\\xgboost-ci-windows\\src\\learner.cc:740: \n",
      "Parameters: { \"use_label_encoder\" } are not used.\n",
      "\n",
      "  warnings.warn(smsg, UserWarning)\n",
      "C:\\Users\\Arnold\\anaconda3\\lib\\site-packages\\xgboost\\core.py:158: UserWarning: [14:18:14] WARNING: C:\\buildkite-agent\\builds\\buildkite-windows-cpu-autoscaling-group-i-0015a694724fa8361-1\\xgboost\\xgboost-ci-windows\\src\\learner.cc:740: \n",
      "Parameters: { \"use_label_encoder\" } are not used.\n",
      "\n",
      "  warnings.warn(smsg, UserWarning)\n",
      "C:\\Users\\Arnold\\anaconda3\\lib\\site-packages\\xgboost\\core.py:158: UserWarning: [14:18:14] WARNING: C:\\buildkite-agent\\builds\\buildkite-windows-cpu-autoscaling-group-i-0015a694724fa8361-1\\xgboost\\xgboost-ci-windows\\src\\learner.cc:740: \n",
      "Parameters: { \"use_label_encoder\" } are not used.\n",
      "\n",
      "  warnings.warn(smsg, UserWarning)\n",
      "C:\\Users\\Arnold\\anaconda3\\lib\\site-packages\\xgboost\\core.py:158: UserWarning: [14:18:15] WARNING: C:\\buildkite-agent\\builds\\buildkite-windows-cpu-autoscaling-group-i-0015a694724fa8361-1\\xgboost\\xgboost-ci-windows\\src\\learner.cc:740: \n",
      "Parameters: { \"use_label_encoder\" } are not used.\n",
      "\n",
      "  warnings.warn(smsg, UserWarning)\n",
      "C:\\Users\\Arnold\\anaconda3\\lib\\site-packages\\xgboost\\core.py:158: UserWarning: [14:18:15] WARNING: C:\\buildkite-agent\\builds\\buildkite-windows-cpu-autoscaling-group-i-0015a694724fa8361-1\\xgboost\\xgboost-ci-windows\\src\\learner.cc:740: \n",
      "Parameters: { \"use_label_encoder\" } are not used.\n",
      "\n",
      "  warnings.warn(smsg, UserWarning)\n",
      "C:\\Users\\Arnold\\anaconda3\\lib\\site-packages\\xgboost\\core.py:158: UserWarning: [14:18:15] WARNING: C:\\buildkite-agent\\builds\\buildkite-windows-cpu-autoscaling-group-i-0015a694724fa8361-1\\xgboost\\xgboost-ci-windows\\src\\learner.cc:740: \n",
      "Parameters: { \"use_label_encoder\" } are not used.\n",
      "\n",
      "  warnings.warn(smsg, UserWarning)\n",
      "C:\\Users\\Arnold\\anaconda3\\lib\\site-packages\\xgboost\\core.py:158: UserWarning: [14:18:15] WARNING: C:\\buildkite-agent\\builds\\buildkite-windows-cpu-autoscaling-group-i-0015a694724fa8361-1\\xgboost\\xgboost-ci-windows\\src\\learner.cc:740: \n",
      "Parameters: { \"use_label_encoder\" } are not used.\n",
      "\n",
      "  warnings.warn(smsg, UserWarning)\n"
     ]
    },
    {
     "name": "stdout",
     "output_type": "stream",
     "text": [
      "XGBRegressor - Mean score RMSE: 14026.5092\n",
      "XGBRegressor - score RMSE: [12346.7892634  12862.54391639 17997.55961556 13113.89524896\n",
      " 13811.75802598]\n",
      "XGBRegressor - Standard deviation RMSE: 2040.8085623183704\n",
      "-----------------------------------------------------\n",
      "XGBRegressor - Mean score MAE: 8429.8902\n",
      "XGBRegressor - score MAE: [7940.34524577 8288.62340301 8966.25966441 8034.97833943 8919.24443359]\n",
      "XGBRegressor - Standard deviation MAE: 434.21785224580805\n",
      "-----------------------------------------------------\n",
      "XGBRegressor - Mean score R2: 0.9934\n",
      "XGBRegressor - score R2: [0.99439344 0.99472398 0.98990545 0.99348647 0.99459673]\n",
      "XGBRegressor - Standard deviation R2: 0.001810474740350266\n",
      "Modelo guardado con éxito en 'modelos/XGBRegressor.pkl'\n",
      "Fin entrenamiento y evaluacion modelo 'XGBRegressor'\n"
     ]
    },
    {
     "name": "stderr",
     "output_type": "stream",
     "text": [
      "C:\\Users\\Arnold\\anaconda3\\lib\\site-packages\\xgboost\\core.py:158: UserWarning: [14:18:15] WARNING: C:\\buildkite-agent\\builds\\buildkite-windows-cpu-autoscaling-group-i-0015a694724fa8361-1\\xgboost\\xgboost-ci-windows\\src\\learner.cc:740: \n",
      "Parameters: { \"use_label_encoder\" } are not used.\n",
      "\n",
      "  warnings.warn(smsg, UserWarning)\n",
      "C:\\Users\\Arnold\\anaconda3\\lib\\site-packages\\xgboost\\core.py:158: UserWarning: [14:18:15] WARNING: C:\\buildkite-agent\\builds\\buildkite-windows-cpu-autoscaling-group-i-0015a694724fa8361-1\\xgboost\\xgboost-ci-windows\\src\\learner.cc:740: \n",
      "Parameters: { \"use_label_encoder\" } are not used.\n",
      "\n",
      "  warnings.warn(smsg, UserWarning)\n"
     ]
    }
   ],
   "source": [
    "crear_modelo(X_train, y_train,classifiersXGBRegressor,preprocessor)"
   ]
  },
  {
   "cell_type": "code",
   "execution_count": 32,
   "id": "0510edee",
   "metadata": {},
   "outputs": [],
   "source": [
    "metricas_modelos_csv = glob.glob('resultados/*.csv')"
   ]
  },
  {
   "cell_type": "code",
   "execution_count": 33,
   "id": "86498c38",
   "metadata": {},
   "outputs": [],
   "source": [
    "metricas_df= [pd.read_csv(archivo) for archivo in metricas_modelos_csv]"
   ]
  },
  {
   "cell_type": "code",
   "execution_count": 34,
   "id": "8c5f4461",
   "metadata": {},
   "outputs": [],
   "source": [
    "metricas_modelos_df = pd.concat(metricas_df, ignore_index=True)"
   ]
  },
  {
   "cell_type": "code",
   "execution_count": 35,
   "id": "96952573",
   "metadata": {},
   "outputs": [
    {
     "data": {
      "text/html": [
       "<div>\n",
       "<style scoped>\n",
       "    .dataframe tbody tr th:only-of-type {\n",
       "        vertical-align: middle;\n",
       "    }\n",
       "\n",
       "    .dataframe tbody tr th {\n",
       "        vertical-align: top;\n",
       "    }\n",
       "\n",
       "    .dataframe thead th {\n",
       "        text-align: right;\n",
       "    }\n",
       "</style>\n",
       "<table border=\"1\" class=\"dataframe\">\n",
       "  <thead>\n",
       "    <tr style=\"text-align: right;\">\n",
       "      <th></th>\n",
       "      <th>Modelo</th>\n",
       "      <th>Mean_RMSE</th>\n",
       "      <th>Mean_MAE</th>\n",
       "      <th>Mean_R2</th>\n",
       "    </tr>\n",
       "  </thead>\n",
       "  <tbody>\n",
       "    <tr>\n",
       "      <th>0</th>\n",
       "      <td>LinearRegression</td>\n",
       "      <td>69114.716320</td>\n",
       "      <td>45262.673238</td>\n",
       "      <td>0.842709</td>\n",
       "    </tr>\n",
       "    <tr>\n",
       "      <th>1</th>\n",
       "      <td>RandomForestRegressor</td>\n",
       "      <td>15783.146310</td>\n",
       "      <td>8301.271475</td>\n",
       "      <td>0.991644</td>\n",
       "    </tr>\n",
       "    <tr>\n",
       "      <th>2</th>\n",
       "      <td>XGBRegressor</td>\n",
       "      <td>14026.509214</td>\n",
       "      <td>8429.890217</td>\n",
       "      <td>0.993421</td>\n",
       "    </tr>\n",
       "  </tbody>\n",
       "</table>\n",
       "</div>"
      ],
      "text/plain": [
       "                  Modelo     Mean_RMSE      Mean_MAE   Mean_R2\n",
       "0       LinearRegression  69114.716320  45262.673238  0.842709\n",
       "1  RandomForestRegressor  15783.146310   8301.271475  0.991644\n",
       "2           XGBRegressor  14026.509214   8429.890217  0.993421"
      ]
     },
     "execution_count": 35,
     "metadata": {},
     "output_type": "execute_result"
    }
   ],
   "source": [
    "metricas_modelos_df[['Modelo','Mean_RMSE','Mean_MAE','Mean_R2']].head()"
   ]
  },
  {
   "cell_type": "code",
   "execution_count": 36,
   "id": "54c1d004",
   "metadata": {},
   "outputs": [
    {
     "data": {
      "image/png": "[encoded data removed]",
      "text/plain": [
       "<Figure size 1000x600 with 1 Axes>"
      ]
     },
     "metadata": {},
     "output_type": "display_data"
    }
   ],
   "source": [
    "plt.figure(figsize=(10, 6))\n",
    "\n",
    "plt.bar(metricas_modelos_df['Modelo'], metricas_modelos_df['Mean_RMSE'], alpha=0.6, label='Mean_RMSE')\n",
    "\n",
    "plt.xlabel('Modelo')\n",
    "plt.ylabel('Valor')\n",
    "plt.title('Valor del RMSE por modelo')\n",
    "plt.legend()\n",
    "\n",
    "plt.show()"
   ]
  },
  {
   "cell_type": "code",
   "execution_count": 37,
   "id": "9e061875",
   "metadata": {},
   "outputs": [
    {
     "data": {
      "image/png": "[encoded data removed]",
      "text/plain": [
       "<Figure size 1000x600 with 1 Axes>"
      ]
     },
     "metadata": {},
     "output_type": "display_data"
    }
   ],
   "source": [
    "plt.figure(figsize=(10, 6))\n",
    "\n",
    "plt.bar(metricas_modelos_df['Modelo'], metricas_modelos_df['Mean_MAE'], alpha=0.6, label='Mean_MAE')\n",
    "\n",
    "plt.xlabel('Modelo')\n",
    "plt.ylabel('Valor')\n",
    "plt.title('Valor del MAE por Modelo')\n",
    "plt.legend()\n",
    "\n",
    "plt.show()"
   ]
  },
  {
   "cell_type": "code",
   "execution_count": 38,
   "id": "44da7373",
   "metadata": {},
   "outputs": [
    {
     "data": {
      "image/png": "[encoded data removed]",
      "text/plain": [
       "<Figure size 1000x600 with 1 Axes>"
      ]
     },
     "metadata": {},
     "output_type": "display_data"
    }
   ],
   "source": [
    "plt.figure(figsize=(10, 6))\n",
    "\n",
    "plt.bar(metricas_modelos_df['Modelo'], metricas_modelos_df['Mean_R2'], color='skyblue')\n",
    "\n",
    "plt.xlabel('Modelo')\n",
    "plt.ylabel('Valor de R2')\n",
    "plt.title('Valor de R2 por Modelo')\n",
    "\n",
    "plt.show()"
   ]
  },
  {
   "cell_type": "markdown",
   "id": "b242b237",
   "metadata": {},
   "source": [
    "Optimización"
   ]
  },
  {
   "cell_type": "code",
   "execution_count": 39,
   "id": "ae4fcfd0",
   "metadata": {},
   "outputs": [],
   "source": [
    "param_grid = {\n",
    "    'xgb__n_estimators': [100, 200, 300],\n",
    "    'xgb__learning_rate': [0.01, 0.1, 0.2],\n",
    "    'xgb__max_depth': [3, 6, 9],\n",
    "    'xgb__subsample': [0.8, 1.0],\n",
    "    'xgb__colsample_bytree': [0.8, 1.0]\n",
    "}\n",
    "\n",
    "pipelineXGBReg = Pipeline([\n",
    "    ('preprocessor', preprocessor),\n",
    "    ('xgb', XGBRegressor(objective='reg:squarederror', use_label_encoder=False))\n",
    "])\n",
    "\n",
    "\n",
    "grid_search = GridSearchCV(estimator=pipelineXGBReg,\n",
    "                           param_grid=param_grid,\n",
    "                           scoring='neg_mean_squared_error',\n",
    "                           cv=5, \n",
    "                           n_jobs=-1,  \n",
    "                           verbose=1)"
   ]
  },
  {
   "cell_type": "code",
   "execution_count": 40,
   "id": "af49f90a",
   "metadata": {},
   "outputs": [
    {
     "name": "stdout",
     "output_type": "stream",
     "text": [
      "Fitting 5 folds for each of 108 candidates, totalling 540 fits\n"
     ]
    },
    {
     "name": "stderr",
     "output_type": "stream",
     "text": [
      "C:\\Users\\Arnold\\anaconda3\\lib\\site-packages\\xgboost\\core.py:158: UserWarning: [14:19:42] WARNING: C:\\buildkite-agent\\builds\\buildkite-windows-cpu-autoscaling-group-i-0015a694724fa8361-1\\xgboost\\xgboost-ci-windows\\src\\learner.cc:740: \n",
      "Parameters: { \"use_label_encoder\" } are not used.\n",
      "\n",
      "  warnings.warn(smsg, UserWarning)\n"
     ]
    },
    {
     "data": {
      "text/html": [
       "<style>#sk-container-id-1 {color: black;background-color: white;}#sk-container-id-1 pre{padding: 0;}#sk-container-id-1 div.sk-toggleable {background-color: white;}#sk-container-id-1 label.sk-toggleable__label {cursor: pointer;display: block;width: 100%;margin-bottom: 0;padding: 0.3em;box-sizing: border-box;text-align: center;}#sk-container-id-1 label.sk-toggleable__label-arrow:before {content: \"▸\";float: left;margin-right: 0.25em;color: #696969;}#sk-container-id-1 label.sk-toggleable__label-arrow:hover:before {color: black;}#sk-container-id-1 div.sk-estimator:hover label.sk-toggleable__label-arrow:before {color: black;}#sk-container-id-1 div.sk-toggleable__content {max-height: 0;max-width: 0;overflow: hidden;text-align: left;background-color: #f0f8ff;}#sk-container-id-1 div.sk-toggleable__content pre {margin: 0.2em;color: black;border-radius: 0.25em;background-color: #f0f8ff;}#sk-container-id-1 input.sk-toggleable__control:checked~div.sk-toggleable__content {max-height: 200px;max-width: 100%;overflow: auto;}#sk-container-id-1 input.sk-toggleable__control:checked~label.sk-toggleable__label-arrow:before {content: \"▾\";}#sk-container-id-1 div.sk-estimator input.sk-toggleable__control:checked~label.sk-toggleable__label {background-color: #d4ebff;}#sk-container-id-1 div.sk-label input.sk-toggleable__control:checked~label.sk-toggleable__label {background-color: #d4ebff;}#sk-container-id-1 input.sk-hidden--visually {border: 0;clip: rect(1px 1px 1px 1px);clip: rect(1px, 1px, 1px, 1px);height: 1px;margin: -1px;overflow: hidden;padding: 0;position: absolute;width: 1px;}#sk-container-id-1 div.sk-estimator {font-family: monospace;background-color: #f0f8ff;border: 1px dotted black;border-radius: 0.25em;box-sizing: border-box;margin-bottom: 0.5em;}#sk-container-id-1 div.sk-estimator:hover {background-color: #d4ebff;}#sk-container-id-1 div.sk-parallel-item::after {content: \"\";width: 100%;border-bottom: 1px solid gray;flex-grow: 1;}#sk-container-id-1 div.sk-label:hover label.sk-toggleable__label {background-color: #d4ebff;}#sk-container-id-1 div.sk-serial::before {content: \"\";position: absolute;border-left: 1px solid gray;box-sizing: border-box;top: 0;bottom: 0;left: 50%;z-index: 0;}#sk-container-id-1 div.sk-serial {display: flex;flex-direction: column;align-items: center;background-color: white;padding-right: 0.2em;padding-left: 0.2em;position: relative;}#sk-container-id-1 div.sk-item {position: relative;z-index: 1;}#sk-container-id-1 div.sk-parallel {display: flex;align-items: stretch;justify-content: center;background-color: white;position: relative;}#sk-container-id-1 div.sk-item::before, #sk-container-id-1 div.sk-parallel-item::before {content: \"\";position: absolute;border-left: 1px solid gray;box-sizing: border-box;top: 0;bottom: 0;left: 50%;z-index: -1;}#sk-container-id-1 div.sk-parallel-item {display: flex;flex-direction: column;z-index: 1;position: relative;background-color: white;}#sk-container-id-1 div.sk-parallel-item:first-child::after {align-self: flex-end;width: 50%;}#sk-container-id-1 div.sk-parallel-item:last-child::after {align-self: flex-start;width: 50%;}#sk-container-id-1 div.sk-parallel-item:only-child::after {width: 0;}#sk-container-id-1 div.sk-dashed-wrapped {border: 1px dashed gray;margin: 0 0.4em 0.5em 0.4em;box-sizing: border-box;padding-bottom: 0.4em;background-color: white;}#sk-container-id-1 div.sk-label label {font-family: monospace;font-weight: bold;display: inline-block;line-height: 1.2em;}#sk-container-id-1 div.sk-label-container {text-align: center;}#sk-container-id-1 div.sk-container {/* jupyter's `normalize.less` sets `[hidden] { display: none; }` but bootstrap.min.css set `[hidden] { display: none !important; }` so we also need the `!important` here to be able to override the default hidden behavior on the sphinx rendered scikit-learn.org. See: https://github.com/scikit-learn/scikit-learn/issues/21755 */display: inline-block !important;position: relative;}#sk-container-id-1 div.sk-text-repr-fallback {display: none;}</style><div id=\"sk-container-id-1\" class=\"sk-top-container\"><div class=\"sk-text-repr-fallback\"><pre>GridSearchCV(cv=5,\n",
       "             estimator=Pipeline(steps=[(&#x27;preprocessor&#x27;,\n",
       "                                        ColumnTransformer(transformers=[(&#x27;cat&#x27;,\n",
       "                                                                         OneHotEncoder(handle_unknown=&#x27;ignore&#x27;),\n",
       "                                                                         Index([&#x27;propertyType&#x27;, &#x27;municipality&#x27;, &#x27;status&#x27;, &#x27;typology&#x27;, &#x27;subtitle&#x27;,\n",
       "       &#x27;floor&#x27;],\n",
       "      dtype=&#x27;object&#x27;)),\n",
       "                                                                        (&#x27;num&#x27;,\n",
       "                                                                         StandardScaler(),\n",
       "                                                                         Index([&#x27;size&#x27;, &#x27;rooms&#x27;, &#x27;bathrooms&#x27;, &#x27;latitude&#x27;, &#x27;longitude&#x27;, &#x27;priceByArea&#x27;,\n",
       "       &#x27;hasParkingSpace&#x27;, &#x27;isPa...\n",
       "                                                     missing=nan,\n",
       "                                                     monotone_constraints=None,\n",
       "                                                     multi_strategy=None,\n",
       "                                                     n_estimators=None,\n",
       "                                                     n_jobs=None,\n",
       "                                                     num_parallel_tree=None,\n",
       "                                                     random_state=None, ...))]),\n",
       "             n_jobs=-1,\n",
       "             param_grid={&#x27;xgb__colsample_bytree&#x27;: [0.8, 1.0],\n",
       "                         &#x27;xgb__learning_rate&#x27;: [0.01, 0.1, 0.2],\n",
       "                         &#x27;xgb__max_depth&#x27;: [3, 6, 9],\n",
       "                         &#x27;xgb__n_estimators&#x27;: [100, 200, 300],\n",
       "                         &#x27;xgb__subsample&#x27;: [0.8, 1.0]},\n",
       "             scoring=&#x27;neg_mean_squared_error&#x27;, verbose=1)</pre><b>In a Jupyter environment, please rerun this cell to show the HTML representation or trust the notebook. <br />On GitHub, the HTML representation is unable to render, please try loading this page with nbviewer.org.</b></div><div class=\"sk-container\" hidden><div class=\"sk-item sk-dashed-wrapped\"><div class=\"sk-label-container\"><div class=\"sk-label sk-toggleable\"><input class=\"sk-toggleable__control sk-hidden--visually\" id=\"sk-estimator-id-1\" type=\"checkbox\" ><label for=\"sk-estimator-id-1\" class=\"sk-toggleable__label sk-toggleable__label-arrow\">GridSearchCV</label><div class=\"sk-toggleable__content\"><pre>GridSearchCV(cv=5,\n",
       "             estimator=Pipeline(steps=[(&#x27;preprocessor&#x27;,\n",
       "                                        ColumnTransformer(transformers=[(&#x27;cat&#x27;,\n",
       "                                                                         OneHotEncoder(handle_unknown=&#x27;ignore&#x27;),\n",
       "                                                                         Index([&#x27;propertyType&#x27;, &#x27;municipality&#x27;, &#x27;status&#x27;, &#x27;typology&#x27;, &#x27;subtitle&#x27;,\n",
       "       &#x27;floor&#x27;],\n",
       "      dtype=&#x27;object&#x27;)),\n",
       "                                                                        (&#x27;num&#x27;,\n",
       "                                                                         StandardScaler(),\n",
       "                                                                         Index([&#x27;size&#x27;, &#x27;rooms&#x27;, &#x27;bathrooms&#x27;, &#x27;latitude&#x27;, &#x27;longitude&#x27;, &#x27;priceByArea&#x27;,\n",
       "       &#x27;hasParkingSpace&#x27;, &#x27;isPa...\n",
       "                                                     missing=nan,\n",
       "                                                     monotone_constraints=None,\n",
       "                                                     multi_strategy=None,\n",
       "                                                     n_estimators=None,\n",
       "                                                     n_jobs=None,\n",
       "                                                     num_parallel_tree=None,\n",
       "                                                     random_state=None, ...))]),\n",
       "             n_jobs=-1,\n",
       "             param_grid={&#x27;xgb__colsample_bytree&#x27;: [0.8, 1.0],\n",
       "                         &#x27;xgb__learning_rate&#x27;: [0.01, 0.1, 0.2],\n",
       "                         &#x27;xgb__max_depth&#x27;: [3, 6, 9],\n",
       "                         &#x27;xgb__n_estimators&#x27;: [100, 200, 300],\n",
       "                         &#x27;xgb__subsample&#x27;: [0.8, 1.0]},\n",
       "             scoring=&#x27;neg_mean_squared_error&#x27;, verbose=1)</pre></div></div></div><div class=\"sk-parallel\"><div class=\"sk-parallel-item\"><div class=\"sk-item\"><div class=\"sk-label-container\"><div class=\"sk-label sk-toggleable\"><input class=\"sk-toggleable__control sk-hidden--visually\" id=\"sk-estimator-id-2\" type=\"checkbox\" ><label for=\"sk-estimator-id-2\" class=\"sk-toggleable__label sk-toggleable__label-arrow\">estimator: Pipeline</label><div class=\"sk-toggleable__content\"><pre>Pipeline(steps=[(&#x27;preprocessor&#x27;,\n",
       "                 ColumnTransformer(transformers=[(&#x27;cat&#x27;,\n",
       "                                                  OneHotEncoder(handle_unknown=&#x27;ignore&#x27;),\n",
       "                                                  Index([&#x27;propertyType&#x27;, &#x27;municipality&#x27;, &#x27;status&#x27;, &#x27;typology&#x27;, &#x27;subtitle&#x27;,\n",
       "       &#x27;floor&#x27;],\n",
       "      dtype=&#x27;object&#x27;)),\n",
       "                                                 (&#x27;num&#x27;, StandardScaler(),\n",
       "                                                  Index([&#x27;size&#x27;, &#x27;rooms&#x27;, &#x27;bathrooms&#x27;, &#x27;latitude&#x27;, &#x27;longitude&#x27;, &#x27;priceByArea&#x27;,\n",
       "       &#x27;hasParkingSpace&#x27;, &#x27;isParkingSpaceIncludedInPrice&#x27;, &#x27;...\n",
       "                              feature_types=None, gamma=None, grow_policy=None,\n",
       "                              importance_type=None,\n",
       "                              interaction_constraints=None, learning_rate=None,\n",
       "                              max_bin=None, max_cat_threshold=None,\n",
       "                              max_cat_to_onehot=None, max_delta_step=None,\n",
       "                              max_depth=None, max_leaves=None,\n",
       "                              min_child_weight=None, missing=nan,\n",
       "                              monotone_constraints=None, multi_strategy=None,\n",
       "                              n_estimators=None, n_jobs=None,\n",
       "                              num_parallel_tree=None, random_state=None, ...))])</pre></div></div></div><div class=\"sk-serial\"><div class=\"sk-item\"><div class=\"sk-serial\"><div class=\"sk-item sk-dashed-wrapped\"><div class=\"sk-label-container\"><div class=\"sk-label sk-toggleable\"><input class=\"sk-toggleable__control sk-hidden--visually\" id=\"sk-estimator-id-3\" type=\"checkbox\" ><label for=\"sk-estimator-id-3\" class=\"sk-toggleable__label sk-toggleable__label-arrow\">preprocessor: ColumnTransformer</label><div class=\"sk-toggleable__content\"><pre>ColumnTransformer(transformers=[(&#x27;cat&#x27;, OneHotEncoder(handle_unknown=&#x27;ignore&#x27;),\n",
       "                                 Index([&#x27;propertyType&#x27;, &#x27;municipality&#x27;, &#x27;status&#x27;, &#x27;typology&#x27;, &#x27;subtitle&#x27;,\n",
       "       &#x27;floor&#x27;],\n",
       "      dtype=&#x27;object&#x27;)),\n",
       "                                (&#x27;num&#x27;, StandardScaler(),\n",
       "                                 Index([&#x27;size&#x27;, &#x27;rooms&#x27;, &#x27;bathrooms&#x27;, &#x27;latitude&#x27;, &#x27;longitude&#x27;, &#x27;priceByArea&#x27;,\n",
       "       &#x27;hasParkingSpace&#x27;, &#x27;isParkingSpaceIncludedInPrice&#x27;, &#x27;exterior&#x27;,\n",
       "       &#x27;hasLift&#x27;],\n",
       "      dtype=&#x27;object&#x27;))])</pre></div></div></div><div class=\"sk-parallel\"><div class=\"sk-parallel-item\"><div class=\"sk-item\"><div class=\"sk-label-container\"><div class=\"sk-label sk-toggleable\"><input class=\"sk-toggleable__control sk-hidden--visually\" id=\"sk-estimator-id-4\" type=\"checkbox\" ><label for=\"sk-estimator-id-4\" class=\"sk-toggleable__label sk-toggleable__label-arrow\">cat</label><div class=\"sk-toggleable__content\"><pre>Index([&#x27;propertyType&#x27;, &#x27;municipality&#x27;, &#x27;status&#x27;, &#x27;typology&#x27;, &#x27;subtitle&#x27;,\n",
       "       &#x27;floor&#x27;],\n",
       "      dtype=&#x27;object&#x27;)</pre></div></div></div><div class=\"sk-serial\"><div class=\"sk-item\"><div class=\"sk-estimator sk-toggleable\"><input class=\"sk-toggleable__control sk-hidden--visually\" id=\"sk-estimator-id-5\" type=\"checkbox\" ><label for=\"sk-estimator-id-5\" class=\"sk-toggleable__label sk-toggleable__label-arrow\">OneHotEncoder</label><div class=\"sk-toggleable__content\"><pre>OneHotEncoder(handle_unknown=&#x27;ignore&#x27;)</pre></div></div></div></div></div></div><div class=\"sk-parallel-item\"><div class=\"sk-item\"><div class=\"sk-label-container\"><div class=\"sk-label sk-toggleable\"><input class=\"sk-toggleable__control sk-hidden--visually\" id=\"sk-estimator-id-6\" type=\"checkbox\" ><label for=\"sk-estimator-id-6\" class=\"sk-toggleable__label sk-toggleable__label-arrow\">num</label><div class=\"sk-toggleable__content\"><pre>Index([&#x27;size&#x27;, &#x27;rooms&#x27;, &#x27;bathrooms&#x27;, &#x27;latitude&#x27;, &#x27;longitude&#x27;, &#x27;priceByArea&#x27;,\n",
       "       &#x27;hasParkingSpace&#x27;, &#x27;isParkingSpaceIncludedInPrice&#x27;, &#x27;exterior&#x27;,\n",
       "       &#x27;hasLift&#x27;],\n",
       "      dtype=&#x27;object&#x27;)</pre></div></div></div><div class=\"sk-serial\"><div class=\"sk-item\"><div class=\"sk-estimator sk-toggleable\"><input class=\"sk-toggleable__control sk-hidden--visually\" id=\"sk-estimator-id-7\" type=\"checkbox\" ><label for=\"sk-estimator-id-7\" class=\"sk-toggleable__label sk-toggleable__label-arrow\">StandardScaler</label><div class=\"sk-toggleable__content\"><pre>StandardScaler()</pre></div></div></div></div></div></div></div></div><div class=\"sk-item\"><div class=\"sk-estimator sk-toggleable\"><input class=\"sk-toggleable__control sk-hidden--visually\" id=\"sk-estimator-id-8\" type=\"checkbox\" ><label for=\"sk-estimator-id-8\" class=\"sk-toggleable__label sk-toggleable__label-arrow\">XGBRegressor</label><div class=\"sk-toggleable__content\"><pre>XGBRegressor(base_score=None, booster=None, callbacks=None,\n",
       "             colsample_bylevel=None, colsample_bynode=None,\n",
       "             colsample_bytree=None, device=None, early_stopping_rounds=None,\n",
       "             enable_categorical=False, eval_metric=None, feature_types=None,\n",
       "             gamma=None, grow_policy=None, importance_type=None,\n",
       "             interaction_constraints=None, learning_rate=None, max_bin=None,\n",
       "             max_cat_threshold=None, max_cat_to_onehot=None,\n",
       "             max_delta_step=None, max_depth=None, max_leaves=None,\n",
       "             min_child_weight=None, missing=nan, monotone_constraints=None,\n",
       "             multi_strategy=None, n_estimators=None, n_jobs=None,\n",
       "             num_parallel_tree=None, random_state=None, ...)</pre></div></div></div></div></div></div></div></div></div></div></div></div>"
      ],
      "text/plain": [
       "GridSearchCV(cv=5,\n",
       "             estimator=Pipeline(steps=[('preprocessor',\n",
       "                                        ColumnTransformer(transformers=[('cat',\n",
       "                                                                         OneHotEncoder(handle_unknown='ignore'),\n",
       "                                                                         Index(['propertyType', 'municipality', 'status', 'typology', 'subtitle',\n",
       "       'floor'],\n",
       "      dtype='object')),\n",
       "                                                                        ('num',\n",
       "                                                                         StandardScaler(),\n",
       "                                                                         Index(['size', 'rooms', 'bathrooms', 'latitude', 'longitude', 'priceByArea',\n",
       "       'hasParkingSpace', 'isPa...\n",
       "                                                     missing=nan,\n",
       "                                                     monotone_constraints=None,\n",
       "                                                     multi_strategy=None,\n",
       "                                                     n_estimators=None,\n",
       "                                                     n_jobs=None,\n",
       "                                                     num_parallel_tree=None,\n",
       "                                                     random_state=None, ...))]),\n",
       "             n_jobs=-1,\n",
       "             param_grid={'xgb__colsample_bytree': [0.8, 1.0],\n",
       "                         'xgb__learning_rate': [0.01, 0.1, 0.2],\n",
       "                         'xgb__max_depth': [3, 6, 9],\n",
       "                         'xgb__n_estimators': [100, 200, 300],\n",
       "                         'xgb__subsample': [0.8, 1.0]},\n",
       "             scoring='neg_mean_squared_error', verbose=1)"
      ]
     },
     "execution_count": 40,
     "metadata": {},
     "output_type": "execute_result"
    }
   ],
   "source": [
    "grid_search.fit(X_train, y_train)"
   ]
  },
  {
   "cell_type": "code",
   "execution_count": 41,
   "id": "3f7258b3",
   "metadata": {},
   "outputs": [
    {
     "data": {
      "text/plain": [
       "{'xgb__colsample_bytree': 1.0,\n",
       " 'xgb__learning_rate': 0.1,\n",
       " 'xgb__max_depth': 6,\n",
       " 'xgb__n_estimators': 300,\n",
       " 'xgb__subsample': 0.8}"
      ]
     },
     "execution_count": 41,
     "metadata": {},
     "output_type": "execute_result"
    }
   ],
   "source": [
    "grid_search.best_params_"
   ]
  },
  {
   "cell_type": "code",
   "execution_count": 42,
   "id": "fff56f00",
   "metadata": {},
   "outputs": [],
   "source": [
    "classifiersXGBRegressorOptimizado = {\n",
    "    'XGBRegressor_Optimizado':XGBRegressor(objective='reg:squarederror', use_label_encoder=False,colsample_bytree=1.0,learning_rate=0.1,max_depth=6, n_estimators=300,subsample=0.8  )\n",
    "}"
   ]
  },
  {
   "cell_type": "code",
   "execution_count": 43,
   "id": "a95e217c",
   "metadata": {},
   "outputs": [
    {
     "name": "stdout",
     "output_type": "stream",
     "text": [
      "Iniciar entrenamiento y evaluacion modelo 'XGBRegressor_Optimizado'\n"
     ]
    },
    {
     "name": "stderr",
     "output_type": "stream",
     "text": [
      "C:\\Users\\Arnold\\anaconda3\\lib\\site-packages\\xgboost\\core.py:158: UserWarning: [14:19:54] WARNING: C:\\buildkite-agent\\builds\\buildkite-windows-cpu-autoscaling-group-i-0015a694724fa8361-1\\xgboost\\xgboost-ci-windows\\src\\learner.cc:740: \n",
      "Parameters: { \"use_label_encoder\" } are not used.\n",
      "\n",
      "  warnings.warn(smsg, UserWarning)\n",
      "C:\\Users\\Arnold\\anaconda3\\lib\\site-packages\\xgboost\\core.py:158: UserWarning: [14:19:54] WARNING: C:\\buildkite-agent\\builds\\buildkite-windows-cpu-autoscaling-group-i-0015a694724fa8361-1\\xgboost\\xgboost-ci-windows\\src\\learner.cc:740: \n",
      "Parameters: { \"use_label_encoder\" } are not used.\n",
      "\n",
      "  warnings.warn(smsg, UserWarning)\n",
      "C:\\Users\\Arnold\\anaconda3\\lib\\site-packages\\xgboost\\core.py:158: UserWarning: [14:19:54] WARNING: C:\\buildkite-agent\\builds\\buildkite-windows-cpu-autoscaling-group-i-0015a694724fa8361-1\\xgboost\\xgboost-ci-windows\\src\\learner.cc:740: \n",
      "Parameters: { \"use_label_encoder\" } are not used.\n",
      "\n",
      "  warnings.warn(smsg, UserWarning)\n",
      "C:\\Users\\Arnold\\anaconda3\\lib\\site-packages\\xgboost\\core.py:158: UserWarning: [14:19:54] WARNING: C:\\buildkite-agent\\builds\\buildkite-windows-cpu-autoscaling-group-i-0015a694724fa8361-1\\xgboost\\xgboost-ci-windows\\src\\learner.cc:740: \n",
      "Parameters: { \"use_label_encoder\" } are not used.\n",
      "\n",
      "  warnings.warn(smsg, UserWarning)\n",
      "C:\\Users\\Arnold\\anaconda3\\lib\\site-packages\\xgboost\\core.py:158: UserWarning: [14:19:55] WARNING: C:\\buildkite-agent\\builds\\buildkite-windows-cpu-autoscaling-group-i-0015a694724fa8361-1\\xgboost\\xgboost-ci-windows\\src\\learner.cc:740: \n",
      "Parameters: { \"use_label_encoder\" } are not used.\n",
      "\n",
      "  warnings.warn(smsg, UserWarning)\n",
      "C:\\Users\\Arnold\\anaconda3\\lib\\site-packages\\xgboost\\core.py:158: UserWarning: [14:19:55] WARNING: C:\\buildkite-agent\\builds\\buildkite-windows-cpu-autoscaling-group-i-0015a694724fa8361-1\\xgboost\\xgboost-ci-windows\\src\\learner.cc:740: \n",
      "Parameters: { \"use_label_encoder\" } are not used.\n",
      "\n",
      "  warnings.warn(smsg, UserWarning)\n",
      "C:\\Users\\Arnold\\anaconda3\\lib\\site-packages\\xgboost\\core.py:158: UserWarning: [14:19:55] WARNING: C:\\buildkite-agent\\builds\\buildkite-windows-cpu-autoscaling-group-i-0015a694724fa8361-1\\xgboost\\xgboost-ci-windows\\src\\learner.cc:740: \n",
      "Parameters: { \"use_label_encoder\" } are not used.\n",
      "\n",
      "  warnings.warn(smsg, UserWarning)\n",
      "C:\\Users\\Arnold\\anaconda3\\lib\\site-packages\\xgboost\\core.py:158: UserWarning: [14:19:56] WARNING: C:\\buildkite-agent\\builds\\buildkite-windows-cpu-autoscaling-group-i-0015a694724fa8361-1\\xgboost\\xgboost-ci-windows\\src\\learner.cc:740: \n",
      "Parameters: { \"use_label_encoder\" } are not used.\n",
      "\n",
      "  warnings.warn(smsg, UserWarning)\n",
      "C:\\Users\\Arnold\\anaconda3\\lib\\site-packages\\xgboost\\core.py:158: UserWarning: [14:19:56] WARNING: C:\\buildkite-agent\\builds\\buildkite-windows-cpu-autoscaling-group-i-0015a694724fa8361-1\\xgboost\\xgboost-ci-windows\\src\\learner.cc:740: \n",
      "Parameters: { \"use_label_encoder\" } are not used.\n",
      "\n",
      "  warnings.warn(smsg, UserWarning)\n",
      "C:\\Users\\Arnold\\anaconda3\\lib\\site-packages\\xgboost\\core.py:158: UserWarning: [14:19:56] WARNING: C:\\buildkite-agent\\builds\\buildkite-windows-cpu-autoscaling-group-i-0015a694724fa8361-1\\xgboost\\xgboost-ci-windows\\src\\learner.cc:740: \n",
      "Parameters: { \"use_label_encoder\" } are not used.\n",
      "\n",
      "  warnings.warn(smsg, UserWarning)\n",
      "C:\\Users\\Arnold\\anaconda3\\lib\\site-packages\\xgboost\\core.py:158: UserWarning: [14:19:57] WARNING: C:\\buildkite-agent\\builds\\buildkite-windows-cpu-autoscaling-group-i-0015a694724fa8361-1\\xgboost\\xgboost-ci-windows\\src\\learner.cc:740: \n",
      "Parameters: { \"use_label_encoder\" } are not used.\n",
      "\n",
      "  warnings.warn(smsg, UserWarning)\n",
      "C:\\Users\\Arnold\\anaconda3\\lib\\site-packages\\xgboost\\core.py:158: UserWarning: [14:19:57] WARNING: C:\\buildkite-agent\\builds\\buildkite-windows-cpu-autoscaling-group-i-0015a694724fa8361-1\\xgboost\\xgboost-ci-windows\\src\\learner.cc:740: \n",
      "Parameters: { \"use_label_encoder\" } are not used.\n",
      "\n",
      "  warnings.warn(smsg, UserWarning)\n",
      "C:\\Users\\Arnold\\anaconda3\\lib\\site-packages\\xgboost\\core.py:158: UserWarning: [14:19:57] WARNING: C:\\buildkite-agent\\builds\\buildkite-windows-cpu-autoscaling-group-i-0015a694724fa8361-1\\xgboost\\xgboost-ci-windows\\src\\learner.cc:740: \n",
      "Parameters: { \"use_label_encoder\" } are not used.\n",
      "\n",
      "  warnings.warn(smsg, UserWarning)\n",
      "C:\\Users\\Arnold\\anaconda3\\lib\\site-packages\\xgboost\\core.py:158: UserWarning: [14:19:57] WARNING: C:\\buildkite-agent\\builds\\buildkite-windows-cpu-autoscaling-group-i-0015a694724fa8361-1\\xgboost\\xgboost-ci-windows\\src\\learner.cc:740: \n",
      "Parameters: { \"use_label_encoder\" } are not used.\n",
      "\n",
      "  warnings.warn(smsg, UserWarning)\n",
      "C:\\Users\\Arnold\\anaconda3\\lib\\site-packages\\xgboost\\core.py:158: UserWarning: [14:19:58] WARNING: C:\\buildkite-agent\\builds\\buildkite-windows-cpu-autoscaling-group-i-0015a694724fa8361-1\\xgboost\\xgboost-ci-windows\\src\\learner.cc:740: \n",
      "Parameters: { \"use_label_encoder\" } are not used.\n",
      "\n",
      "  warnings.warn(smsg, UserWarning)\n"
     ]
    },
    {
     "name": "stdout",
     "output_type": "stream",
     "text": [
      "XGBRegressor_Optimizado - Mean score RMSE: 10937.8233\n",
      "XGBRegressor_Optimizado - score RMSE: [ 9086.17484508 10238.79586614 14717.5490455   9779.10362955\n",
      " 10867.49336345]\n",
      "XGBRegressor_Optimizado - Standard deviation RMSE: 1977.4299299717911\n",
      "-----------------------------------------------------\n",
      "XGBRegressor_Optimizado - Mean score MAE: 6100.1039\n",
      "XGBRegressor_Optimizado - score MAE: [5715.04829205 5675.43886456 6823.44149622 5925.62637206 6360.96466722]\n",
      "XGBRegressor_Optimizado - Standard deviation MAE: 435.9624385827173\n",
      "-----------------------------------------------------\n",
      "XGBRegressor_Optimizado - Mean score R2: 0.9960\n",
      "XGBRegressor_Optimizado - score R2: [0.99696366 0.99665689 0.99324958 0.99637798 0.99665483]\n",
      "XGBRegressor_Optimizado - Standard deviation R2: 0.0013780224834583465\n"
     ]
    },
    {
     "name": "stderr",
     "output_type": "stream",
     "text": [
      "C:\\Users\\Arnold\\anaconda3\\lib\\site-packages\\xgboost\\core.py:158: UserWarning: [14:19:58] WARNING: C:\\buildkite-agent\\builds\\buildkite-windows-cpu-autoscaling-group-i-0015a694724fa8361-1\\xgboost\\xgboost-ci-windows\\src\\learner.cc:740: \n",
      "Parameters: { \"use_label_encoder\" } are not used.\n",
      "\n",
      "  warnings.warn(smsg, UserWarning)\n"
     ]
    },
    {
     "name": "stdout",
     "output_type": "stream",
     "text": [
      "Modelo guardado con éxito en 'modelos/XGBRegressor_Optimizado.pkl'\n",
      "Fin entrenamiento y evaluacion modelo 'XGBRegressor_Optimizado'\n"
     ]
    }
   ],
   "source": [
    "crear_modelo(X_train, y_train,classifiersXGBRegressorOptimizado,preprocessor)"
   ]
  },
  {
   "cell_type": "markdown",
   "id": "41f930db",
   "metadata": {},
   "source": [
    "Métricas Modelo Optimizado"
   ]
  },
  {
   "cell_type": "code",
   "execution_count": 44,
   "id": "b6aa2ff6",
   "metadata": {},
   "outputs": [],
   "source": [
    "metricas_modelo_optimizado_df = pd.read_csv('resultados/resultados_modelos_XGBRegressor_Optimizado.csv', delimiter=',')"
   ]
  },
  {
   "cell_type": "code",
   "execution_count": 45,
   "id": "0a4ee850",
   "metadata": {},
   "outputs": [
    {
     "data": {
      "text/html": [
       "<div>\n",
       "<style scoped>\n",
       "    .dataframe tbody tr th:only-of-type {\n",
       "        vertical-align: middle;\n",
       "    }\n",
       "\n",
       "    .dataframe tbody tr th {\n",
       "        vertical-align: top;\n",
       "    }\n",
       "\n",
       "    .dataframe thead th {\n",
       "        text-align: right;\n",
       "    }\n",
       "</style>\n",
       "<table border=\"1\" class=\"dataframe\">\n",
       "  <thead>\n",
       "    <tr style=\"text-align: right;\">\n",
       "      <th></th>\n",
       "      <th>Modelo</th>\n",
       "      <th>Mean_RMSE</th>\n",
       "      <th>Mean_MAE</th>\n",
       "      <th>Mean_R2</th>\n",
       "    </tr>\n",
       "  </thead>\n",
       "  <tbody>\n",
       "    <tr>\n",
       "      <th>0</th>\n",
       "      <td>XGBRegressor_Optimizado</td>\n",
       "      <td>10937.82335</td>\n",
       "      <td>6100.103938</td>\n",
       "      <td>0.995981</td>\n",
       "    </tr>\n",
       "  </tbody>\n",
       "</table>\n",
       "</div>"
      ],
      "text/plain": [
       "                    Modelo    Mean_RMSE     Mean_MAE   Mean_R2\n",
       "0  XGBRegressor_Optimizado  10937.82335  6100.103938  0.995981"
      ]
     },
     "execution_count": 45,
     "metadata": {},
     "output_type": "execute_result"
    }
   ],
   "source": [
    "metricas_modelo_optimizado_df[['Modelo','Mean_RMSE','Mean_MAE','Mean_R2']].head()"
   ]
  },
  {
   "cell_type": "markdown",
   "id": "ace7666e",
   "metadata": {},
   "source": [
    "### Prueba"
   ]
  },
  {
   "cell_type": "code",
   "execution_count": 46,
   "id": "8b53fe7b",
   "metadata": {},
   "outputs": [],
   "source": [
    "# Ruta al archivo del modelo\n",
    "modelo_path = 'modelos/XGBRegressor_Optimizado.pkl'\n",
    "\n",
    "# Cargar el modelo\n",
    "modelo = joblib.load(modelo_path)"
   ]
  },
  {
   "cell_type": "code",
   "execution_count": 47,
   "id": "c4e18d30",
   "metadata": {},
   "outputs": [],
   "source": [
    "y_pred = modelo.predict(X_test)"
   ]
  },
  {
   "cell_type": "code",
   "execution_count": 48,
   "id": "da2b3c12",
   "metadata": {},
   "outputs": [],
   "source": [
    "resultados_df = X_test\n",
    "resultados_df['price'] = y_test.values\n",
    "resultados_df['price_predict'] = y_pred"
   ]
  },
  {
   "cell_type": "code",
   "execution_count": 49,
   "id": "351b026f",
   "metadata": {},
   "outputs": [
    {
     "data": {
      "text/html": [
       "<div>\n",
       "<style scoped>\n",
       "    .dataframe tbody tr th:only-of-type {\n",
       "        vertical-align: middle;\n",
       "    }\n",
       "\n",
       "    .dataframe tbody tr th {\n",
       "        vertical-align: top;\n",
       "    }\n",
       "\n",
       "    .dataframe thead th {\n",
       "        text-align: right;\n",
       "    }\n",
       "</style>\n",
       "<table border=\"1\" class=\"dataframe\">\n",
       "  <thead>\n",
       "    <tr style=\"text-align: right;\">\n",
       "      <th></th>\n",
       "      <th>propertyType</th>\n",
       "      <th>size</th>\n",
       "      <th>rooms</th>\n",
       "      <th>bathrooms</th>\n",
       "      <th>municipality</th>\n",
       "      <th>latitude</th>\n",
       "      <th>longitude</th>\n",
       "      <th>status</th>\n",
       "      <th>priceByArea</th>\n",
       "      <th>hasParkingSpace</th>\n",
       "      <th>isParkingSpaceIncludedInPrice</th>\n",
       "      <th>typology</th>\n",
       "      <th>subtitle</th>\n",
       "      <th>floor</th>\n",
       "      <th>exterior</th>\n",
       "      <th>hasLift</th>\n",
       "      <th>price</th>\n",
       "      <th>price_predict</th>\n",
       "    </tr>\n",
       "  </thead>\n",
       "  <tbody>\n",
       "    <tr>\n",
       "      <th>2351</th>\n",
       "      <td>flat</td>\n",
       "      <td>88.0</td>\n",
       "      <td>3</td>\n",
       "      <td>1</td>\n",
       "      <td>alcorcón</td>\n",
       "      <td>40.345144</td>\n",
       "      <td>-3.823707</td>\n",
       "      <td>renew</td>\n",
       "      <td>1477.0</td>\n",
       "      <td>0</td>\n",
       "      <td>0</td>\n",
       "      <td>flat</td>\n",
       "      <td>casco antiguo</td>\n",
       "      <td>bajo</td>\n",
       "      <td>1</td>\n",
       "      <td>0</td>\n",
       "      <td>130000.0</td>\n",
       "      <td>140392.171875</td>\n",
       "    </tr>\n",
       "    <tr>\n",
       "      <th>134</th>\n",
       "      <td>chalet</td>\n",
       "      <td>225.0</td>\n",
       "      <td>4</td>\n",
       "      <td>3</td>\n",
       "      <td>arganda</td>\n",
       "      <td>40.312422</td>\n",
       "      <td>-3.442142</td>\n",
       "      <td>good</td>\n",
       "      <td>2000.0</td>\n",
       "      <td>1</td>\n",
       "      <td>1</td>\n",
       "      <td>chalet</td>\n",
       "      <td>los villares</td>\n",
       "      <td>alto</td>\n",
       "      <td>1</td>\n",
       "      <td>0</td>\n",
       "      <td>450000.0</td>\n",
       "      <td>455530.125000</td>\n",
       "    </tr>\n",
       "    <tr>\n",
       "      <th>2298</th>\n",
       "      <td>flat</td>\n",
       "      <td>106.0</td>\n",
       "      <td>3</td>\n",
       "      <td>1</td>\n",
       "      <td>madrid</td>\n",
       "      <td>40.399134</td>\n",
       "      <td>-3.653380</td>\n",
       "      <td>good</td>\n",
       "      <td>1887.0</td>\n",
       "      <td>0</td>\n",
       "      <td>0</td>\n",
       "      <td>flat</td>\n",
       "      <td>numancia</td>\n",
       "      <td>mediano</td>\n",
       "      <td>1</td>\n",
       "      <td>1</td>\n",
       "      <td>200000.0</td>\n",
       "      <td>198118.546875</td>\n",
       "    </tr>\n",
       "    <tr>\n",
       "      <th>1610</th>\n",
       "      <td>flat</td>\n",
       "      <td>75.0</td>\n",
       "      <td>2</td>\n",
       "      <td>1</td>\n",
       "      <td>san lorenzo de el escorial</td>\n",
       "      <td>40.597889</td>\n",
       "      <td>-4.144680</td>\n",
       "      <td>good</td>\n",
       "      <td>2773.0</td>\n",
       "      <td>1</td>\n",
       "      <td>1</td>\n",
       "      <td>flat</td>\n",
       "      <td>abantos - carmelitas</td>\n",
       "      <td>bajo</td>\n",
       "      <td>1</td>\n",
       "      <td>1</td>\n",
       "      <td>208000.0</td>\n",
       "      <td>210127.046875</td>\n",
       "    </tr>\n",
       "    <tr>\n",
       "      <th>990</th>\n",
       "      <td>flat</td>\n",
       "      <td>82.0</td>\n",
       "      <td>3</td>\n",
       "      <td>2</td>\n",
       "      <td>torrejón de ardoz</td>\n",
       "      <td>40.461353</td>\n",
       "      <td>-3.478108</td>\n",
       "      <td>good</td>\n",
       "      <td>2024.0</td>\n",
       "      <td>0</td>\n",
       "      <td>0</td>\n",
       "      <td>flat</td>\n",
       "      <td>noroeste</td>\n",
       "      <td>mediano</td>\n",
       "      <td>0</td>\n",
       "      <td>1</td>\n",
       "      <td>166000.0</td>\n",
       "      <td>168322.796875</td>\n",
       "    </tr>\n",
       "  </tbody>\n",
       "</table>\n",
       "</div>"
      ],
      "text/plain": [
       "     propertyType   size  rooms  bathrooms                municipality  \\\n",
       "2351         flat   88.0      3          1                    alcorcón   \n",
       "134        chalet  225.0      4          3                     arganda   \n",
       "2298         flat  106.0      3          1                      madrid   \n",
       "1610         flat   75.0      2          1  san lorenzo de el escorial   \n",
       "990          flat   82.0      3          2           torrejón de ardoz   \n",
       "\n",
       "       latitude  longitude status  priceByArea  hasParkingSpace  \\\n",
       "2351  40.345144  -3.823707  renew       1477.0                0   \n",
       "134   40.312422  -3.442142   good       2000.0                1   \n",
       "2298  40.399134  -3.653380   good       1887.0                0   \n",
       "1610  40.597889  -4.144680   good       2773.0                1   \n",
       "990   40.461353  -3.478108   good       2024.0                0   \n",
       "\n",
       "      isParkingSpaceIncludedInPrice typology              subtitle    floor  \\\n",
       "2351                              0     flat         casco antiguo     bajo   \n",
       "134                               1   chalet          los villares     alto   \n",
       "2298                              0     flat              numancia  mediano   \n",
       "1610                              1     flat  abantos - carmelitas     bajo   \n",
       "990                               0     flat              noroeste  mediano   \n",
       "\n",
       "      exterior  hasLift     price  price_predict  \n",
       "2351         1        0  130000.0  140392.171875  \n",
       "134          1        0  450000.0  455530.125000  \n",
       "2298         1        1  200000.0  198118.546875  \n",
       "1610         1        1  208000.0  210127.046875  \n",
       "990          0        1  166000.0  168322.796875  "
      ]
     },
     "execution_count": 49,
     "metadata": {},
     "output_type": "execute_result"
    }
   ],
   "source": [
    "resultados_df.head()"
   ]
  },
  {
   "cell_type": "code",
   "execution_count": null,
   "id": "0e11a47b",
   "metadata": {},
   "outputs": [],
   "source": []
  }
 ],
 "metadata": {
  "colab": {
   "machine_shape": "hm",
   "provenance": []
  },
  "kernelspec": {
   "display_name": "Python 3 (ipykernel)",
   "language": "python",
   "name": "python3"
  },
  "language_info": {
   "codemirror_mode": {
    "name": "ipython",
    "version": 3
   },
   "file_extension": ".py",
   "mimetype": "text/x-python",
   "name": "python",
   "nbconvert_exporter": "python",
   "pygments_lexer": "ipython3",
   "version": "3.10.9"
  }
 },
 "nbformat": 4,
 "nbformat_minor": 5
}
